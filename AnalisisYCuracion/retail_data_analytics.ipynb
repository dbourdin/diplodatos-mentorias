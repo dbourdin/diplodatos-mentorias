{
 "cells": [
  {
   "cell_type": "markdown",
   "metadata": {},
   "source": [
    "# Consigna práctico Análisis y Curación: Limpiando un Dataset\n",
    "1. Importando los datos:\n",
    "    - Verificar si no hay problemas en la importación: importar los datos, visualizarlos, análisis de tipos, corrección en los tipos de los datos de entrada.\n",
    "    - Asegurar que el archivo sales posee Ids/Claves únicas. Para el resto de los archivos, ¿tenemos algún atributo que se comporte como clave única?, en caso positivo chequear que no se repite. En caso de no tener una clave única identificatoria, ¿sería relevante asignar una clave única a cada registro?, chequear que no existen datos duplicados para estos casos.\n",
    "    - Despersonalizar los datos y guardarlos en un nuevo archivo. Tener en cuenta nunca modificar los datos crudos u originales.\n",
    "2. Pasos necesarios para limpieza del dataset:\n",
    "    - Etiquetas de variables/columnas: no usar caracteres especiales. Verificar que no haya problemas de codificación/encoding.\n",
    "    - Tratar valores faltantes (NaN).\n",
    "    - Codificar variables: las variables categóricas deberán ser tratadas como variables numéricas.\n",
    "    - Verificar la consistencia de las variables: constatar que los valores de cada atributo tienen sentido, detectar valores que no son consistentes con el resto.\n",
    "    - Identificar valores atípicos en nuestro dataset. ¿Qué es conveniente hacer con ellos? Evaluar cada caso.\n",
    "    - Juntar las columnas de interés en un mismo DataFrame (Sales con Features).\n",
    "    - Para simplificar el problema resamplear los datos ¿Transformar Weekly sales en ventas mensuales?. Graficar la distribución de las ventas mensuales para cada año para 5 tiendas a elección. Comparar sus distribuciones. ¿Se reconoce alguna distribución conocida?\n",
    "    - Analizar correlación entre número departamento y ventas semanales/mensuales, ¿posee alguna incidencia el número de departamento sobre las ventas?, en caso negativo eliminar esta variable de nuestros dataframes.\n",
    "    - Una vez que tenemos las features de interés de nuestro set de datos, aplicar algún método de normalización sobre los mismos, para evitar tener un sesgo de unas variables sobre otra (se pueden utilizar técnicas como z-score/min-max scaling). Guardar el dataset normalizado con un nombre representativo.\n",
    "    - Finalmente, reducir los features de interés mediante sus combinaciones lineales (aplicando Principal Component Analysis). Guardar el dataset con nombre representativo.\n",
    "    - Enumere formas eficientes de guardado y acceso de grandes volúmenes de datos.\n",
    "    - Guardar todos los archivos depurados con nombres representativos.\n",
    "Bonus: entregar el práctico corriendo en una imágen de Docker.\n",
    "\n",
    "Material de lectura recomendado:\n",
    "\n",
    "https://www.machinelearningplus.com/time-series/time-series-analysis-python/\n",
    "\n",
    "https://towardsdatascience.com/playing-with-time-series-data-in-python-959e2485bff8\n",
    "\n",
    "https://sebastianraschka.com/Articles/2014_about_feature_scaling.html"
   ]
  },
  {
   "cell_type": "markdown",
   "metadata": {},
   "source": [
    "## Resolución práctico 2"
   ]
  },
  {
   "cell_type": "code",
   "execution_count": 1,
   "metadata": {},
   "outputs": [],
   "source": [
    "import os\n",
    "import pandas as pd\n",
    "import matplotlib.pyplot as plt\n",
    "import numpy as np\n",
    "import seaborn\n",
    "from scipy import stats"
   ]
  },
  {
   "cell_type": "code",
   "execution_count": 2,
   "metadata": {},
   "outputs": [],
   "source": [
    "CURRENT_DIR = os.path.dirname('__file__')\n",
    "DATASET_PATH = os.path.join(CURRENT_DIR, '../datasets')\n",
    "features = pd.read_csv(os.path.join(DATASET_PATH, 'features.csv'), parse_dates=['Date'])\n",
    "sales = pd.read_csv(os.path.join(DATASET_PATH, 'sales.csv'), parse_dates=['Date'])\n",
    "stores = pd.read_csv(os.path.join(DATASET_PATH, 'stores.csv'))\n",
    "users = pd.read_csv(os.path.join(DATASET_PATH, 'users.csv'))"
   ]
  },
  {
   "cell_type": "markdown",
   "metadata": {},
   "source": [
    "- Primero creamos una copia de los datasets originales."
   ]
  },
  {
   "cell_type": "code",
   "execution_count": 3,
   "metadata": {},
   "outputs": [],
   "source": [
    "sales_1 = sales.copy()\n",
    "stores_1 = stores.copy()\n",
    "features_1 = features.copy()\n",
    "users_1 = users.copy()"
   ]
  },
  {
   "cell_type": "code",
   "execution_count": 4,
   "metadata": {},
   "outputs": [],
   "source": [
    "sales_1.rename(columns={'Sale Id':'Sale_Id'}, inplace=True)\n",
    "#sales_1['Date'] = pd.to_datetime(sales_1['Date'])\n",
    "#features_1['Date'] = pd.to_datetime(features_1['Date'])"
   ]
  },
  {
   "cell_type": "markdown",
   "metadata": {},
   "source": [
    "- Agregamos columna IsMarkdown para los casos en los que hubo descuentos."
   ]
  },
  {
   "cell_type": "code",
   "execution_count": 5,
   "metadata": {},
   "outputs": [],
   "source": [
    "def replace_markdown(val):\n",
    "    return val != 0"
   ]
  },
  {
   "cell_type": "code",
   "execution_count": 6,
   "metadata": {},
   "outputs": [],
   "source": [
    "#Reemplazamos los valores nulos de markdown por 0 en la tabla is_markdown\n",
    "is_markdown = features_1.copy()\n",
    "is_markdown.MarkDown1.fillna(0, inplace=True)\n",
    "is_markdown.MarkDown2.fillna(0, inplace=True)\n",
    "is_markdown.MarkDown3.fillna(0, inplace=True)\n",
    "is_markdown.MarkDown4.fillna(0, inplace=True)\n",
    "is_markdown.MarkDown5.fillna(0, inplace=True)"
   ]
  },
  {
   "cell_type": "code",
   "execution_count": 7,
   "metadata": {},
   "outputs": [],
   "source": [
    "tk = (is_markdown['MarkDown1']+is_markdown['MarkDown2']+is_markdown['MarkDown3']+is_markdown['MarkDown4']+is_markdown['MarkDown5'])\n",
    "\n",
    "is_markdown=is_markdown.assign(IsMarkdown=tk.values)\n",
    "\n",
    "features_1['IsMarkdown']= is_markdown['IsMarkdown'].apply(replace_markdown)"
   ]
  },
  {
   "cell_type": "markdown",
   "metadata": {},
   "source": [
    "- Asegurar que el archivo sales posee Ids/Claves únicas."
   ]
  },
  {
   "cell_type": "code",
   "execution_count": 8,
   "metadata": {},
   "outputs": [
    {
     "data": {
      "text/html": [
       "<div>\n",
       "<style scoped>\n",
       "    .dataframe tbody tr th:only-of-type {\n",
       "        vertical-align: middle;\n",
       "    }\n",
       "\n",
       "    .dataframe tbody tr th {\n",
       "        vertical-align: top;\n",
       "    }\n",
       "\n",
       "    .dataframe thead th {\n",
       "        text-align: right;\n",
       "    }\n",
       "</style>\n",
       "<table border=\"1\" class=\"dataframe\">\n",
       "  <thead>\n",
       "    <tr style=\"text-align: right;\">\n",
       "      <th></th>\n",
       "      <th>Unnamed: 0</th>\n",
       "      <th>Store</th>\n",
       "      <th>Dept</th>\n",
       "      <th>Date</th>\n",
       "      <th>Weekly_Sales</th>\n",
       "      <th>IsHoliday</th>\n",
       "      <th>Sale_Id</th>\n",
       "    </tr>\n",
       "  </thead>\n",
       "  <tbody>\n",
       "    <tr>\n",
       "      <th>425795</th>\n",
       "      <td>425795</td>\n",
       "      <td>45</td>\n",
       "      <td>97</td>\n",
       "      <td>2012-03-08</td>\n",
       "      <td>6779.88</td>\n",
       "      <td>False</td>\n",
       "      <td>421422</td>\n",
       "    </tr>\n",
       "    <tr>\n",
       "      <th>421422</th>\n",
       "      <td>421422</td>\n",
       "      <td>45</td>\n",
       "      <td>97</td>\n",
       "      <td>2012-03-08</td>\n",
       "      <td>6779.88</td>\n",
       "      <td>False</td>\n",
       "      <td>421422</td>\n",
       "    </tr>\n",
       "    <tr>\n",
       "      <th>421263</th>\n",
       "      <td>421263</td>\n",
       "      <td>45</td>\n",
       "      <td>95</td>\n",
       "      <td>2012-04-27</td>\n",
       "      <td>50693.76</td>\n",
       "      <td>False</td>\n",
       "      <td>421263</td>\n",
       "    </tr>\n",
       "    <tr>\n",
       "      <th>425794</th>\n",
       "      <td>425794</td>\n",
       "      <td>45</td>\n",
       "      <td>95</td>\n",
       "      <td>2012-04-27</td>\n",
       "      <td>50693.76</td>\n",
       "      <td>False</td>\n",
       "      <td>421263</td>\n",
       "    </tr>\n",
       "    <tr>\n",
       "      <th>421198</th>\n",
       "      <td>421198</td>\n",
       "      <td>45</td>\n",
       "      <td>95</td>\n",
       "      <td>2011-01-28</td>\n",
       "      <td>45751.50</td>\n",
       "      <td>False</td>\n",
       "      <td>421198</td>\n",
       "    </tr>\n",
       "    <tr>\n",
       "      <th>425793</th>\n",
       "      <td>425793</td>\n",
       "      <td>45</td>\n",
       "      <td>95</td>\n",
       "      <td>2011-01-28</td>\n",
       "      <td>45751.50</td>\n",
       "      <td>False</td>\n",
       "      <td>421198</td>\n",
       "    </tr>\n",
       "    <tr>\n",
       "      <th>421181</th>\n",
       "      <td>421181</td>\n",
       "      <td>45</td>\n",
       "      <td>95</td>\n",
       "      <td>2010-01-10</td>\n",
       "      <td>46860.82</td>\n",
       "      <td>False</td>\n",
       "      <td>421181</td>\n",
       "    </tr>\n",
       "    <tr>\n",
       "      <th>425792</th>\n",
       "      <td>425792</td>\n",
       "      <td>45</td>\n",
       "      <td>95</td>\n",
       "      <td>2010-01-10</td>\n",
       "      <td>46860.82</td>\n",
       "      <td>False</td>\n",
       "      <td>421181</td>\n",
       "    </tr>\n",
       "    <tr>\n",
       "      <th>425791</th>\n",
       "      <td>425791</td>\n",
       "      <td>45</td>\n",
       "      <td>93</td>\n",
       "      <td>2012-10-19</td>\n",
       "      <td>2270.50</td>\n",
       "      <td>NaN</td>\n",
       "      <td>421011</td>\n",
       "    </tr>\n",
       "    <tr>\n",
       "      <th>421011</th>\n",
       "      <td>421011</td>\n",
       "      <td>45</td>\n",
       "      <td>93</td>\n",
       "      <td>2012-10-19</td>\n",
       "      <td>2270.50</td>\n",
       "      <td>NaN</td>\n",
       "      <td>421011</td>\n",
       "    </tr>\n",
       "    <tr>\n",
       "      <th>425790</th>\n",
       "      <td>425790</td>\n",
       "      <td>45</td>\n",
       "      <td>93</td>\n",
       "      <td>2011-04-03</td>\n",
       "      <td>1886.44</td>\n",
       "      <td>False</td>\n",
       "      <td>420926</td>\n",
       "    </tr>\n",
       "    <tr>\n",
       "      <th>420926</th>\n",
       "      <td>420926</td>\n",
       "      <td>45</td>\n",
       "      <td>93</td>\n",
       "      <td>2011-04-03</td>\n",
       "      <td>1886.44</td>\n",
       "      <td>False</td>\n",
       "      <td>420926</td>\n",
       "    </tr>\n",
       "    <tr>\n",
       "      <th>420856</th>\n",
       "      <td>420856</td>\n",
       "      <td>45</td>\n",
       "      <td>92</td>\n",
       "      <td>2012-07-27</td>\n",
       "      <td>44551.11</td>\n",
       "      <td>False</td>\n",
       "      <td>420856</td>\n",
       "    </tr>\n",
       "    <tr>\n",
       "      <th>425789</th>\n",
       "      <td>425789</td>\n",
       "      <td>45</td>\n",
       "      <td>92</td>\n",
       "      <td>2012-07-27</td>\n",
       "      <td>44551.11</td>\n",
       "      <td>False</td>\n",
       "      <td>420856</td>\n",
       "    </tr>\n",
       "    <tr>\n",
       "      <th>420849</th>\n",
       "      <td>420849</td>\n",
       "      <td>45</td>\n",
       "      <td>92</td>\n",
       "      <td>2012-08-06</td>\n",
       "      <td>50688.59</td>\n",
       "      <td>False</td>\n",
       "      <td>420849</td>\n",
       "    </tr>\n",
       "    <tr>\n",
       "      <th>425788</th>\n",
       "      <td>425788</td>\n",
       "      <td>45</td>\n",
       "      <td>92</td>\n",
       "      <td>2012-08-06</td>\n",
       "      <td>50688.59</td>\n",
       "      <td>False</td>\n",
       "      <td>420849</td>\n",
       "    </tr>\n",
       "    <tr>\n",
       "      <th>425787</th>\n",
       "      <td>425787</td>\n",
       "      <td>45</td>\n",
       "      <td>92</td>\n",
       "      <td>2011-11-18</td>\n",
       "      <td>54868.94</td>\n",
       "      <td>False</td>\n",
       "      <td>420820</td>\n",
       "    </tr>\n",
       "    <tr>\n",
       "      <th>420820</th>\n",
       "      <td>420820</td>\n",
       "      <td>45</td>\n",
       "      <td>92</td>\n",
       "      <td>2011-11-18</td>\n",
       "      <td>54868.94</td>\n",
       "      <td>False</td>\n",
       "      <td>420820</td>\n",
       "    </tr>\n",
       "    <tr>\n",
       "      <th>425786</th>\n",
       "      <td>425786</td>\n",
       "      <td>45</td>\n",
       "      <td>92</td>\n",
       "      <td>2010-10-22</td>\n",
       "      <td>46663.68</td>\n",
       "      <td>False</td>\n",
       "      <td>420764</td>\n",
       "    </tr>\n",
       "    <tr>\n",
       "      <th>420764</th>\n",
       "      <td>420764</td>\n",
       "      <td>45</td>\n",
       "      <td>92</td>\n",
       "      <td>2010-10-22</td>\n",
       "      <td>46663.68</td>\n",
       "      <td>False</td>\n",
       "      <td>420764</td>\n",
       "    </tr>\n",
       "    <tr>\n",
       "      <th>425785</th>\n",
       "      <td>425785</td>\n",
       "      <td>45</td>\n",
       "      <td>90</td>\n",
       "      <td>2012-07-20</td>\n",
       "      <td>23035.84</td>\n",
       "      <td>False</td>\n",
       "      <td>420569</td>\n",
       "    </tr>\n",
       "    <tr>\n",
       "      <th>420569</th>\n",
       "      <td>420569</td>\n",
       "      <td>45</td>\n",
       "      <td>90</td>\n",
       "      <td>2012-07-20</td>\n",
       "      <td>23035.84</td>\n",
       "      <td>False</td>\n",
       "      <td>420569</td>\n",
       "    </tr>\n",
       "    <tr>\n",
       "      <th>425784</th>\n",
       "      <td>425784</td>\n",
       "      <td>45</td>\n",
       "      <td>90</td>\n",
       "      <td>2010-05-03</td>\n",
       "      <td>22653.30</td>\n",
       "      <td>False</td>\n",
       "      <td>420445</td>\n",
       "    </tr>\n",
       "    <tr>\n",
       "      <th>420445</th>\n",
       "      <td>420445</td>\n",
       "      <td>45</td>\n",
       "      <td>90</td>\n",
       "      <td>2010-05-03</td>\n",
       "      <td>22653.30</td>\n",
       "      <td>False</td>\n",
       "      <td>420445</td>\n",
       "    </tr>\n",
       "    <tr>\n",
       "      <th>425783</th>\n",
       "      <td>425783</td>\n",
       "      <td>45</td>\n",
       "      <td>87</td>\n",
       "      <td>2012-02-24</td>\n",
       "      <td>7224.30</td>\n",
       "      <td>False</td>\n",
       "      <td>420405</td>\n",
       "    </tr>\n",
       "    <tr>\n",
       "      <th>420405</th>\n",
       "      <td>420405</td>\n",
       "      <td>45</td>\n",
       "      <td>87</td>\n",
       "      <td>2012-02-24</td>\n",
       "      <td>7224.30</td>\n",
       "      <td>False</td>\n",
       "      <td>420405</td>\n",
       "    </tr>\n",
       "    <tr>\n",
       "      <th>425782</th>\n",
       "      <td>425782</td>\n",
       "      <td>45</td>\n",
       "      <td>87</td>\n",
       "      <td>2011-12-23</td>\n",
       "      <td>10939.66</td>\n",
       "      <td>False</td>\n",
       "      <td>420396</td>\n",
       "    </tr>\n",
       "    <tr>\n",
       "      <th>420396</th>\n",
       "      <td>420396</td>\n",
       "      <td>45</td>\n",
       "      <td>87</td>\n",
       "      <td>2011-12-23</td>\n",
       "      <td>10939.66</td>\n",
       "      <td>False</td>\n",
       "      <td>420396</td>\n",
       "    </tr>\n",
       "    <tr>\n",
       "      <th>420320</th>\n",
       "      <td>420320</td>\n",
       "      <td>45</td>\n",
       "      <td>87</td>\n",
       "      <td>2010-09-07</td>\n",
       "      <td>6331.09</td>\n",
       "      <td>NaN</td>\n",
       "      <td>420320</td>\n",
       "    </tr>\n",
       "    <tr>\n",
       "      <th>425781</th>\n",
       "      <td>425781</td>\n",
       "      <td>45</td>\n",
       "      <td>87</td>\n",
       "      <td>2010-09-07</td>\n",
       "      <td>6331.09</td>\n",
       "      <td>NaN</td>\n",
       "      <td>420320</td>\n",
       "    </tr>\n",
       "    <tr>\n",
       "      <th>...</th>\n",
       "      <td>...</td>\n",
       "      <td>...</td>\n",
       "      <td>...</td>\n",
       "      <td>...</td>\n",
       "      <td>...</td>\n",
       "      <td>...</td>\n",
       "      <td>...</td>\n",
       "    </tr>\n",
       "    <tr>\n",
       "      <th>1469</th>\n",
       "      <td>1469</td>\n",
       "      <td>1</td>\n",
       "      <td>11</td>\n",
       "      <td>2010-05-11</td>\n",
       "      <td>25063.26</td>\n",
       "      <td>False</td>\n",
       "      <td>1469</td>\n",
       "    </tr>\n",
       "    <tr>\n",
       "      <th>421584</th>\n",
       "      <td>421584</td>\n",
       "      <td>1</td>\n",
       "      <td>11</td>\n",
       "      <td>2010-05-11</td>\n",
       "      <td>25063.26</td>\n",
       "      <td>False</td>\n",
       "      <td>1469</td>\n",
       "    </tr>\n",
       "    <tr>\n",
       "      <th>421583</th>\n",
       "      <td>421583</td>\n",
       "      <td>1</td>\n",
       "      <td>11</td>\n",
       "      <td>2010-03-26</td>\n",
       "      <td>17592.13</td>\n",
       "      <td>False</td>\n",
       "      <td>1437</td>\n",
       "    </tr>\n",
       "    <tr>\n",
       "      <th>1437</th>\n",
       "      <td>1437</td>\n",
       "      <td>1</td>\n",
       "      <td>11</td>\n",
       "      <td>2010-03-26</td>\n",
       "      <td>17592.13</td>\n",
       "      <td>False</td>\n",
       "      <td>1437</td>\n",
       "    </tr>\n",
       "    <tr>\n",
       "      <th>421582</th>\n",
       "      <td>421582</td>\n",
       "      <td>1</td>\n",
       "      <td>10</td>\n",
       "      <td>2011-06-24</td>\n",
       "      <td>29831.79</td>\n",
       "      <td>False</td>\n",
       "      <td>1359</td>\n",
       "    </tr>\n",
       "    <tr>\n",
       "      <th>1359</th>\n",
       "      <td>1359</td>\n",
       "      <td>1</td>\n",
       "      <td>10</td>\n",
       "      <td>2011-06-24</td>\n",
       "      <td>29831.79</td>\n",
       "      <td>False</td>\n",
       "      <td>1359</td>\n",
       "    </tr>\n",
       "    <tr>\n",
       "      <th>421581</th>\n",
       "      <td>421581</td>\n",
       "      <td>1</td>\n",
       "      <td>10</td>\n",
       "      <td>2010-12-11</td>\n",
       "      <td>26288.47</td>\n",
       "      <td>False</td>\n",
       "      <td>1327</td>\n",
       "    </tr>\n",
       "    <tr>\n",
       "      <th>1327</th>\n",
       "      <td>1327</td>\n",
       "      <td>1</td>\n",
       "      <td>10</td>\n",
       "      <td>2010-12-11</td>\n",
       "      <td>26288.47</td>\n",
       "      <td>False</td>\n",
       "      <td>1327</td>\n",
       "    </tr>\n",
       "    <tr>\n",
       "      <th>421580</th>\n",
       "      <td>421580</td>\n",
       "      <td>1</td>\n",
       "      <td>5</td>\n",
       "      <td>2011-10-28</td>\n",
       "      <td>26391.79</td>\n",
       "      <td>False</td>\n",
       "      <td>662</td>\n",
       "    </tr>\n",
       "    <tr>\n",
       "      <th>662</th>\n",
       "      <td>662</td>\n",
       "      <td>1</td>\n",
       "      <td>5</td>\n",
       "      <td>2011-10-28</td>\n",
       "      <td>26391.79</td>\n",
       "      <td>False</td>\n",
       "      <td>662</td>\n",
       "    </tr>\n",
       "    <tr>\n",
       "      <th>421579</th>\n",
       "      <td>421579</td>\n",
       "      <td>1</td>\n",
       "      <td>5</td>\n",
       "      <td>2011-07-29</td>\n",
       "      <td>17406.68</td>\n",
       "      <td>False</td>\n",
       "      <td>649</td>\n",
       "    </tr>\n",
       "    <tr>\n",
       "      <th>649</th>\n",
       "      <td>649</td>\n",
       "      <td>1</td>\n",
       "      <td>5</td>\n",
       "      <td>2011-07-29</td>\n",
       "      <td>17406.68</td>\n",
       "      <td>False</td>\n",
       "      <td>649</td>\n",
       "    </tr>\n",
       "    <tr>\n",
       "      <th>421578</th>\n",
       "      <td>421578</td>\n",
       "      <td>1</td>\n",
       "      <td>4</td>\n",
       "      <td>2012-07-20</td>\n",
       "      <td>38080.05</td>\n",
       "      <td>False</td>\n",
       "      <td>557</td>\n",
       "    </tr>\n",
       "    <tr>\n",
       "      <th>557</th>\n",
       "      <td>557</td>\n",
       "      <td>1</td>\n",
       "      <td>4</td>\n",
       "      <td>2012-07-20</td>\n",
       "      <td>38080.05</td>\n",
       "      <td>False</td>\n",
       "      <td>557</td>\n",
       "    </tr>\n",
       "    <tr>\n",
       "      <th>421577</th>\n",
       "      <td>421577</td>\n",
       "      <td>1</td>\n",
       "      <td>4</td>\n",
       "      <td>2012-01-13</td>\n",
       "      <td>36582.36</td>\n",
       "      <td>False</td>\n",
       "      <td>530</td>\n",
       "    </tr>\n",
       "    <tr>\n",
       "      <th>530</th>\n",
       "      <td>530</td>\n",
       "      <td>1</td>\n",
       "      <td>4</td>\n",
       "      <td>2012-01-13</td>\n",
       "      <td>36582.36</td>\n",
       "      <td>False</td>\n",
       "      <td>530</td>\n",
       "    </tr>\n",
       "    <tr>\n",
       "      <th>504</th>\n",
       "      <td>504</td>\n",
       "      <td>1</td>\n",
       "      <td>4</td>\n",
       "      <td>2011-07-15</td>\n",
       "      <td>33930.80</td>\n",
       "      <td>False</td>\n",
       "      <td>504</td>\n",
       "    </tr>\n",
       "    <tr>\n",
       "      <th>421576</th>\n",
       "      <td>421576</td>\n",
       "      <td>1</td>\n",
       "      <td>4</td>\n",
       "      <td>2011-07-15</td>\n",
       "      <td>33930.80</td>\n",
       "      <td>False</td>\n",
       "      <td>504</td>\n",
       "    </tr>\n",
       "    <tr>\n",
       "      <th>421575</th>\n",
       "      <td>421575</td>\n",
       "      <td>1</td>\n",
       "      <td>2</td>\n",
       "      <td>2010-04-16</td>\n",
       "      <td>45025.02</td>\n",
       "      <td>False</td>\n",
       "      <td>153</td>\n",
       "    </tr>\n",
       "    <tr>\n",
       "      <th>153</th>\n",
       "      <td>153</td>\n",
       "      <td>1</td>\n",
       "      <td>2</td>\n",
       "      <td>2010-04-16</td>\n",
       "      <td>45025.02</td>\n",
       "      <td>False</td>\n",
       "      <td>153</td>\n",
       "    </tr>\n",
       "    <tr>\n",
       "      <th>421574</th>\n",
       "      <td>421574</td>\n",
       "      <td>1</td>\n",
       "      <td>2</td>\n",
       "      <td>2010-03-19</td>\n",
       "      <td>43615.49</td>\n",
       "      <td>False</td>\n",
       "      <td>149</td>\n",
       "    </tr>\n",
       "    <tr>\n",
       "      <th>149</th>\n",
       "      <td>149</td>\n",
       "      <td>1</td>\n",
       "      <td>2</td>\n",
       "      <td>2010-03-19</td>\n",
       "      <td>43615.49</td>\n",
       "      <td>False</td>\n",
       "      <td>149</td>\n",
       "    </tr>\n",
       "    <tr>\n",
       "      <th>421573</th>\n",
       "      <td>421573</td>\n",
       "      <td>1</td>\n",
       "      <td>1</td>\n",
       "      <td>2012-10-26</td>\n",
       "      <td>27390.81</td>\n",
       "      <td>False</td>\n",
       "      <td>142</td>\n",
       "    </tr>\n",
       "    <tr>\n",
       "      <th>142</th>\n",
       "      <td>142</td>\n",
       "      <td>1</td>\n",
       "      <td>1</td>\n",
       "      <td>2012-10-26</td>\n",
       "      <td>27390.81</td>\n",
       "      <td>False</td>\n",
       "      <td>142</td>\n",
       "    </tr>\n",
       "    <tr>\n",
       "      <th>136</th>\n",
       "      <td>136</td>\n",
       "      <td>1</td>\n",
       "      <td>1</td>\n",
       "      <td>2012-09-14</td>\n",
       "      <td>19616.22</td>\n",
       "      <td>False</td>\n",
       "      <td>136</td>\n",
       "    </tr>\n",
       "    <tr>\n",
       "      <th>421572</th>\n",
       "      <td>421572</td>\n",
       "      <td>1</td>\n",
       "      <td>1</td>\n",
       "      <td>2012-09-14</td>\n",
       "      <td>19616.22</td>\n",
       "      <td>False</td>\n",
       "      <td>136</td>\n",
       "    </tr>\n",
       "    <tr>\n",
       "      <th>421571</th>\n",
       "      <td>421571</td>\n",
       "      <td>1</td>\n",
       "      <td>1</td>\n",
       "      <td>2011-09-09</td>\n",
       "      <td>17746.68</td>\n",
       "      <td>True</td>\n",
       "      <td>83</td>\n",
       "    </tr>\n",
       "    <tr>\n",
       "      <th>83</th>\n",
       "      <td>83</td>\n",
       "      <td>1</td>\n",
       "      <td>1</td>\n",
       "      <td>2011-09-09</td>\n",
       "      <td>17746.68</td>\n",
       "      <td>True</td>\n",
       "      <td>83</td>\n",
       "    </tr>\n",
       "    <tr>\n",
       "      <th>51</th>\n",
       "      <td>51</td>\n",
       "      <td>1</td>\n",
       "      <td>1</td>\n",
       "      <td>2011-01-28</td>\n",
       "      <td>18461.18</td>\n",
       "      <td>False</td>\n",
       "      <td>51</td>\n",
       "    </tr>\n",
       "    <tr>\n",
       "      <th>421570</th>\n",
       "      <td>421570</td>\n",
       "      <td>1</td>\n",
       "      <td>1</td>\n",
       "      <td>2011-01-28</td>\n",
       "      <td>18461.18</td>\n",
       "      <td>False</td>\n",
       "      <td>51</td>\n",
       "    </tr>\n",
       "  </tbody>\n",
       "</table>\n",
       "<p>8452 rows × 7 columns</p>\n",
       "</div>"
      ],
      "text/plain": [
       "        Unnamed: 0  Store  Dept       Date  Weekly_Sales IsHoliday  Sale_Id\n",
       "425795      425795     45    97 2012-03-08       6779.88     False   421422\n",
       "421422      421422     45    97 2012-03-08       6779.88     False   421422\n",
       "421263      421263     45    95 2012-04-27      50693.76     False   421263\n",
       "425794      425794     45    95 2012-04-27      50693.76     False   421263\n",
       "421198      421198     45    95 2011-01-28      45751.50     False   421198\n",
       "425793      425793     45    95 2011-01-28      45751.50     False   421198\n",
       "421181      421181     45    95 2010-01-10      46860.82     False   421181\n",
       "425792      425792     45    95 2010-01-10      46860.82     False   421181\n",
       "425791      425791     45    93 2012-10-19       2270.50       NaN   421011\n",
       "421011      421011     45    93 2012-10-19       2270.50       NaN   421011\n",
       "425790      425790     45    93 2011-04-03       1886.44     False   420926\n",
       "420926      420926     45    93 2011-04-03       1886.44     False   420926\n",
       "420856      420856     45    92 2012-07-27      44551.11     False   420856\n",
       "425789      425789     45    92 2012-07-27      44551.11     False   420856\n",
       "420849      420849     45    92 2012-08-06      50688.59     False   420849\n",
       "425788      425788     45    92 2012-08-06      50688.59     False   420849\n",
       "425787      425787     45    92 2011-11-18      54868.94     False   420820\n",
       "420820      420820     45    92 2011-11-18      54868.94     False   420820\n",
       "425786      425786     45    92 2010-10-22      46663.68     False   420764\n",
       "420764      420764     45    92 2010-10-22      46663.68     False   420764\n",
       "425785      425785     45    90 2012-07-20      23035.84     False   420569\n",
       "420569      420569     45    90 2012-07-20      23035.84     False   420569\n",
       "425784      425784     45    90 2010-05-03      22653.30     False   420445\n",
       "420445      420445     45    90 2010-05-03      22653.30     False   420445\n",
       "425783      425783     45    87 2012-02-24       7224.30     False   420405\n",
       "420405      420405     45    87 2012-02-24       7224.30     False   420405\n",
       "425782      425782     45    87 2011-12-23      10939.66     False   420396\n",
       "420396      420396     45    87 2011-12-23      10939.66     False   420396\n",
       "420320      420320     45    87 2010-09-07       6331.09       NaN   420320\n",
       "425781      425781     45    87 2010-09-07       6331.09       NaN   420320\n",
       "...            ...    ...   ...        ...           ...       ...      ...\n",
       "1469          1469      1    11 2010-05-11      25063.26     False     1469\n",
       "421584      421584      1    11 2010-05-11      25063.26     False     1469\n",
       "421583      421583      1    11 2010-03-26      17592.13     False     1437\n",
       "1437          1437      1    11 2010-03-26      17592.13     False     1437\n",
       "421582      421582      1    10 2011-06-24      29831.79     False     1359\n",
       "1359          1359      1    10 2011-06-24      29831.79     False     1359\n",
       "421581      421581      1    10 2010-12-11      26288.47     False     1327\n",
       "1327          1327      1    10 2010-12-11      26288.47     False     1327\n",
       "421580      421580      1     5 2011-10-28      26391.79     False      662\n",
       "662            662      1     5 2011-10-28      26391.79     False      662\n",
       "421579      421579      1     5 2011-07-29      17406.68     False      649\n",
       "649            649      1     5 2011-07-29      17406.68     False      649\n",
       "421578      421578      1     4 2012-07-20      38080.05     False      557\n",
       "557            557      1     4 2012-07-20      38080.05     False      557\n",
       "421577      421577      1     4 2012-01-13      36582.36     False      530\n",
       "530            530      1     4 2012-01-13      36582.36     False      530\n",
       "504            504      1     4 2011-07-15      33930.80     False      504\n",
       "421576      421576      1     4 2011-07-15      33930.80     False      504\n",
       "421575      421575      1     2 2010-04-16      45025.02     False      153\n",
       "153            153      1     2 2010-04-16      45025.02     False      153\n",
       "421574      421574      1     2 2010-03-19      43615.49     False      149\n",
       "149            149      1     2 2010-03-19      43615.49     False      149\n",
       "421573      421573      1     1 2012-10-26      27390.81     False      142\n",
       "142            142      1     1 2012-10-26      27390.81     False      142\n",
       "136            136      1     1 2012-09-14      19616.22     False      136\n",
       "421572      421572      1     1 2012-09-14      19616.22     False      136\n",
       "421571      421571      1     1 2011-09-09      17746.68      True       83\n",
       "83              83      1     1 2011-09-09      17746.68      True       83\n",
       "51              51      1     1 2011-01-28      18461.18     False       51\n",
       "421570      421570      1     1 2011-01-28      18461.18     False       51\n",
       "\n",
       "[8452 rows x 7 columns]"
      ]
     },
     "execution_count": 8,
     "metadata": {},
     "output_type": "execute_result"
    }
   ],
   "source": [
    "a=sales_1[sales_1.duplicated(subset='Sale_Id', keep=False)]\n",
    "#sales.duplicated(subset='Sale_Id')\n",
    "a.sort_values(by='Sale_Id', ascending=False)"
   ]
  },
  {
   "cell_type": "markdown",
   "metadata": {},
   "source": [
    "Tal como se observa en la tabla anterior, el archivo sales tiene 8452 filas duplicadas.\n",
    "- Para el caso de **features** clave única podría ser la unión de los atributos Store+Date ya que dicha combinacion no debiera tener duplicados.\n",
    "- Para el caso de **stores** la columna Store deberia ser una clave única sin duplicados.\n",
    "- En la tabla **users** el atributo que se comporta como clave unica es la columna users\n"
   ]
  },
  {
   "cell_type": "code",
   "execution_count": 9,
   "metadata": {},
   "outputs": [
    {
     "data": {
      "text/plain": [
       "425796"
      ]
     },
     "execution_count": 9,
     "metadata": {},
     "output_type": "execute_result"
    }
   ],
   "source": [
    "len(sales_1)"
   ]
  },
  {
   "cell_type": "code",
   "execution_count": 10,
   "metadata": {},
   "outputs": [],
   "source": [
    "sales_1.drop_duplicates(subset='Sale_Id', inplace=True)"
   ]
  },
  {
   "cell_type": "raw",
   "metadata": {},
   "source": [
    "stores_1[stores_1.duplicated(subset='Store', keep=False)]\n"
   ]
  },
  {
   "cell_type": "code",
   "execution_count": 11,
   "metadata": {},
   "outputs": [
    {
     "data": {
      "text/html": [
       "<div>\n",
       "<style scoped>\n",
       "    .dataframe tbody tr th:only-of-type {\n",
       "        vertical-align: middle;\n",
       "    }\n",
       "\n",
       "    .dataframe tbody tr th {\n",
       "        vertical-align: top;\n",
       "    }\n",
       "\n",
       "    .dataframe thead th {\n",
       "        text-align: right;\n",
       "    }\n",
       "</style>\n",
       "<table border=\"1\" class=\"dataframe\">\n",
       "  <thead>\n",
       "    <tr style=\"text-align: right;\">\n",
       "      <th></th>\n",
       "      <th>Unnamed: 0</th>\n",
       "      <th>users</th>\n",
       "      <th>stores</th>\n",
       "    </tr>\n",
       "  </thead>\n",
       "  <tbody>\n",
       "  </tbody>\n",
       "</table>\n",
       "</div>"
      ],
      "text/plain": [
       "Empty DataFrame\n",
       "Columns: [Unnamed: 0, users, stores]\n",
       "Index: []"
      ]
     },
     "execution_count": 11,
     "metadata": {},
     "output_type": "execute_result"
    }
   ],
   "source": [
    "users_1[users_1.duplicated(subset='Unnamed: 0', keep=False)]"
   ]
  },
  {
   "cell_type": "code",
   "execution_count": 12,
   "metadata": {},
   "outputs": [
    {
     "data": {
      "text/html": [
       "<div>\n",
       "<style scoped>\n",
       "    .dataframe tbody tr th:only-of-type {\n",
       "        vertical-align: middle;\n",
       "    }\n",
       "\n",
       "    .dataframe tbody tr th {\n",
       "        vertical-align: top;\n",
       "    }\n",
       "\n",
       "    .dataframe thead th {\n",
       "        text-align: right;\n",
       "    }\n",
       "</style>\n",
       "<table border=\"1\" class=\"dataframe\">\n",
       "  <thead>\n",
       "    <tr style=\"text-align: right;\">\n",
       "      <th></th>\n",
       "      <th>Unnamed: 0</th>\n",
       "      <th>users</th>\n",
       "      <th>stores</th>\n",
       "    </tr>\n",
       "  </thead>\n",
       "  <tbody>\n",
       "  </tbody>\n",
       "</table>\n",
       "</div>"
      ],
      "text/plain": [
       "Empty DataFrame\n",
       "Columns: [Unnamed: 0, users, stores]\n",
       "Index: []"
      ]
     },
     "execution_count": 12,
     "metadata": {},
     "output_type": "execute_result"
    }
   ],
   "source": [
    "users_1[users_1.duplicated(subset='users', keep=False)]"
   ]
  },
  {
   "cell_type": "code",
   "execution_count": 13,
   "metadata": {},
   "outputs": [],
   "source": [
    "features_1['Col3']=features_1['Store'].map(str) + features_1['Date'].map(str) #creamos campo de clave unica"
   ]
  },
  {
   "cell_type": "code",
   "execution_count": 14,
   "metadata": {},
   "outputs": [
    {
     "data": {
      "text/html": [
       "<div>\n",
       "<style scoped>\n",
       "    .dataframe tbody tr th:only-of-type {\n",
       "        vertical-align: middle;\n",
       "    }\n",
       "\n",
       "    .dataframe tbody tr th {\n",
       "        vertical-align: top;\n",
       "    }\n",
       "\n",
       "    .dataframe thead th {\n",
       "        text-align: right;\n",
       "    }\n",
       "</style>\n",
       "<table border=\"1\" class=\"dataframe\">\n",
       "  <thead>\n",
       "    <tr style=\"text-align: right;\">\n",
       "      <th></th>\n",
       "      <th>Unnamed: 0</th>\n",
       "      <th>Store</th>\n",
       "      <th>Date</th>\n",
       "      <th>Temperature</th>\n",
       "      <th>Fuel_Price</th>\n",
       "      <th>MarkDown1</th>\n",
       "      <th>MarkDown2</th>\n",
       "      <th>MarkDown3</th>\n",
       "      <th>MarkDown4</th>\n",
       "      <th>MarkDown5</th>\n",
       "      <th>CPI</th>\n",
       "      <th>Unemployment</th>\n",
       "      <th>IsHoliday</th>\n",
       "      <th>IsMarkdown</th>\n",
       "      <th>Col3</th>\n",
       "    </tr>\n",
       "  </thead>\n",
       "  <tbody>\n",
       "  </tbody>\n",
       "</table>\n",
       "</div>"
      ],
      "text/plain": [
       "Empty DataFrame\n",
       "Columns: [Unnamed: 0, Store, Date, Temperature, Fuel_Price, MarkDown1, MarkDown2, MarkDown3, MarkDown4, MarkDown5, CPI, Unemployment, IsHoliday, IsMarkdown, Col3]\n",
       "Index: []"
      ]
     },
     "execution_count": 14,
     "metadata": {},
     "output_type": "execute_result"
    }
   ],
   "source": [
    "features_1[features_1.duplicated(subset='Col3', keep=False)]"
   ]
  },
  {
   "cell_type": "markdown",
   "metadata": {},
   "source": [
    "Tal como puede verse ninguna de estas tres tablas de datos tiene valores duplicados en sus columnas de índices"
   ]
  },
  {
   "cell_type": "markdown",
   "metadata": {},
   "source": [
    "### Despersonalizar los datos y guardarlos en un nuevo archivo"
   ]
  },
  {
   "cell_type": "code",
   "execution_count": 15,
   "metadata": {},
   "outputs": [],
   "source": [
    "# Despersonalizar los datos y guardarlos en un nuevo archivo. Tener en cuenta nunca modificar los datos crudos u originales\n",
    "users1=users[['Unnamed: 0', 'stores']]"
   ]
  },
  {
   "cell_type": "code",
   "execution_count": 16,
   "metadata": {},
   "outputs": [],
   "source": [
    "from hashlib import md5"
   ]
  },
  {
   "cell_type": "code",
   "execution_count": 17,
   "metadata": {},
   "outputs": [],
   "source": [
    "def hashit(val):\n",
    "    return md5(val.encode('utf-8'))\n",
    "\n",
    "users_1['users']=users_1['users'].apply(hashit)\n"
   ]
  },
  {
   "cell_type": "code",
   "execution_count": 18,
   "metadata": {
    "scrolled": true
   },
   "outputs": [
    {
     "data": {
      "text/html": [
       "<div>\n",
       "<style scoped>\n",
       "    .dataframe tbody tr th:only-of-type {\n",
       "        vertical-align: middle;\n",
       "    }\n",
       "\n",
       "    .dataframe tbody tr th {\n",
       "        vertical-align: top;\n",
       "    }\n",
       "\n",
       "    .dataframe thead th {\n",
       "        text-align: right;\n",
       "    }\n",
       "</style>\n",
       "<table border=\"1\" class=\"dataframe\">\n",
       "  <thead>\n",
       "    <tr style=\"text-align: right;\">\n",
       "      <th></th>\n",
       "      <th>Unnamed: 0</th>\n",
       "      <th>users</th>\n",
       "      <th>stores</th>\n",
       "    </tr>\n",
       "  </thead>\n",
       "  <tbody>\n",
       "    <tr>\n",
       "      <th>0</th>\n",
       "      <td>0</td>\n",
       "      <td>&lt;md5 HASH object @ 0x7f0c2d1b93f0&gt;</td>\n",
       "      <td>16-32-7-44</td>\n",
       "    </tr>\n",
       "    <tr>\n",
       "      <th>1</th>\n",
       "      <td>1</td>\n",
       "      <td>&lt;md5 HASH object @ 0x7f0c2d1b9788&gt;</td>\n",
       "      <td>20-37-10-11</td>\n",
       "    </tr>\n",
       "    <tr>\n",
       "      <th>2</th>\n",
       "      <td>2</td>\n",
       "      <td>&lt;md5 HASH object @ 0x7f0c2d1b9d28&gt;</td>\n",
       "      <td>34-14-18-16-29</td>\n",
       "    </tr>\n",
       "    <tr>\n",
       "      <th>3</th>\n",
       "      <td>3</td>\n",
       "      <td>&lt;md5 HASH object @ 0x7f0c2d1b9620&gt;</td>\n",
       "      <td>22-14-39-25</td>\n",
       "    </tr>\n",
       "    <tr>\n",
       "      <th>4</th>\n",
       "      <td>4</td>\n",
       "      <td>&lt;md5 HASH object @ 0x7f0c2d1b9b98&gt;</td>\n",
       "      <td>31-7-27-21-13</td>\n",
       "    </tr>\n",
       "  </tbody>\n",
       "</table>\n",
       "</div>"
      ],
      "text/plain": [
       "   Unnamed: 0                               users          stores\n",
       "0           0  <md5 HASH object @ 0x7f0c2d1b93f0>      16-32-7-44\n",
       "1           1  <md5 HASH object @ 0x7f0c2d1b9788>     20-37-10-11\n",
       "2           2  <md5 HASH object @ 0x7f0c2d1b9d28>  34-14-18-16-29\n",
       "3           3  <md5 HASH object @ 0x7f0c2d1b9620>     22-14-39-25\n",
       "4           4  <md5 HASH object @ 0x7f0c2d1b9b98>   31-7-27-21-13"
      ]
     },
     "execution_count": 18,
     "metadata": {},
     "output_type": "execute_result"
    }
   ],
   "source": [
    "users_1.head(5)"
   ]
  },
  {
   "cell_type": "code",
   "execution_count": 19,
   "metadata": {},
   "outputs": [],
   "source": [
    "# Etiquetas de variables/columnas: no usar caracteres especiales. Verificar que no haya problemas de codificación/encoding."
   ]
  },
  {
   "cell_type": "markdown",
   "metadata": {},
   "source": [
    "- Asegurar que las etiquetas de las variables no contengan caracteres especiales."
   ]
  },
  {
   "cell_type": "code",
   "execution_count": 20,
   "metadata": {},
   "outputs": [
    {
     "data": {
      "text/plain": [
       "Index(['Unnamed: 0'], dtype='object')"
      ]
     },
     "execution_count": 20,
     "metadata": {},
     "output_type": "execute_result"
    }
   ],
   "source": [
    "char_regex = r'^(\\w+)$'\n",
    "sales_1.columns[~sales_1.columns.str.match(char_regex)]"
   ]
  },
  {
   "cell_type": "code",
   "execution_count": 21,
   "metadata": {},
   "outputs": [
    {
     "data": {
      "text/plain": [
       "Index(['Unnamed: 0'], dtype='object')"
      ]
     },
     "execution_count": 21,
     "metadata": {},
     "output_type": "execute_result"
    }
   ],
   "source": [
    "stores_1.columns[~stores_1.columns.str.match(char_regex)]"
   ]
  },
  {
   "cell_type": "code",
   "execution_count": 22,
   "metadata": {},
   "outputs": [
    {
     "data": {
      "text/plain": [
       "Index(['Unnamed: 0'], dtype='object')"
      ]
     },
     "execution_count": 22,
     "metadata": {},
     "output_type": "execute_result"
    }
   ],
   "source": [
    "features_1.columns[~features_1.columns.str.match(char_regex)]"
   ]
  },
  {
   "cell_type": "code",
   "execution_count": 23,
   "metadata": {},
   "outputs": [
    {
     "data": {
      "text/plain": [
       "Index(['Unnamed: 0'], dtype='object')"
      ]
     },
     "execution_count": 23,
     "metadata": {},
     "output_type": "execute_result"
    }
   ],
   "source": [
    "users_1.columns[~users_1.columns.str.match(char_regex)]"
   ]
  },
  {
   "cell_type": "markdown",
   "metadata": {},
   "source": [
    "El único campo que contiene caracteres especiales es el campo 'Unnamed: 0' que se observa en todos los datasets. Esta columna no aporta nada y puede removerse."
   ]
  },
  {
   "cell_type": "code",
   "execution_count": 24,
   "metadata": {},
   "outputs": [],
   "source": [
    "sales_1.drop('Unnamed: 0', axis=1, inplace=True)\n",
    "stores_1.drop('Unnamed: 0', axis=1, inplace=True)\n",
    "features_1.drop('Unnamed: 0', axis=1, inplace=True)\n",
    "users_1.drop('Unnamed: 0', axis=1, inplace=True)"
   ]
  },
  {
   "cell_type": "markdown",
   "metadata": {},
   "source": [
    "No existen campos con cadenas de texto, salvo el nombre de los usuarios, el cual debe ser despersonalizado, con lo cual no lo analizarémos. Pero si hubiera alguna columna cuyo tipo fuera String, podría analizarse la rareza de los Strings utilizando ftfy.badness."
   ]
  },
  {
   "cell_type": "markdown",
   "metadata": {},
   "source": [
    "### Tratamiento de valores faltantes"
   ]
  },
  {
   "cell_type": "code",
   "execution_count": 25,
   "metadata": {},
   "outputs": [
    {
     "data": {
      "text/plain": [
       "Store               0\n",
       "Dept                0\n",
       "Date                0\n",
       "Weekly_Sales        0\n",
       "IsHoliday       41705\n",
       "Sale_Id             0\n",
       "dtype: int64"
      ]
     },
     "execution_count": 25,
     "metadata": {},
     "output_type": "execute_result"
    }
   ],
   "source": [
    "# get the number of missing data points per column\n",
    "sales_1.isnull().sum()"
   ]
  },
  {
   "cell_type": "code",
   "execution_count": 26,
   "metadata": {},
   "outputs": [
    {
     "data": {
      "text/plain": [
       "41705"
      ]
     },
     "execution_count": 26,
     "metadata": {},
     "output_type": "execute_result"
    }
   ],
   "source": [
    "len(sales_1)-len(sales_1.dropna()) #otra forma de calcular"
   ]
  },
  {
   "cell_type": "markdown",
   "metadata": {},
   "source": [
    "Hay 42.118 valores faltantes que pertenecen al feature IsHoliday. Esta medida en sí, no dice nada más que con cuantos valores debemos lidiar.\n",
    "\n",
    "Primero tenemos que ver si en términos relativos su impacto."
   ]
  },
  {
   "cell_type": "code",
   "execution_count": 27,
   "metadata": {},
   "outputs": [
    {
     "data": {
      "text/plain": [
       "0.9010721825556847"
      ]
     },
     "execution_count": 27,
     "metadata": {},
     "output_type": "execute_result"
    }
   ],
   "source": [
    "len(sales_1.dropna())/len(sales_1)"
   ]
  },
  {
   "cell_type": "code",
   "execution_count": 28,
   "metadata": {},
   "outputs": [
    {
     "data": {
      "text/plain": [
       "0.9010721825556847"
      ]
     },
     "execution_count": 28,
     "metadata": {},
     "output_type": "execute_result"
    }
   ],
   "source": [
    "len(sales_1.dropna(subset=['IsHoliday']))/len(sales_1)"
   ]
  },
  {
   "cell_type": "markdown",
   "metadata": {},
   "source": [
    "Eliminar las filas que tienen NAN en la columna IsHoliday implicaria quedarse con el 90% de los datos del dataset original. Ahora verificamos si las fechas con faltantes en IsHoliday son aleatorias o si pertenecen a periodos continuos de tiempo:"
   ]
  },
  {
   "cell_type": "code",
   "execution_count": 29,
   "metadata": {},
   "outputs": [
    {
     "data": {
      "text/html": [
       "<div>\n",
       "<style scoped>\n",
       "    .dataframe tbody tr th:only-of-type {\n",
       "        vertical-align: middle;\n",
       "    }\n",
       "\n",
       "    .dataframe tbody tr th {\n",
       "        vertical-align: top;\n",
       "    }\n",
       "\n",
       "    .dataframe thead th {\n",
       "        text-align: right;\n",
       "    }\n",
       "</style>\n",
       "<table border=\"1\" class=\"dataframe\">\n",
       "  <thead>\n",
       "    <tr style=\"text-align: right;\">\n",
       "      <th></th>\n",
       "      <th>Store</th>\n",
       "      <th>Dept</th>\n",
       "      <th>Date</th>\n",
       "      <th>Weekly_Sales</th>\n",
       "      <th>IsHoliday</th>\n",
       "      <th>Sale_Id</th>\n",
       "    </tr>\n",
       "  </thead>\n",
       "  <tbody>\n",
       "    <tr>\n",
       "      <th>49252</th>\n",
       "      <td>6</td>\n",
       "      <td>4</td>\n",
       "      <td>2010-01-10</td>\n",
       "      <td>28762.65</td>\n",
       "      <td>NaN</td>\n",
       "      <td>49252</td>\n",
       "    </tr>\n",
       "    <tr>\n",
       "      <th>325466</th>\n",
       "      <td>34</td>\n",
       "      <td>37</td>\n",
       "      <td>2010-02-04</td>\n",
       "      <td>2272.93</td>\n",
       "      <td>NaN</td>\n",
       "      <td>325466</td>\n",
       "    </tr>\n",
       "    <tr>\n",
       "      <th>218556</th>\n",
       "      <td>23</td>\n",
       "      <td>13</td>\n",
       "      <td>2010-02-07</td>\n",
       "      <td>48544.56</td>\n",
       "      <td>NaN</td>\n",
       "      <td>218556</td>\n",
       "    </tr>\n",
       "    <tr>\n",
       "      <th>257472</th>\n",
       "      <td>27</td>\n",
       "      <td>6</td>\n",
       "      <td>2010-02-19</td>\n",
       "      <td>7866.78</td>\n",
       "      <td>NaN</td>\n",
       "      <td>257472</td>\n",
       "    </tr>\n",
       "    <tr>\n",
       "      <th>139553</th>\n",
       "      <td>15</td>\n",
       "      <td>11</td>\n",
       "      <td>2010-02-26</td>\n",
       "      <td>13570.44</td>\n",
       "      <td>NaN</td>\n",
       "      <td>139553</td>\n",
       "    </tr>\n",
       "    <tr>\n",
       "      <th>142836</th>\n",
       "      <td>15</td>\n",
       "      <td>35</td>\n",
       "      <td>2010-03-09</td>\n",
       "      <td>2303.00</td>\n",
       "      <td>NaN</td>\n",
       "      <td>142836</td>\n",
       "    </tr>\n",
       "    <tr>\n",
       "      <th>163822</th>\n",
       "      <td>17</td>\n",
       "      <td>54</td>\n",
       "      <td>2010-03-12</td>\n",
       "      <td>43.00</td>\n",
       "      <td>NaN</td>\n",
       "      <td>163822</td>\n",
       "    </tr>\n",
       "    <tr>\n",
       "      <th>78342</th>\n",
       "      <td>8</td>\n",
       "      <td>97</td>\n",
       "      <td>2010-03-19</td>\n",
       "      <td>16132.98</td>\n",
       "      <td>NaN</td>\n",
       "      <td>78342</td>\n",
       "    </tr>\n",
       "    <tr>\n",
       "      <th>396876</th>\n",
       "      <td>42</td>\n",
       "      <td>91</td>\n",
       "      <td>2010-03-26</td>\n",
       "      <td>34995.37</td>\n",
       "      <td>NaN</td>\n",
       "      <td>396876</td>\n",
       "    </tr>\n",
       "    <tr>\n",
       "      <th>254734</th>\n",
       "      <td>26</td>\n",
       "      <td>81</td>\n",
       "      <td>2010-04-06</td>\n",
       "      <td>19309.95</td>\n",
       "      <td>NaN</td>\n",
       "      <td>254734</td>\n",
       "    </tr>\n",
       "    <tr>\n",
       "      <th>7800</th>\n",
       "      <td>1</td>\n",
       "      <td>74</td>\n",
       "      <td>2010-04-16</td>\n",
       "      <td>9855.89</td>\n",
       "      <td>NaN</td>\n",
       "      <td>7800</td>\n",
       "    </tr>\n",
       "    <tr>\n",
       "      <th>416786</th>\n",
       "      <td>45</td>\n",
       "      <td>36</td>\n",
       "      <td>2010-04-23</td>\n",
       "      <td>1320.50</td>\n",
       "      <td>NaN</td>\n",
       "      <td>416786</td>\n",
       "    </tr>\n",
       "    <tr>\n",
       "      <th>18736</th>\n",
       "      <td>2</td>\n",
       "      <td>83</td>\n",
       "      <td>2010-04-30</td>\n",
       "      <td>5149.02</td>\n",
       "      <td>NaN</td>\n",
       "      <td>18736</td>\n",
       "    </tr>\n",
       "    <tr>\n",
       "      <th>401916</th>\n",
       "      <td>43</td>\n",
       "      <td>59</td>\n",
       "      <td>2010-05-02</td>\n",
       "      <td>410.84</td>\n",
       "      <td>NaN</td>\n",
       "      <td>401916</td>\n",
       "    </tr>\n",
       "    <tr>\n",
       "      <th>224087</th>\n",
       "      <td>23</td>\n",
       "      <td>67</td>\n",
       "      <td>2010-05-03</td>\n",
       "      <td>12577.94</td>\n",
       "      <td>NaN</td>\n",
       "      <td>224087</td>\n",
       "    </tr>\n",
       "    <tr>\n",
       "      <th>350746</th>\n",
       "      <td>37</td>\n",
       "      <td>59</td>\n",
       "      <td>2010-05-11</td>\n",
       "      <td>145.33</td>\n",
       "      <td>NaN</td>\n",
       "      <td>350746</td>\n",
       "    </tr>\n",
       "    <tr>\n",
       "      <th>119479</th>\n",
       "      <td>13</td>\n",
       "      <td>14</td>\n",
       "      <td>2010-05-14</td>\n",
       "      <td>29242.12</td>\n",
       "      <td>NaN</td>\n",
       "      <td>119479</td>\n",
       "    </tr>\n",
       "    <tr>\n",
       "      <th>144153</th>\n",
       "      <td>15</td>\n",
       "      <td>50</td>\n",
       "      <td>2010-05-21</td>\n",
       "      <td>2527.00</td>\n",
       "      <td>NaN</td>\n",
       "      <td>144153</td>\n",
       "    </tr>\n",
       "    <tr>\n",
       "      <th>218837</th>\n",
       "      <td>23</td>\n",
       "      <td>16</td>\n",
       "      <td>2010-05-28</td>\n",
       "      <td>93123.75</td>\n",
       "      <td>NaN</td>\n",
       "      <td>218837</td>\n",
       "    </tr>\n",
       "    <tr>\n",
       "      <th>99295</th>\n",
       "      <td>11</td>\n",
       "      <td>11</td>\n",
       "      <td>2010-06-08</td>\n",
       "      <td>21097.42</td>\n",
       "      <td>NaN</td>\n",
       "      <td>99295</td>\n",
       "    </tr>\n",
       "    <tr>\n",
       "      <th>245088</th>\n",
       "      <td>25</td>\n",
       "      <td>81</td>\n",
       "      <td>2010-06-18</td>\n",
       "      <td>7736.19</td>\n",
       "      <td>NaN</td>\n",
       "      <td>245088</td>\n",
       "    </tr>\n",
       "    <tr>\n",
       "      <th>253045</th>\n",
       "      <td>26</td>\n",
       "      <td>51</td>\n",
       "      <td>2010-06-25</td>\n",
       "      <td>14.68</td>\n",
       "      <td>NaN</td>\n",
       "      <td>253045</td>\n",
       "    </tr>\n",
       "    <tr>\n",
       "      <th>178916</th>\n",
       "      <td>19</td>\n",
       "      <td>13</td>\n",
       "      <td>2010-07-05</td>\n",
       "      <td>36891.22</td>\n",
       "      <td>NaN</td>\n",
       "      <td>178916</td>\n",
       "    </tr>\n",
       "    <tr>\n",
       "      <th>358957</th>\n",
       "      <td>38</td>\n",
       "      <td>80</td>\n",
       "      <td>2010-07-16</td>\n",
       "      <td>9230.69</td>\n",
       "      <td>NaN</td>\n",
       "      <td>358957</td>\n",
       "    </tr>\n",
       "    <tr>\n",
       "      <th>367068</th>\n",
       "      <td>39</td>\n",
       "      <td>51</td>\n",
       "      <td>2010-07-23</td>\n",
       "      <td>29.90</td>\n",
       "      <td>NaN</td>\n",
       "      <td>367068</td>\n",
       "    </tr>\n",
       "    <tr>\n",
       "      <th>153005</th>\n",
       "      <td>16</td>\n",
       "      <td>38</td>\n",
       "      <td>2010-07-30</td>\n",
       "      <td>54307.88</td>\n",
       "      <td>NaN</td>\n",
       "      <td>153005</td>\n",
       "    </tr>\n",
       "    <tr>\n",
       "      <th>403323</th>\n",
       "      <td>43</td>\n",
       "      <td>85</td>\n",
       "      <td>2010-08-10</td>\n",
       "      <td>102.51</td>\n",
       "      <td>NaN</td>\n",
       "      <td>403323</td>\n",
       "    </tr>\n",
       "    <tr>\n",
       "      <th>212227</th>\n",
       "      <td>22</td>\n",
       "      <td>40</td>\n",
       "      <td>2010-08-13</td>\n",
       "      <td>53383.88</td>\n",
       "      <td>NaN</td>\n",
       "      <td>212227</td>\n",
       "    </tr>\n",
       "    <tr>\n",
       "      <th>288275</th>\n",
       "      <td>30</td>\n",
       "      <td>13</td>\n",
       "      <td>2010-08-20</td>\n",
       "      <td>12278.43</td>\n",
       "      <td>NaN</td>\n",
       "      <td>288275</td>\n",
       "    </tr>\n",
       "    <tr>\n",
       "      <th>231458</th>\n",
       "      <td>24</td>\n",
       "      <td>34</td>\n",
       "      <td>2010-08-27</td>\n",
       "      <td>19354.00</td>\n",
       "      <td>NaN</td>\n",
       "      <td>231458</td>\n",
       "    </tr>\n",
       "    <tr>\n",
       "      <th>...</th>\n",
       "      <td>...</td>\n",
       "      <td>...</td>\n",
       "      <td>...</td>\n",
       "      <td>...</td>\n",
       "      <td>...</td>\n",
       "      <td>...</td>\n",
       "    </tr>\n",
       "    <tr>\n",
       "      <th>385852</th>\n",
       "      <td>41</td>\n",
       "      <td>36</td>\n",
       "      <td>2012-04-13</td>\n",
       "      <td>1223.00</td>\n",
       "      <td>NaN</td>\n",
       "      <td>385852</td>\n",
       "    </tr>\n",
       "    <tr>\n",
       "      <th>412191</th>\n",
       "      <td>45</td>\n",
       "      <td>2</td>\n",
       "      <td>2012-04-20</td>\n",
       "      <td>34355.82</td>\n",
       "      <td>NaN</td>\n",
       "      <td>412191</td>\n",
       "    </tr>\n",
       "    <tr>\n",
       "      <th>219488</th>\n",
       "      <td>23</td>\n",
       "      <td>20</td>\n",
       "      <td>2012-04-27</td>\n",
       "      <td>10399.37</td>\n",
       "      <td>NaN</td>\n",
       "      <td>219488</td>\n",
       "    </tr>\n",
       "    <tr>\n",
       "      <th>126746</th>\n",
       "      <td>13</td>\n",
       "      <td>87</td>\n",
       "      <td>2012-05-10</td>\n",
       "      <td>20950.30</td>\n",
       "      <td>NaN</td>\n",
       "      <td>126746</td>\n",
       "    </tr>\n",
       "    <tr>\n",
       "      <th>223257</th>\n",
       "      <td>23</td>\n",
       "      <td>52</td>\n",
       "      <td>2012-05-18</td>\n",
       "      <td>2399.77</td>\n",
       "      <td>NaN</td>\n",
       "      <td>223257</td>\n",
       "    </tr>\n",
       "    <tr>\n",
       "      <th>128772</th>\n",
       "      <td>14</td>\n",
       "      <td>5</td>\n",
       "      <td>2012-05-25</td>\n",
       "      <td>16913.51</td>\n",
       "      <td>NaN</td>\n",
       "      <td>128772</td>\n",
       "    </tr>\n",
       "    <tr>\n",
       "      <th>217062</th>\n",
       "      <td>23</td>\n",
       "      <td>2</td>\n",
       "      <td>2012-06-01</td>\n",
       "      <td>61743.23</td>\n",
       "      <td>NaN</td>\n",
       "      <td>217062</td>\n",
       "    </tr>\n",
       "    <tr>\n",
       "      <th>78640</th>\n",
       "      <td>8</td>\n",
       "      <td>99</td>\n",
       "      <td>2012-06-04</td>\n",
       "      <td>40.00</td>\n",
       "      <td>NaN</td>\n",
       "      <td>78640</td>\n",
       "    </tr>\n",
       "    <tr>\n",
       "      <th>4672</th>\n",
       "      <td>1</td>\n",
       "      <td>34</td>\n",
       "      <td>2012-06-07</td>\n",
       "      <td>14618.59</td>\n",
       "      <td>NaN</td>\n",
       "      <td>4672</td>\n",
       "    </tr>\n",
       "    <tr>\n",
       "      <th>346918</th>\n",
       "      <td>37</td>\n",
       "      <td>3</td>\n",
       "      <td>2012-06-15</td>\n",
       "      <td>962.31</td>\n",
       "      <td>NaN</td>\n",
       "      <td>346918</td>\n",
       "    </tr>\n",
       "    <tr>\n",
       "      <th>352692</th>\n",
       "      <td>37</td>\n",
       "      <td>91</td>\n",
       "      <td>2012-06-22</td>\n",
       "      <td>31300.32</td>\n",
       "      <td>NaN</td>\n",
       "      <td>352692</td>\n",
       "    </tr>\n",
       "    <tr>\n",
       "      <th>130615</th>\n",
       "      <td>14</td>\n",
       "      <td>19</td>\n",
       "      <td>2012-06-29</td>\n",
       "      <td>1308.21</td>\n",
       "      <td>NaN</td>\n",
       "      <td>130615</td>\n",
       "    </tr>\n",
       "    <tr>\n",
       "      <th>67210</th>\n",
       "      <td>7</td>\n",
       "      <td>83</td>\n",
       "      <td>2012-07-09</td>\n",
       "      <td>806.36</td>\n",
       "      <td>NaN</td>\n",
       "      <td>67210</td>\n",
       "    </tr>\n",
       "    <tr>\n",
       "      <th>33487</th>\n",
       "      <td>4</td>\n",
       "      <td>29</td>\n",
       "      <td>2012-07-13</td>\n",
       "      <td>9157.63</td>\n",
       "      <td>NaN</td>\n",
       "      <td>33487</td>\n",
       "    </tr>\n",
       "    <tr>\n",
       "      <th>228999</th>\n",
       "      <td>24</td>\n",
       "      <td>16</td>\n",
       "      <td>2012-07-20</td>\n",
       "      <td>23749.31</td>\n",
       "      <td>NaN</td>\n",
       "      <td>228999</td>\n",
       "    </tr>\n",
       "    <tr>\n",
       "      <th>210041</th>\n",
       "      <td>22</td>\n",
       "      <td>22</td>\n",
       "      <td>2012-07-27</td>\n",
       "      <td>12197.30</td>\n",
       "      <td>NaN</td>\n",
       "      <td>210041</td>\n",
       "    </tr>\n",
       "    <tr>\n",
       "      <th>368026</th>\n",
       "      <td>39</td>\n",
       "      <td>60</td>\n",
       "      <td>2012-08-06</td>\n",
       "      <td>495.00</td>\n",
       "      <td>NaN</td>\n",
       "      <td>368026</td>\n",
       "    </tr>\n",
       "    <tr>\n",
       "      <th>389719</th>\n",
       "      <td>41</td>\n",
       "      <td>87</td>\n",
       "      <td>2012-08-17</td>\n",
       "      <td>15970.69</td>\n",
       "      <td>NaN</td>\n",
       "      <td>389719</td>\n",
       "    </tr>\n",
       "    <tr>\n",
       "      <th>40066</th>\n",
       "      <td>5</td>\n",
       "      <td>2</td>\n",
       "      <td>2012-08-24</td>\n",
       "      <td>12570.74</td>\n",
       "      <td>NaN</td>\n",
       "      <td>40066</td>\n",
       "    </tr>\n",
       "    <tr>\n",
       "      <th>220221</th>\n",
       "      <td>23</td>\n",
       "      <td>25</td>\n",
       "      <td>2012-08-31</td>\n",
       "      <td>18608.64</td>\n",
       "      <td>NaN</td>\n",
       "      <td>220221</td>\n",
       "    </tr>\n",
       "    <tr>\n",
       "      <th>129476</th>\n",
       "      <td>14</td>\n",
       "      <td>10</td>\n",
       "      <td>2012-09-03</td>\n",
       "      <td>20175.96</td>\n",
       "      <td>NaN</td>\n",
       "      <td>129476</td>\n",
       "    </tr>\n",
       "    <tr>\n",
       "      <th>179325</th>\n",
       "      <td>19</td>\n",
       "      <td>16</td>\n",
       "      <td>2012-09-14</td>\n",
       "      <td>12893.90</td>\n",
       "      <td>NaN</td>\n",
       "      <td>179325</td>\n",
       "    </tr>\n",
       "    <tr>\n",
       "      <th>403753</th>\n",
       "      <td>43</td>\n",
       "      <td>91</td>\n",
       "      <td>2012-09-21</td>\n",
       "      <td>32560.45</td>\n",
       "      <td>NaN</td>\n",
       "      <td>403753</td>\n",
       "    </tr>\n",
       "    <tr>\n",
       "      <th>281291</th>\n",
       "      <td>29</td>\n",
       "      <td>31</td>\n",
       "      <td>2012-09-28</td>\n",
       "      <td>1573.50</td>\n",
       "      <td>NaN</td>\n",
       "      <td>281291</td>\n",
       "    </tr>\n",
       "    <tr>\n",
       "      <th>113268</th>\n",
       "      <td>12</td>\n",
       "      <td>41</td>\n",
       "      <td>2012-10-02</td>\n",
       "      <td>1593.50</td>\n",
       "      <td>NaN</td>\n",
       "      <td>113268</td>\n",
       "    </tr>\n",
       "    <tr>\n",
       "      <th>410775</th>\n",
       "      <td>44</td>\n",
       "      <td>90</td>\n",
       "      <td>2012-10-08</td>\n",
       "      <td>33575.33</td>\n",
       "      <td>NaN</td>\n",
       "      <td>410775</td>\n",
       "    </tr>\n",
       "    <tr>\n",
       "      <th>262933</th>\n",
       "      <td>27</td>\n",
       "      <td>49</td>\n",
       "      <td>2012-10-19</td>\n",
       "      <td>15499.67</td>\n",
       "      <td>NaN</td>\n",
       "      <td>262933</td>\n",
       "    </tr>\n",
       "    <tr>\n",
       "      <th>177472</th>\n",
       "      <td>19</td>\n",
       "      <td>2</td>\n",
       "      <td>2012-10-26</td>\n",
       "      <td>46788.18</td>\n",
       "      <td>NaN</td>\n",
       "      <td>177472</td>\n",
       "    </tr>\n",
       "    <tr>\n",
       "      <th>111851</th>\n",
       "      <td>12</td>\n",
       "      <td>29</td>\n",
       "      <td>2012-11-05</td>\n",
       "      <td>6790.88</td>\n",
       "      <td>NaN</td>\n",
       "      <td>111851</td>\n",
       "    </tr>\n",
       "    <tr>\n",
       "      <th>58814</th>\n",
       "      <td>6</td>\n",
       "      <td>97</td>\n",
       "      <td>2012-12-10</td>\n",
       "      <td>21720.61</td>\n",
       "      <td>NaN</td>\n",
       "      <td>58814</td>\n",
       "    </tr>\n",
       "  </tbody>\n",
       "</table>\n",
       "<p>143 rows × 6 columns</p>\n",
       "</div>"
      ],
      "text/plain": [
       "        Store  Dept       Date  Weekly_Sales IsHoliday  Sale_Id\n",
       "49252       6     4 2010-01-10      28762.65       NaN    49252\n",
       "325466     34    37 2010-02-04       2272.93       NaN   325466\n",
       "218556     23    13 2010-02-07      48544.56       NaN   218556\n",
       "257472     27     6 2010-02-19       7866.78       NaN   257472\n",
       "139553     15    11 2010-02-26      13570.44       NaN   139553\n",
       "142836     15    35 2010-03-09       2303.00       NaN   142836\n",
       "163822     17    54 2010-03-12         43.00       NaN   163822\n",
       "78342       8    97 2010-03-19      16132.98       NaN    78342\n",
       "396876     42    91 2010-03-26      34995.37       NaN   396876\n",
       "254734     26    81 2010-04-06      19309.95       NaN   254734\n",
       "7800        1    74 2010-04-16       9855.89       NaN     7800\n",
       "416786     45    36 2010-04-23       1320.50       NaN   416786\n",
       "18736       2    83 2010-04-30       5149.02       NaN    18736\n",
       "401916     43    59 2010-05-02        410.84       NaN   401916\n",
       "224087     23    67 2010-05-03      12577.94       NaN   224087\n",
       "350746     37    59 2010-05-11        145.33       NaN   350746\n",
       "119479     13    14 2010-05-14      29242.12       NaN   119479\n",
       "144153     15    50 2010-05-21       2527.00       NaN   144153\n",
       "218837     23    16 2010-05-28      93123.75       NaN   218837\n",
       "99295      11    11 2010-06-08      21097.42       NaN    99295\n",
       "245088     25    81 2010-06-18       7736.19       NaN   245088\n",
       "253045     26    51 2010-06-25         14.68       NaN   253045\n",
       "178916     19    13 2010-07-05      36891.22       NaN   178916\n",
       "358957     38    80 2010-07-16       9230.69       NaN   358957\n",
       "367068     39    51 2010-07-23         29.90       NaN   367068\n",
       "153005     16    38 2010-07-30      54307.88       NaN   153005\n",
       "403323     43    85 2010-08-10        102.51       NaN   403323\n",
       "212227     22    40 2010-08-13      53383.88       NaN   212227\n",
       "288275     30    13 2010-08-20      12278.43       NaN   288275\n",
       "231458     24    34 2010-08-27      19354.00       NaN   231458\n",
       "...       ...   ...        ...           ...       ...      ...\n",
       "385852     41    36 2012-04-13       1223.00       NaN   385852\n",
       "412191     45     2 2012-04-20      34355.82       NaN   412191\n",
       "219488     23    20 2012-04-27      10399.37       NaN   219488\n",
       "126746     13    87 2012-05-10      20950.30       NaN   126746\n",
       "223257     23    52 2012-05-18       2399.77       NaN   223257\n",
       "128772     14     5 2012-05-25      16913.51       NaN   128772\n",
       "217062     23     2 2012-06-01      61743.23       NaN   217062\n",
       "78640       8    99 2012-06-04         40.00       NaN    78640\n",
       "4672        1    34 2012-06-07      14618.59       NaN     4672\n",
       "346918     37     3 2012-06-15        962.31       NaN   346918\n",
       "352692     37    91 2012-06-22      31300.32       NaN   352692\n",
       "130615     14    19 2012-06-29       1308.21       NaN   130615\n",
       "67210       7    83 2012-07-09        806.36       NaN    67210\n",
       "33487       4    29 2012-07-13       9157.63       NaN    33487\n",
       "228999     24    16 2012-07-20      23749.31       NaN   228999\n",
       "210041     22    22 2012-07-27      12197.30       NaN   210041\n",
       "368026     39    60 2012-08-06        495.00       NaN   368026\n",
       "389719     41    87 2012-08-17      15970.69       NaN   389719\n",
       "40066       5     2 2012-08-24      12570.74       NaN    40066\n",
       "220221     23    25 2012-08-31      18608.64       NaN   220221\n",
       "129476     14    10 2012-09-03      20175.96       NaN   129476\n",
       "179325     19    16 2012-09-14      12893.90       NaN   179325\n",
       "403753     43    91 2012-09-21      32560.45       NaN   403753\n",
       "281291     29    31 2012-09-28       1573.50       NaN   281291\n",
       "113268     12    41 2012-10-02       1593.50       NaN   113268\n",
       "410775     44    90 2012-10-08      33575.33       NaN   410775\n",
       "262933     27    49 2012-10-19      15499.67       NaN   262933\n",
       "177472     19     2 2012-10-26      46788.18       NaN   177472\n",
       "111851     12    29 2012-11-05       6790.88       NaN   111851\n",
       "58814       6    97 2012-12-10      21720.61       NaN    58814\n",
       "\n",
       "[143 rows x 6 columns]"
      ]
     },
     "execution_count": 29,
     "metadata": {},
     "output_type": "execute_result"
    }
   ],
   "source": [
    "#sales[sales.IsHoliday.isnull()]\n",
    "sales_1[sales_1.IsHoliday.isnull()].sort_values(by='Date', ascending=True).drop_duplicates('Date')"
   ]
  },
  {
   "cell_type": "markdown",
   "metadata": {},
   "source": [
    "Tal como se ve, las fechas con faltantes parecen ser aleatorias."
   ]
  },
  {
   "cell_type": "code",
   "execution_count": 30,
   "metadata": {},
   "outputs": [
    {
     "data": {
      "text/plain": [
       "Store              0\n",
       "Date               0\n",
       "Temperature        0\n",
       "Fuel_Price         0\n",
       "MarkDown1       4158\n",
       "MarkDown2       5269\n",
       "MarkDown3       4577\n",
       "MarkDown4       4726\n",
       "MarkDown5       4140\n",
       "CPI              585\n",
       "Unemployment     585\n",
       "IsHoliday          0\n",
       "IsMarkdown         0\n",
       "Col3               0\n",
       "dtype: int64"
      ]
     },
     "execution_count": 30,
     "metadata": {},
     "output_type": "execute_result"
    }
   ],
   "source": [
    "features_1.isnull().sum()"
   ]
  },
  {
   "cell_type": "markdown",
   "metadata": {},
   "source": [
    "Vamos a analizar en que casos todas las columnas de markdown son NaN, ya que en el análisis nuestro nos interesa solo saber si en una fecha hubo o no descuentos."
   ]
  },
  {
   "cell_type": "code",
   "execution_count": 31,
   "metadata": {},
   "outputs": [],
   "source": [
    "cols_to_check = ['MarkDown1', 'MarkDown2', 'MarkDown3', 'MarkDown4', 'MarkDown5']\n",
    "features_1['is_na'] = features_1[cols_to_check].isnull().apply(lambda x: all(x), axis=1) "
   ]
  },
  {
   "cell_type": "code",
   "execution_count": 32,
   "metadata": {
    "scrolled": true
   },
   "outputs": [
    {
     "data": {
      "text/plain": [
       "0.2526251526251526"
      ]
     },
     "execution_count": 32,
     "metadata": {},
     "output_type": "execute_result"
    }
   ],
   "source": [
    "len(features_1.dropna())/len(features_1)"
   ]
  },
  {
   "cell_type": "markdown",
   "metadata": {},
   "source": [
    "En el caso de la tabla features si eliminamos todas las filas con valores faltantes nos quedamos solo con el 25% de las filas. Por esto no seria recomendable descartar estas filas porque perderiamos mucha informacion de las columnas que no tienen valores faltantes, como temperatura y precio. Se podria ver la correlacion entre las ventas semanales y la existencia de descuento o no o alternativamente la correlación entre ventas semanales y cada una de las columnas de descuentos para los casos en que ninguna de ellas posee faltantes. Si no hubiera correlacion podriamos descartar estas columnas.\n",
    "\n",
    "Cabe observar que en esta tabla tambien esta la variable IsHoliday y no tiene faltantes por lo que no seria necesario eliminar las filas con faltantes de la tabla sales."
   ]
  },
  {
   "cell_type": "code",
   "execution_count": 33,
   "metadata": {
    "scrolled": false
   },
   "outputs": [
    {
     "data": {
      "text/plain": [
       "0.5054945054945055"
      ]
     },
     "execution_count": 33,
     "metadata": {},
     "output_type": "execute_result"
    }
   ],
   "source": [
    "len(features_1[features_1.is_na==True]) / len(features_1)"
   ]
  },
  {
   "cell_type": "markdown",
   "metadata": {},
   "source": [
    "Podemos ver que en la mitad de los registros del dataset, se encuetran todas las columnas MarkDown en nulo."
   ]
  },
  {
   "cell_type": "code",
   "execution_count": 34,
   "metadata": {},
   "outputs": [
    {
     "data": {
      "text/plain": [
       "Store    0\n",
       "Type     0\n",
       "Size     6\n",
       "dtype: int64"
      ]
     },
     "execution_count": 34,
     "metadata": {},
     "output_type": "execute_result"
    }
   ],
   "source": [
    "stores_1.isnull().sum()"
   ]
  },
  {
   "cell_type": "code",
   "execution_count": 35,
   "metadata": {
    "scrolled": true
   },
   "outputs": [
    {
     "data": {
      "text/plain": [
       "0.8666666666666667"
      ]
     },
     "execution_count": 35,
     "metadata": {},
     "output_type": "execute_result"
    }
   ],
   "source": [
    "len(stores_1.dropna())/len(stores_1)"
   ]
  },
  {
   "cell_type": "markdown",
   "metadata": {},
   "source": [
    "La tabla stores contiene 6 faltantes en la columna Size que representan 13,33% del data set. "
   ]
  },
  {
   "cell_type": "code",
   "execution_count": 36,
   "metadata": {},
   "outputs": [
    {
     "data": {
      "text/plain": [
       "array([ 1,  2,  3,  4,  5,  6,  7,  8,  9, 10, 11, 12, 13, 14, 15, 16, 17,\n",
       "       18, 19, 20, 21, 22, 23, 24, 25, 26, 27, 28, 29, 30, 31, 32, 33, 34,\n",
       "       35, 36, 37, 38, 39, 40, 41, 42, 43, 44, 45])"
      ]
     },
     "execution_count": 36,
     "metadata": {},
     "output_type": "execute_result"
    }
   ],
   "source": [
    "stores_1['Store'].unique()"
   ]
  },
  {
   "cell_type": "code",
   "execution_count": 37,
   "metadata": {},
   "outputs": [
    {
     "data": {
      "text/plain": [
       "array(['A', 'B', 'C'], dtype=object)"
      ]
     },
     "execution_count": 37,
     "metadata": {},
     "output_type": "execute_result"
    }
   ],
   "source": [
    "stores_1['Type'].unique() #tipos de tiendas"
   ]
  },
  {
   "cell_type": "markdown",
   "metadata": {},
   "source": [
    "Analizando el dataset de Stores, podemos ver que existen 3 tipos distintos de tiendas (A, B y C). El único valor faltante en este dataset es el Size de 6 tiendas, el cual lo podemos rellenar con el promedio de Size para cada tipo de tienda."
   ]
  },
  {
   "cell_type": "code",
   "execution_count": 38,
   "metadata": {},
   "outputs": [],
   "source": [
    "store_a_avg = stores_1[stores_1.Type=='A'].Size.mean()\n",
    "store_b_avg = stores_1[stores_1.Type=='B'].Size.mean()\n",
    "store_c_avg = stores_1[stores_1.Type=='C'].Size.mean()"
   ]
  },
  {
   "cell_type": "code",
   "execution_count": 39,
   "metadata": {},
   "outputs": [],
   "source": [
    "def replace_store_nan_size(store):\n",
    "    if store.Size > 0:\n",
    "        return store.Size\n",
    "\n",
    "    if store.Type == 'A':\n",
    "        return store_a_avg\n",
    "    elif store.Type == 'B':\n",
    "        return store_b_avg\n",
    "    elif store.Type == 'C':\n",
    "        return store_c_avg"
   ]
  },
  {
   "cell_type": "code",
   "execution_count": 40,
   "metadata": {},
   "outputs": [],
   "source": [
    "stores_1['Size'] = stores_1.apply(replace_store_nan_size, axis=1)"
   ]
  },
  {
   "cell_type": "code",
   "execution_count": 41,
   "metadata": {
    "scrolled": true
   },
   "outputs": [
    {
     "data": {
      "text/plain": [
       "Store    0\n",
       "Type     0\n",
       "Size     0\n",
       "dtype: int64"
      ]
     },
     "execution_count": 41,
     "metadata": {},
     "output_type": "execute_result"
    }
   ],
   "source": [
    "stores_1.isnull().sum()"
   ]
  },
  {
   "cell_type": "markdown",
   "metadata": {},
   "source": [
    "Ya completamos la información de las 6 tiendas faltantes con los respectivos promedios para cada tipo de tienda."
   ]
  },
  {
   "cell_type": "code",
   "execution_count": 42,
   "metadata": {},
   "outputs": [
    {
     "data": {
      "text/plain": [
       "users     0\n",
       "stores    0\n",
       "dtype: int64"
      ]
     },
     "execution_count": 42,
     "metadata": {},
     "output_type": "execute_result"
    }
   ],
   "source": [
    "users_1.isnull().sum()"
   ]
  },
  {
   "cell_type": "markdown",
   "metadata": {},
   "source": [
    "### Codificar variables: las variables categóricas deberán ser tratadas como variables numéricas."
   ]
  },
  {
   "cell_type": "markdown",
   "metadata": {},
   "source": [
    "Las unicas variables categoricas del dataset son IsHoliday y Type"
   ]
  },
  {
   "cell_type": "code",
   "execution_count": 43,
   "metadata": {},
   "outputs": [],
   "source": [
    "from sklearn import preprocessing"
   ]
  },
  {
   "cell_type": "code",
   "execution_count": 44,
   "metadata": {},
   "outputs": [],
   "source": [
    "def transform_categorical(dataset, column):\n",
    "    # Create a label (category) encoder object\n",
    "    le = preprocessing.LabelEncoder()\n",
    "    # Fit the encoder to the pandas column\n",
    "    le.fit(dataset[column])\n",
    "\n",
    "    dataset[column] = le.transform(dataset[column]) "
   ]
  },
  {
   "cell_type": "markdown",
   "metadata": {},
   "source": [
    "Vamos a hacer una transformación de las variables categóricas Type de stores y IsHoliday de features y IsHoliday de sales."
   ]
  },
  {
   "cell_type": "code",
   "execution_count": 45,
   "metadata": {},
   "outputs": [],
   "source": [
    "transform_categorical(stores_1, 'Type')\n",
    "transform_categorical(features_1, 'IsHoliday')\n",
    "transform_categorical(sales_1, 'IsHoliday')\n",
    "transform_categorical(features_1, 'IsMarkdown')"
   ]
  },
  {
   "cell_type": "code",
   "execution_count": 46,
   "metadata": {},
   "outputs": [
    {
     "data": {
      "text/html": [
       "<div>\n",
       "<style scoped>\n",
       "    .dataframe tbody tr th:only-of-type {\n",
       "        vertical-align: middle;\n",
       "    }\n",
       "\n",
       "    .dataframe tbody tr th {\n",
       "        vertical-align: top;\n",
       "    }\n",
       "\n",
       "    .dataframe thead th {\n",
       "        text-align: right;\n",
       "    }\n",
       "</style>\n",
       "<table border=\"1\" class=\"dataframe\">\n",
       "  <thead>\n",
       "    <tr style=\"text-align: right;\">\n",
       "      <th></th>\n",
       "      <th>Store</th>\n",
       "      <th>Type</th>\n",
       "      <th>Size</th>\n",
       "    </tr>\n",
       "  </thead>\n",
       "  <tbody>\n",
       "    <tr>\n",
       "      <th>0</th>\n",
       "      <td>1</td>\n",
       "      <td>0</td>\n",
       "      <td>151315.000000</td>\n",
       "    </tr>\n",
       "    <tr>\n",
       "      <th>1</th>\n",
       "      <td>2</td>\n",
       "      <td>0</td>\n",
       "      <td>202307.000000</td>\n",
       "    </tr>\n",
       "    <tr>\n",
       "      <th>2</th>\n",
       "      <td>3</td>\n",
       "      <td>1</td>\n",
       "      <td>37392.000000</td>\n",
       "    </tr>\n",
       "    <tr>\n",
       "      <th>3</th>\n",
       "      <td>4</td>\n",
       "      <td>0</td>\n",
       "      <td>175194.277778</td>\n",
       "    </tr>\n",
       "    <tr>\n",
       "      <th>4</th>\n",
       "      <td>5</td>\n",
       "      <td>1</td>\n",
       "      <td>34875.000000</td>\n",
       "    </tr>\n",
       "  </tbody>\n",
       "</table>\n",
       "</div>"
      ],
      "text/plain": [
       "   Store  Type           Size\n",
       "0      1     0  151315.000000\n",
       "1      2     0  202307.000000\n",
       "2      3     1   37392.000000\n",
       "3      4     0  175194.277778\n",
       "4      5     1   34875.000000"
      ]
     },
     "execution_count": 46,
     "metadata": {},
     "output_type": "execute_result"
    }
   ],
   "source": [
    "stores_1.head()"
   ]
  },
  {
   "cell_type": "code",
   "execution_count": 47,
   "metadata": {
    "scrolled": true
   },
   "outputs": [
    {
     "data": {
      "text/html": [
       "<div>\n",
       "<style scoped>\n",
       "    .dataframe tbody tr th:only-of-type {\n",
       "        vertical-align: middle;\n",
       "    }\n",
       "\n",
       "    .dataframe tbody tr th {\n",
       "        vertical-align: top;\n",
       "    }\n",
       "\n",
       "    .dataframe thead th {\n",
       "        text-align: right;\n",
       "    }\n",
       "</style>\n",
       "<table border=\"1\" class=\"dataframe\">\n",
       "  <thead>\n",
       "    <tr style=\"text-align: right;\">\n",
       "      <th></th>\n",
       "      <th>Store</th>\n",
       "      <th>Date</th>\n",
       "      <th>Temperature</th>\n",
       "      <th>Fuel_Price</th>\n",
       "      <th>MarkDown1</th>\n",
       "      <th>MarkDown2</th>\n",
       "      <th>MarkDown3</th>\n",
       "      <th>MarkDown4</th>\n",
       "      <th>MarkDown5</th>\n",
       "      <th>CPI</th>\n",
       "      <th>Unemployment</th>\n",
       "      <th>IsHoliday</th>\n",
       "      <th>IsMarkdown</th>\n",
       "      <th>Col3</th>\n",
       "      <th>is_na</th>\n",
       "    </tr>\n",
       "  </thead>\n",
       "  <tbody>\n",
       "    <tr>\n",
       "      <th>0</th>\n",
       "      <td>1</td>\n",
       "      <td>2010-05-02</td>\n",
       "      <td>42.31</td>\n",
       "      <td>2.572</td>\n",
       "      <td>NaN</td>\n",
       "      <td>NaN</td>\n",
       "      <td>NaN</td>\n",
       "      <td>NaN</td>\n",
       "      <td>NaN</td>\n",
       "      <td>211.096358</td>\n",
       "      <td>8.106</td>\n",
       "      <td>0</td>\n",
       "      <td>0</td>\n",
       "      <td>12010-05-02 00:00:00</td>\n",
       "      <td>True</td>\n",
       "    </tr>\n",
       "    <tr>\n",
       "      <th>1</th>\n",
       "      <td>1</td>\n",
       "      <td>2010-12-02</td>\n",
       "      <td>38.51</td>\n",
       "      <td>2.548</td>\n",
       "      <td>NaN</td>\n",
       "      <td>NaN</td>\n",
       "      <td>NaN</td>\n",
       "      <td>NaN</td>\n",
       "      <td>NaN</td>\n",
       "      <td>211.242170</td>\n",
       "      <td>8.106</td>\n",
       "      <td>1</td>\n",
       "      <td>0</td>\n",
       "      <td>12010-12-02 00:00:00</td>\n",
       "      <td>True</td>\n",
       "    </tr>\n",
       "    <tr>\n",
       "      <th>2</th>\n",
       "      <td>1</td>\n",
       "      <td>2010-02-19</td>\n",
       "      <td>39.93</td>\n",
       "      <td>2.514</td>\n",
       "      <td>NaN</td>\n",
       "      <td>NaN</td>\n",
       "      <td>NaN</td>\n",
       "      <td>NaN</td>\n",
       "      <td>NaN</td>\n",
       "      <td>211.289143</td>\n",
       "      <td>8.106</td>\n",
       "      <td>0</td>\n",
       "      <td>0</td>\n",
       "      <td>12010-02-19 00:00:00</td>\n",
       "      <td>True</td>\n",
       "    </tr>\n",
       "    <tr>\n",
       "      <th>3</th>\n",
       "      <td>1</td>\n",
       "      <td>2010-02-26</td>\n",
       "      <td>46.63</td>\n",
       "      <td>2.561</td>\n",
       "      <td>NaN</td>\n",
       "      <td>NaN</td>\n",
       "      <td>NaN</td>\n",
       "      <td>NaN</td>\n",
       "      <td>NaN</td>\n",
       "      <td>211.319643</td>\n",
       "      <td>8.106</td>\n",
       "      <td>0</td>\n",
       "      <td>0</td>\n",
       "      <td>12010-02-26 00:00:00</td>\n",
       "      <td>True</td>\n",
       "    </tr>\n",
       "    <tr>\n",
       "      <th>4</th>\n",
       "      <td>1</td>\n",
       "      <td>2010-05-03</td>\n",
       "      <td>46.50</td>\n",
       "      <td>2.625</td>\n",
       "      <td>NaN</td>\n",
       "      <td>NaN</td>\n",
       "      <td>NaN</td>\n",
       "      <td>NaN</td>\n",
       "      <td>NaN</td>\n",
       "      <td>211.350143</td>\n",
       "      <td>8.106</td>\n",
       "      <td>0</td>\n",
       "      <td>0</td>\n",
       "      <td>12010-05-03 00:00:00</td>\n",
       "      <td>True</td>\n",
       "    </tr>\n",
       "  </tbody>\n",
       "</table>\n",
       "</div>"
      ],
      "text/plain": [
       "   Store       Date  Temperature  Fuel_Price  MarkDown1  MarkDown2  MarkDown3  \\\n",
       "0      1 2010-05-02        42.31       2.572        NaN        NaN        NaN   \n",
       "1      1 2010-12-02        38.51       2.548        NaN        NaN        NaN   \n",
       "2      1 2010-02-19        39.93       2.514        NaN        NaN        NaN   \n",
       "3      1 2010-02-26        46.63       2.561        NaN        NaN        NaN   \n",
       "4      1 2010-05-03        46.50       2.625        NaN        NaN        NaN   \n",
       "\n",
       "   MarkDown4  MarkDown5         CPI  Unemployment  IsHoliday  IsMarkdown  \\\n",
       "0        NaN        NaN  211.096358         8.106          0           0   \n",
       "1        NaN        NaN  211.242170         8.106          1           0   \n",
       "2        NaN        NaN  211.289143         8.106          0           0   \n",
       "3        NaN        NaN  211.319643         8.106          0           0   \n",
       "4        NaN        NaN  211.350143         8.106          0           0   \n",
       "\n",
       "                   Col3  is_na  \n",
       "0  12010-05-02 00:00:00   True  \n",
       "1  12010-12-02 00:00:00   True  \n",
       "2  12010-02-19 00:00:00   True  \n",
       "3  12010-02-26 00:00:00   True  \n",
       "4  12010-05-03 00:00:00   True  "
      ]
     },
     "execution_count": 47,
     "metadata": {},
     "output_type": "execute_result"
    }
   ],
   "source": [
    "features_1.head()"
   ]
  },
  {
   "cell_type": "code",
   "execution_count": 48,
   "metadata": {
    "scrolled": true
   },
   "outputs": [
    {
     "data": {
      "text/html": [
       "<div>\n",
       "<style scoped>\n",
       "    .dataframe tbody tr th:only-of-type {\n",
       "        vertical-align: middle;\n",
       "    }\n",
       "\n",
       "    .dataframe tbody tr th {\n",
       "        vertical-align: top;\n",
       "    }\n",
       "\n",
       "    .dataframe thead th {\n",
       "        text-align: right;\n",
       "    }\n",
       "</style>\n",
       "<table border=\"1\" class=\"dataframe\">\n",
       "  <thead>\n",
       "    <tr style=\"text-align: right;\">\n",
       "      <th></th>\n",
       "      <th>Store</th>\n",
       "      <th>Dept</th>\n",
       "      <th>Date</th>\n",
       "      <th>Weekly_Sales</th>\n",
       "      <th>IsHoliday</th>\n",
       "      <th>Sale_Id</th>\n",
       "    </tr>\n",
       "  </thead>\n",
       "  <tbody>\n",
       "    <tr>\n",
       "      <th>0</th>\n",
       "      <td>1</td>\n",
       "      <td>1</td>\n",
       "      <td>2010-05-02</td>\n",
       "      <td>24924.50</td>\n",
       "      <td>0</td>\n",
       "      <td>0</td>\n",
       "    </tr>\n",
       "    <tr>\n",
       "      <th>1</th>\n",
       "      <td>1</td>\n",
       "      <td>1</td>\n",
       "      <td>2010-12-02</td>\n",
       "      <td>46039.49</td>\n",
       "      <td>1</td>\n",
       "      <td>1</td>\n",
       "    </tr>\n",
       "    <tr>\n",
       "      <th>2</th>\n",
       "      <td>1</td>\n",
       "      <td>1</td>\n",
       "      <td>2010-02-19</td>\n",
       "      <td>41595.55</td>\n",
       "      <td>0</td>\n",
       "      <td>2</td>\n",
       "    </tr>\n",
       "    <tr>\n",
       "      <th>3</th>\n",
       "      <td>1</td>\n",
       "      <td>1</td>\n",
       "      <td>2010-02-26</td>\n",
       "      <td>19403.54</td>\n",
       "      <td>0</td>\n",
       "      <td>3</td>\n",
       "    </tr>\n",
       "    <tr>\n",
       "      <th>4</th>\n",
       "      <td>1</td>\n",
       "      <td>1</td>\n",
       "      <td>2010-05-03</td>\n",
       "      <td>21827.90</td>\n",
       "      <td>0</td>\n",
       "      <td>4</td>\n",
       "    </tr>\n",
       "  </tbody>\n",
       "</table>\n",
       "</div>"
      ],
      "text/plain": [
       "   Store  Dept       Date  Weekly_Sales  IsHoliday  Sale_Id\n",
       "0      1     1 2010-05-02      24924.50          0        0\n",
       "1      1     1 2010-12-02      46039.49          1        1\n",
       "2      1     1 2010-02-19      41595.55          0        2\n",
       "3      1     1 2010-02-26      19403.54          0        3\n",
       "4      1     1 2010-05-03      21827.90          0        4"
      ]
     },
     "execution_count": 48,
     "metadata": {},
     "output_type": "execute_result"
    }
   ],
   "source": [
    "sales_1.head()"
   ]
  },
  {
   "cell_type": "markdown",
   "metadata": {},
   "source": [
    "### Verificar la consistencia de las variables: constatar que los valores de cada atributo tienen sentido, detectar valores que no son consistentes con el resto.\n",
    "### Identificar valores atípicos en nuestro dataset. ¿Qué es conveniente hacer con ellos? Evaluar cada caso."
   ]
  },
  {
   "cell_type": "markdown",
   "metadata": {},
   "source": [
    "Analizamos si existen ventas semanales negativas"
   ]
  },
  {
   "cell_type": "code",
   "execution_count": 49,
   "metadata": {},
   "outputs": [
    {
     "data": {
      "text/html": [
       "<div>\n",
       "<style scoped>\n",
       "    .dataframe tbody tr th:only-of-type {\n",
       "        vertical-align: middle;\n",
       "    }\n",
       "\n",
       "    .dataframe tbody tr th {\n",
       "        vertical-align: top;\n",
       "    }\n",
       "\n",
       "    .dataframe thead th {\n",
       "        text-align: right;\n",
       "    }\n",
       "</style>\n",
       "<table border=\"1\" class=\"dataframe\">\n",
       "  <thead>\n",
       "    <tr style=\"text-align: right;\">\n",
       "      <th></th>\n",
       "      <th>Store</th>\n",
       "      <th>Dept</th>\n",
       "      <th>Date</th>\n",
       "      <th>Weekly_Sales</th>\n",
       "      <th>IsHoliday</th>\n",
       "      <th>Sale_Id</th>\n",
       "    </tr>\n",
       "  </thead>\n",
       "  <tbody>\n",
       "    <tr>\n",
       "      <th>count</th>\n",
       "      <td>421570.000000</td>\n",
       "      <td>421570.000000</td>\n",
       "      <td>421570</td>\n",
       "      <td>421570.000000</td>\n",
       "      <td>421570.000000</td>\n",
       "      <td>421570.000000</td>\n",
       "    </tr>\n",
       "    <tr>\n",
       "      <th>unique</th>\n",
       "      <td>NaN</td>\n",
       "      <td>NaN</td>\n",
       "      <td>143</td>\n",
       "      <td>NaN</td>\n",
       "      <td>NaN</td>\n",
       "      <td>NaN</td>\n",
       "    </tr>\n",
       "    <tr>\n",
       "      <th>top</th>\n",
       "      <td>NaN</td>\n",
       "      <td>NaN</td>\n",
       "      <td>2011-12-23 00:00:00</td>\n",
       "      <td>NaN</td>\n",
       "      <td>NaN</td>\n",
       "      <td>NaN</td>\n",
       "    </tr>\n",
       "    <tr>\n",
       "      <th>freq</th>\n",
       "      <td>NaN</td>\n",
       "      <td>NaN</td>\n",
       "      <td>3027</td>\n",
       "      <td>NaN</td>\n",
       "      <td>NaN</td>\n",
       "      <td>NaN</td>\n",
       "    </tr>\n",
       "    <tr>\n",
       "      <th>first</th>\n",
       "      <td>NaN</td>\n",
       "      <td>NaN</td>\n",
       "      <td>2010-01-10 00:00:00</td>\n",
       "      <td>NaN</td>\n",
       "      <td>NaN</td>\n",
       "      <td>NaN</td>\n",
       "    </tr>\n",
       "    <tr>\n",
       "      <th>last</th>\n",
       "      <td>NaN</td>\n",
       "      <td>NaN</td>\n",
       "      <td>2012-12-10 00:00:00</td>\n",
       "      <td>NaN</td>\n",
       "      <td>NaN</td>\n",
       "      <td>NaN</td>\n",
       "    </tr>\n",
       "    <tr>\n",
       "      <th>mean</th>\n",
       "      <td>22.200546</td>\n",
       "      <td>44.260317</td>\n",
       "      <td>NaN</td>\n",
       "      <td>15981.258123</td>\n",
       "      <td>0.261397</td>\n",
       "      <td>210784.500000</td>\n",
       "    </tr>\n",
       "    <tr>\n",
       "      <th>std</th>\n",
       "      <td>12.785297</td>\n",
       "      <td>30.492054</td>\n",
       "      <td>NaN</td>\n",
       "      <td>22711.183519</td>\n",
       "      <td>0.625240</td>\n",
       "      <td>121696.920829</td>\n",
       "    </tr>\n",
       "    <tr>\n",
       "      <th>min</th>\n",
       "      <td>1.000000</td>\n",
       "      <td>1.000000</td>\n",
       "      <td>NaN</td>\n",
       "      <td>-4988.940000</td>\n",
       "      <td>0.000000</td>\n",
       "      <td>0.000000</td>\n",
       "    </tr>\n",
       "    <tr>\n",
       "      <th>25%</th>\n",
       "      <td>11.000000</td>\n",
       "      <td>18.000000</td>\n",
       "      <td>NaN</td>\n",
       "      <td>2079.650000</td>\n",
       "      <td>0.000000</td>\n",
       "      <td>105392.250000</td>\n",
       "    </tr>\n",
       "    <tr>\n",
       "      <th>50%</th>\n",
       "      <td>22.000000</td>\n",
       "      <td>37.000000</td>\n",
       "      <td>NaN</td>\n",
       "      <td>7612.030000</td>\n",
       "      <td>0.000000</td>\n",
       "      <td>210784.500000</td>\n",
       "    </tr>\n",
       "    <tr>\n",
       "      <th>75%</th>\n",
       "      <td>33.000000</td>\n",
       "      <td>74.000000</td>\n",
       "      <td>NaN</td>\n",
       "      <td>20205.852500</td>\n",
       "      <td>0.000000</td>\n",
       "      <td>316176.750000</td>\n",
       "    </tr>\n",
       "    <tr>\n",
       "      <th>max</th>\n",
       "      <td>45.000000</td>\n",
       "      <td>99.000000</td>\n",
       "      <td>NaN</td>\n",
       "      <td>693099.360000</td>\n",
       "      <td>2.000000</td>\n",
       "      <td>421569.000000</td>\n",
       "    </tr>\n",
       "  </tbody>\n",
       "</table>\n",
       "</div>"
      ],
      "text/plain": [
       "                Store           Dept                 Date   Weekly_Sales  \\\n",
       "count   421570.000000  421570.000000               421570  421570.000000   \n",
       "unique            NaN            NaN                  143            NaN   \n",
       "top               NaN            NaN  2011-12-23 00:00:00            NaN   \n",
       "freq              NaN            NaN                 3027            NaN   \n",
       "first             NaN            NaN  2010-01-10 00:00:00            NaN   \n",
       "last              NaN            NaN  2012-12-10 00:00:00            NaN   \n",
       "mean        22.200546      44.260317                  NaN   15981.258123   \n",
       "std         12.785297      30.492054                  NaN   22711.183519   \n",
       "min          1.000000       1.000000                  NaN   -4988.940000   \n",
       "25%         11.000000      18.000000                  NaN    2079.650000   \n",
       "50%         22.000000      37.000000                  NaN    7612.030000   \n",
       "75%         33.000000      74.000000                  NaN   20205.852500   \n",
       "max         45.000000      99.000000                  NaN  693099.360000   \n",
       "\n",
       "            IsHoliday        Sale_Id  \n",
       "count   421570.000000  421570.000000  \n",
       "unique            NaN            NaN  \n",
       "top               NaN            NaN  \n",
       "freq              NaN            NaN  \n",
       "first             NaN            NaN  \n",
       "last              NaN            NaN  \n",
       "mean         0.261397  210784.500000  \n",
       "std          0.625240  121696.920829  \n",
       "min          0.000000       0.000000  \n",
       "25%          0.000000  105392.250000  \n",
       "50%          0.000000  210784.500000  \n",
       "75%          0.000000  316176.750000  \n",
       "max          2.000000  421569.000000  "
      ]
     },
     "execution_count": 49,
     "metadata": {},
     "output_type": "execute_result"
    }
   ],
   "source": [
    "sales_1.describe(include='all')"
   ]
  },
  {
   "cell_type": "markdown",
   "metadata": {},
   "source": [
    "Observamos que existen ventas negativas, asique analizamos cuantas fueron sobre el total de ventas"
   ]
  },
  {
   "cell_type": "code",
   "execution_count": 50,
   "metadata": {
    "scrolled": true
   },
   "outputs": [
    {
     "name": "stdout",
     "output_type": "stream",
     "text": [
      "Ventas semanales negativas: 1285\n",
      "Proporción sobre el total de ventas: 0.0030481296107408022\n"
     ]
    }
   ],
   "source": [
    "print(f'Ventas semanales negativas: {len(sales_1[(sales_1.Weekly_Sales < 0)])}')\n",
    "print(f'Proporción sobre el total de ventas: {len(sales_1[(sales_1.Weekly_Sales < 0)])/len(sales_1)}')"
   ]
  },
  {
   "cell_type": "markdown",
   "metadata": {},
   "source": [
    "Existen 1299 ventas semanales con valor negativo. Debería analizarse por que motivo se han cargado ventas con valores negativos. Representan el 0.3% del dataset."
   ]
  },
  {
   "cell_type": "code",
   "execution_count": 51,
   "metadata": {},
   "outputs": [
    {
     "data": {
      "image/png": "[encoded data removed]",
      "text/plain": [
       "<Figure size 720x432 with 1 Axes>"
      ]
     },
     "metadata": {
      "needs_background": "light"
     },
     "output_type": "display_data"
    }
   ],
   "source": [
    "plt.figure(figsize=(10,6))\n",
    "seaborn.boxplot(data=sales,\n",
    "             y='Weekly_Sales', \n",
    "            color='#35A7FF' )\n",
    "plt.ylabel('Weekly_Sales')\n",
    "plt.xticks(rotation=45)\n",
    "seaborn.despine()"
   ]
  },
  {
   "cell_type": "markdown",
   "metadata": {},
   "source": [
    "Se observan muchos outliers con ventas semanales mucho más altas que el resto. Habría que analizar si al separar por tipo de tienda sigue apareciendo esta relación, ya que existen 3 tipos distintos de tiendas, y de distintos tamaños, lo que indica que puede ser lógico que una tienda tenga más ventas que otras."
   ]
  },
  {
   "cell_type": "code",
   "execution_count": 52,
   "metadata": {},
   "outputs": [
    {
     "data": {
      "text/html": [
       "<div>\n",
       "<style scoped>\n",
       "    .dataframe tbody tr th:only-of-type {\n",
       "        vertical-align: middle;\n",
       "    }\n",
       "\n",
       "    .dataframe tbody tr th {\n",
       "        vertical-align: top;\n",
       "    }\n",
       "\n",
       "    .dataframe thead th {\n",
       "        text-align: right;\n",
       "    }\n",
       "</style>\n",
       "<table border=\"1\" class=\"dataframe\">\n",
       "  <thead>\n",
       "    <tr style=\"text-align: right;\">\n",
       "      <th></th>\n",
       "      <th>Store</th>\n",
       "      <th>Date</th>\n",
       "      <th>Temperature</th>\n",
       "      <th>Fuel_Price</th>\n",
       "      <th>MarkDown1</th>\n",
       "      <th>MarkDown2</th>\n",
       "      <th>MarkDown3</th>\n",
       "      <th>MarkDown4</th>\n",
       "      <th>MarkDown5</th>\n",
       "      <th>CPI</th>\n",
       "      <th>Unemployment</th>\n",
       "      <th>IsHoliday</th>\n",
       "      <th>IsMarkdown</th>\n",
       "      <th>Col3</th>\n",
       "      <th>is_na</th>\n",
       "    </tr>\n",
       "  </thead>\n",
       "  <tbody>\n",
       "    <tr>\n",
       "      <th>count</th>\n",
       "      <td>8190.000000</td>\n",
       "      <td>8190</td>\n",
       "      <td>8190.000000</td>\n",
       "      <td>8190.000000</td>\n",
       "      <td>4032.000000</td>\n",
       "      <td>2921.000000</td>\n",
       "      <td>3613.000000</td>\n",
       "      <td>3464.000000</td>\n",
       "      <td>4050.000000</td>\n",
       "      <td>7605.000000</td>\n",
       "      <td>7605.000000</td>\n",
       "      <td>8190.000000</td>\n",
       "      <td>8190.000000</td>\n",
       "      <td>8190</td>\n",
       "      <td>8190</td>\n",
       "    </tr>\n",
       "    <tr>\n",
       "      <th>unique</th>\n",
       "      <td>NaN</td>\n",
       "      <td>182</td>\n",
       "      <td>NaN</td>\n",
       "      <td>NaN</td>\n",
       "      <td>NaN</td>\n",
       "      <td>NaN</td>\n",
       "      <td>NaN</td>\n",
       "      <td>NaN</td>\n",
       "      <td>NaN</td>\n",
       "      <td>NaN</td>\n",
       "      <td>NaN</td>\n",
       "      <td>NaN</td>\n",
       "      <td>NaN</td>\n",
       "      <td>8190</td>\n",
       "      <td>2</td>\n",
       "    </tr>\n",
       "    <tr>\n",
       "      <th>top</th>\n",
       "      <td>NaN</td>\n",
       "      <td>2011-07-15 00:00:00</td>\n",
       "      <td>NaN</td>\n",
       "      <td>NaN</td>\n",
       "      <td>NaN</td>\n",
       "      <td>NaN</td>\n",
       "      <td>NaN</td>\n",
       "      <td>NaN</td>\n",
       "      <td>NaN</td>\n",
       "      <td>NaN</td>\n",
       "      <td>NaN</td>\n",
       "      <td>NaN</td>\n",
       "      <td>NaN</td>\n",
       "      <td>262011-03-18 00:00:00</td>\n",
       "      <td>True</td>\n",
       "    </tr>\n",
       "    <tr>\n",
       "      <th>freq</th>\n",
       "      <td>NaN</td>\n",
       "      <td>45</td>\n",
       "      <td>NaN</td>\n",
       "      <td>NaN</td>\n",
       "      <td>NaN</td>\n",
       "      <td>NaN</td>\n",
       "      <td>NaN</td>\n",
       "      <td>NaN</td>\n",
       "      <td>NaN</td>\n",
       "      <td>NaN</td>\n",
       "      <td>NaN</td>\n",
       "      <td>NaN</td>\n",
       "      <td>NaN</td>\n",
       "      <td>1</td>\n",
       "      <td>4140</td>\n",
       "    </tr>\n",
       "    <tr>\n",
       "      <th>first</th>\n",
       "      <td>NaN</td>\n",
       "      <td>2010-01-10 00:00:00</td>\n",
       "      <td>NaN</td>\n",
       "      <td>NaN</td>\n",
       "      <td>NaN</td>\n",
       "      <td>NaN</td>\n",
       "      <td>NaN</td>\n",
       "      <td>NaN</td>\n",
       "      <td>NaN</td>\n",
       "      <td>NaN</td>\n",
       "      <td>NaN</td>\n",
       "      <td>NaN</td>\n",
       "      <td>NaN</td>\n",
       "      <td>NaN</td>\n",
       "      <td>NaN</td>\n",
       "    </tr>\n",
       "    <tr>\n",
       "      <th>last</th>\n",
       "      <td>NaN</td>\n",
       "      <td>2013-12-07 00:00:00</td>\n",
       "      <td>NaN</td>\n",
       "      <td>NaN</td>\n",
       "      <td>NaN</td>\n",
       "      <td>NaN</td>\n",
       "      <td>NaN</td>\n",
       "      <td>NaN</td>\n",
       "      <td>NaN</td>\n",
       "      <td>NaN</td>\n",
       "      <td>NaN</td>\n",
       "      <td>NaN</td>\n",
       "      <td>NaN</td>\n",
       "      <td>NaN</td>\n",
       "      <td>NaN</td>\n",
       "    </tr>\n",
       "    <tr>\n",
       "      <th>mean</th>\n",
       "      <td>23.000000</td>\n",
       "      <td>NaN</td>\n",
       "      <td>59.356198</td>\n",
       "      <td>3.405992</td>\n",
       "      <td>7032.371786</td>\n",
       "      <td>3384.176594</td>\n",
       "      <td>1760.100180</td>\n",
       "      <td>3292.935886</td>\n",
       "      <td>4132.216422</td>\n",
       "      <td>172.460809</td>\n",
       "      <td>7.826821</td>\n",
       "      <td>0.071429</td>\n",
       "      <td>0.494505</td>\n",
       "      <td>NaN</td>\n",
       "      <td>NaN</td>\n",
       "    </tr>\n",
       "    <tr>\n",
       "      <th>std</th>\n",
       "      <td>12.987966</td>\n",
       "      <td>NaN</td>\n",
       "      <td>18.678607</td>\n",
       "      <td>0.431337</td>\n",
       "      <td>9262.747448</td>\n",
       "      <td>8793.583016</td>\n",
       "      <td>11276.462208</td>\n",
       "      <td>6792.329861</td>\n",
       "      <td>13086.690278</td>\n",
       "      <td>39.738346</td>\n",
       "      <td>1.877259</td>\n",
       "      <td>0.257555</td>\n",
       "      <td>0.500000</td>\n",
       "      <td>NaN</td>\n",
       "      <td>NaN</td>\n",
       "    </tr>\n",
       "    <tr>\n",
       "      <th>min</th>\n",
       "      <td>1.000000</td>\n",
       "      <td>NaN</td>\n",
       "      <td>-7.290000</td>\n",
       "      <td>2.472000</td>\n",
       "      <td>-2781.450000</td>\n",
       "      <td>-265.760000</td>\n",
       "      <td>-179.260000</td>\n",
       "      <td>0.220000</td>\n",
       "      <td>-185.170000</td>\n",
       "      <td>126.064000</td>\n",
       "      <td>3.684000</td>\n",
       "      <td>0.000000</td>\n",
       "      <td>0.000000</td>\n",
       "      <td>NaN</td>\n",
       "      <td>NaN</td>\n",
       "    </tr>\n",
       "    <tr>\n",
       "      <th>25%</th>\n",
       "      <td>12.000000</td>\n",
       "      <td>NaN</td>\n",
       "      <td>45.902500</td>\n",
       "      <td>3.041000</td>\n",
       "      <td>1577.532500</td>\n",
       "      <td>68.880000</td>\n",
       "      <td>6.600000</td>\n",
       "      <td>304.687500</td>\n",
       "      <td>1440.827500</td>\n",
       "      <td>132.364839</td>\n",
       "      <td>6.634000</td>\n",
       "      <td>0.000000</td>\n",
       "      <td>0.000000</td>\n",
       "      <td>NaN</td>\n",
       "      <td>NaN</td>\n",
       "    </tr>\n",
       "    <tr>\n",
       "      <th>50%</th>\n",
       "      <td>23.000000</td>\n",
       "      <td>NaN</td>\n",
       "      <td>60.710000</td>\n",
       "      <td>3.513000</td>\n",
       "      <td>4743.580000</td>\n",
       "      <td>364.570000</td>\n",
       "      <td>36.260000</td>\n",
       "      <td>1176.425000</td>\n",
       "      <td>2727.135000</td>\n",
       "      <td>182.764003</td>\n",
       "      <td>7.806000</td>\n",
       "      <td>0.000000</td>\n",
       "      <td>0.000000</td>\n",
       "      <td>NaN</td>\n",
       "      <td>NaN</td>\n",
       "    </tr>\n",
       "    <tr>\n",
       "      <th>75%</th>\n",
       "      <td>34.000000</td>\n",
       "      <td>NaN</td>\n",
       "      <td>73.880000</td>\n",
       "      <td>3.743000</td>\n",
       "      <td>8923.310000</td>\n",
       "      <td>2153.350000</td>\n",
       "      <td>163.150000</td>\n",
       "      <td>3310.007500</td>\n",
       "      <td>4832.555000</td>\n",
       "      <td>213.932412</td>\n",
       "      <td>8.567000</td>\n",
       "      <td>0.000000</td>\n",
       "      <td>1.000000</td>\n",
       "      <td>NaN</td>\n",
       "      <td>NaN</td>\n",
       "    </tr>\n",
       "    <tr>\n",
       "      <th>max</th>\n",
       "      <td>45.000000</td>\n",
       "      <td>NaN</td>\n",
       "      <td>101.950000</td>\n",
       "      <td>4.468000</td>\n",
       "      <td>103184.980000</td>\n",
       "      <td>104519.540000</td>\n",
       "      <td>149483.310000</td>\n",
       "      <td>67474.850000</td>\n",
       "      <td>771448.100000</td>\n",
       "      <td>228.976456</td>\n",
       "      <td>14.313000</td>\n",
       "      <td>1.000000</td>\n",
       "      <td>1.000000</td>\n",
       "      <td>NaN</td>\n",
       "      <td>NaN</td>\n",
       "    </tr>\n",
       "  </tbody>\n",
       "</table>\n",
       "</div>"
      ],
      "text/plain": [
       "              Store                 Date  Temperature   Fuel_Price  \\\n",
       "count   8190.000000                 8190  8190.000000  8190.000000   \n",
       "unique          NaN                  182          NaN          NaN   \n",
       "top             NaN  2011-07-15 00:00:00          NaN          NaN   \n",
       "freq            NaN                   45          NaN          NaN   \n",
       "first           NaN  2010-01-10 00:00:00          NaN          NaN   \n",
       "last            NaN  2013-12-07 00:00:00          NaN          NaN   \n",
       "mean      23.000000                  NaN    59.356198     3.405992   \n",
       "std       12.987966                  NaN    18.678607     0.431337   \n",
       "min        1.000000                  NaN    -7.290000     2.472000   \n",
       "25%       12.000000                  NaN    45.902500     3.041000   \n",
       "50%       23.000000                  NaN    60.710000     3.513000   \n",
       "75%       34.000000                  NaN    73.880000     3.743000   \n",
       "max       45.000000                  NaN   101.950000     4.468000   \n",
       "\n",
       "            MarkDown1      MarkDown2      MarkDown3     MarkDown4  \\\n",
       "count     4032.000000    2921.000000    3613.000000   3464.000000   \n",
       "unique            NaN            NaN            NaN           NaN   \n",
       "top               NaN            NaN            NaN           NaN   \n",
       "freq              NaN            NaN            NaN           NaN   \n",
       "first             NaN            NaN            NaN           NaN   \n",
       "last              NaN            NaN            NaN           NaN   \n",
       "mean      7032.371786    3384.176594    1760.100180   3292.935886   \n",
       "std       9262.747448    8793.583016   11276.462208   6792.329861   \n",
       "min      -2781.450000    -265.760000    -179.260000      0.220000   \n",
       "25%       1577.532500      68.880000       6.600000    304.687500   \n",
       "50%       4743.580000     364.570000      36.260000   1176.425000   \n",
       "75%       8923.310000    2153.350000     163.150000   3310.007500   \n",
       "max     103184.980000  104519.540000  149483.310000  67474.850000   \n",
       "\n",
       "            MarkDown5          CPI  Unemployment    IsHoliday   IsMarkdown  \\\n",
       "count     4050.000000  7605.000000   7605.000000  8190.000000  8190.000000   \n",
       "unique            NaN          NaN           NaN          NaN          NaN   \n",
       "top               NaN          NaN           NaN          NaN          NaN   \n",
       "freq              NaN          NaN           NaN          NaN          NaN   \n",
       "first             NaN          NaN           NaN          NaN          NaN   \n",
       "last              NaN          NaN           NaN          NaN          NaN   \n",
       "mean      4132.216422   172.460809      7.826821     0.071429     0.494505   \n",
       "std      13086.690278    39.738346      1.877259     0.257555     0.500000   \n",
       "min       -185.170000   126.064000      3.684000     0.000000     0.000000   \n",
       "25%       1440.827500   132.364839      6.634000     0.000000     0.000000   \n",
       "50%       2727.135000   182.764003      7.806000     0.000000     0.000000   \n",
       "75%       4832.555000   213.932412      8.567000     0.000000     1.000000   \n",
       "max     771448.100000   228.976456     14.313000     1.000000     1.000000   \n",
       "\n",
       "                         Col3 is_na  \n",
       "count                    8190  8190  \n",
       "unique                   8190     2  \n",
       "top     262011-03-18 00:00:00  True  \n",
       "freq                        1  4140  \n",
       "first                     NaN   NaN  \n",
       "last                      NaN   NaN  \n",
       "mean                      NaN   NaN  \n",
       "std                       NaN   NaN  \n",
       "min                       NaN   NaN  \n",
       "25%                       NaN   NaN  \n",
       "50%                       NaN   NaN  \n",
       "75%                       NaN   NaN  \n",
       "max                       NaN   NaN  "
      ]
     },
     "execution_count": 52,
     "metadata": {},
     "output_type": "execute_result"
    }
   ],
   "source": [
    "features_1.describe(include='all')"
   ]
  },
  {
   "cell_type": "markdown",
   "metadata": {},
   "source": [
    "Podemos observar que en las columnas de MarkDown que sabemos que representan si hubo o no descuentos en esa semana, en algunos casos tienen valores negativos. Habría que analizar que representan realmente estos valores para entender si tiene sentido que esos valores sean negativos."
   ]
  },
  {
   "cell_type": "markdown",
   "metadata": {},
   "source": [
    "### Juntar las columnas de interés en un mismo DataFrame (Sales con Features)."
   ]
  },
  {
   "cell_type": "code",
   "execution_count": 53,
   "metadata": {},
   "outputs": [],
   "source": [
    "sales_features = pd.merge(sales_1[['Weekly_Sales', 'Date', 'Store', 'Dept']], features_1[['Temperature', 'Fuel_Price', 'CPI', 'Unemployment', 'IsHoliday', 'Date', 'IsMarkdown', 'Store','MarkDown1','MarkDown2','MarkDown3','MarkDown4','MarkDown5']], on=['Date', 'Store'])"
   ]
  },
  {
   "cell_type": "code",
   "execution_count": 54,
   "metadata": {
    "scrolled": true
   },
   "outputs": [
    {
     "data": {
      "text/html": [
       "<div>\n",
       "<style scoped>\n",
       "    .dataframe tbody tr th:only-of-type {\n",
       "        vertical-align: middle;\n",
       "    }\n",
       "\n",
       "    .dataframe tbody tr th {\n",
       "        vertical-align: top;\n",
       "    }\n",
       "\n",
       "    .dataframe thead th {\n",
       "        text-align: right;\n",
       "    }\n",
       "</style>\n",
       "<table border=\"1\" class=\"dataframe\">\n",
       "  <thead>\n",
       "    <tr style=\"text-align: right;\">\n",
       "      <th></th>\n",
       "      <th>Weekly_Sales</th>\n",
       "      <th>Date</th>\n",
       "      <th>Store</th>\n",
       "      <th>Dept</th>\n",
       "      <th>Temperature</th>\n",
       "      <th>Fuel_Price</th>\n",
       "      <th>CPI</th>\n",
       "      <th>Unemployment</th>\n",
       "      <th>IsHoliday</th>\n",
       "      <th>IsMarkdown</th>\n",
       "      <th>MarkDown1</th>\n",
       "      <th>MarkDown2</th>\n",
       "      <th>MarkDown3</th>\n",
       "      <th>MarkDown4</th>\n",
       "      <th>MarkDown5</th>\n",
       "    </tr>\n",
       "  </thead>\n",
       "  <tbody>\n",
       "    <tr>\n",
       "      <th>0</th>\n",
       "      <td>24924.50</td>\n",
       "      <td>2010-05-02</td>\n",
       "      <td>1</td>\n",
       "      <td>1</td>\n",
       "      <td>42.31</td>\n",
       "      <td>2.572</td>\n",
       "      <td>211.096358</td>\n",
       "      <td>8.106</td>\n",
       "      <td>0</td>\n",
       "      <td>0</td>\n",
       "      <td>NaN</td>\n",
       "      <td>NaN</td>\n",
       "      <td>NaN</td>\n",
       "      <td>NaN</td>\n",
       "      <td>NaN</td>\n",
       "    </tr>\n",
       "    <tr>\n",
       "      <th>1</th>\n",
       "      <td>50605.27</td>\n",
       "      <td>2010-05-02</td>\n",
       "      <td>1</td>\n",
       "      <td>2</td>\n",
       "      <td>42.31</td>\n",
       "      <td>2.572</td>\n",
       "      <td>211.096358</td>\n",
       "      <td>8.106</td>\n",
       "      <td>0</td>\n",
       "      <td>0</td>\n",
       "      <td>NaN</td>\n",
       "      <td>NaN</td>\n",
       "      <td>NaN</td>\n",
       "      <td>NaN</td>\n",
       "      <td>NaN</td>\n",
       "    </tr>\n",
       "    <tr>\n",
       "      <th>2</th>\n",
       "      <td>13740.12</td>\n",
       "      <td>2010-05-02</td>\n",
       "      <td>1</td>\n",
       "      <td>3</td>\n",
       "      <td>42.31</td>\n",
       "      <td>2.572</td>\n",
       "      <td>211.096358</td>\n",
       "      <td>8.106</td>\n",
       "      <td>0</td>\n",
       "      <td>0</td>\n",
       "      <td>NaN</td>\n",
       "      <td>NaN</td>\n",
       "      <td>NaN</td>\n",
       "      <td>NaN</td>\n",
       "      <td>NaN</td>\n",
       "    </tr>\n",
       "    <tr>\n",
       "      <th>3</th>\n",
       "      <td>39954.04</td>\n",
       "      <td>2010-05-02</td>\n",
       "      <td>1</td>\n",
       "      <td>4</td>\n",
       "      <td>42.31</td>\n",
       "      <td>2.572</td>\n",
       "      <td>211.096358</td>\n",
       "      <td>8.106</td>\n",
       "      <td>0</td>\n",
       "      <td>0</td>\n",
       "      <td>NaN</td>\n",
       "      <td>NaN</td>\n",
       "      <td>NaN</td>\n",
       "      <td>NaN</td>\n",
       "      <td>NaN</td>\n",
       "    </tr>\n",
       "    <tr>\n",
       "      <th>4</th>\n",
       "      <td>32229.38</td>\n",
       "      <td>2010-05-02</td>\n",
       "      <td>1</td>\n",
       "      <td>5</td>\n",
       "      <td>42.31</td>\n",
       "      <td>2.572</td>\n",
       "      <td>211.096358</td>\n",
       "      <td>8.106</td>\n",
       "      <td>0</td>\n",
       "      <td>0</td>\n",
       "      <td>NaN</td>\n",
       "      <td>NaN</td>\n",
       "      <td>NaN</td>\n",
       "      <td>NaN</td>\n",
       "      <td>NaN</td>\n",
       "    </tr>\n",
       "    <tr>\n",
       "      <th>5</th>\n",
       "      <td>5749.03</td>\n",
       "      <td>2010-05-02</td>\n",
       "      <td>1</td>\n",
       "      <td>6</td>\n",
       "      <td>42.31</td>\n",
       "      <td>2.572</td>\n",
       "      <td>211.096358</td>\n",
       "      <td>8.106</td>\n",
       "      <td>0</td>\n",
       "      <td>0</td>\n",
       "      <td>NaN</td>\n",
       "      <td>NaN</td>\n",
       "      <td>NaN</td>\n",
       "      <td>NaN</td>\n",
       "      <td>NaN</td>\n",
       "    </tr>\n",
       "    <tr>\n",
       "      <th>6</th>\n",
       "      <td>21084.08</td>\n",
       "      <td>2010-05-02</td>\n",
       "      <td>1</td>\n",
       "      <td>7</td>\n",
       "      <td>42.31</td>\n",
       "      <td>2.572</td>\n",
       "      <td>211.096358</td>\n",
       "      <td>8.106</td>\n",
       "      <td>0</td>\n",
       "      <td>0</td>\n",
       "      <td>NaN</td>\n",
       "      <td>NaN</td>\n",
       "      <td>NaN</td>\n",
       "      <td>NaN</td>\n",
       "      <td>NaN</td>\n",
       "    </tr>\n",
       "    <tr>\n",
       "      <th>7</th>\n",
       "      <td>40129.01</td>\n",
       "      <td>2010-05-02</td>\n",
       "      <td>1</td>\n",
       "      <td>8</td>\n",
       "      <td>42.31</td>\n",
       "      <td>2.572</td>\n",
       "      <td>211.096358</td>\n",
       "      <td>8.106</td>\n",
       "      <td>0</td>\n",
       "      <td>0</td>\n",
       "      <td>NaN</td>\n",
       "      <td>NaN</td>\n",
       "      <td>NaN</td>\n",
       "      <td>NaN</td>\n",
       "      <td>NaN</td>\n",
       "    </tr>\n",
       "    <tr>\n",
       "      <th>8</th>\n",
       "      <td>16930.99</td>\n",
       "      <td>2010-05-02</td>\n",
       "      <td>1</td>\n",
       "      <td>9</td>\n",
       "      <td>42.31</td>\n",
       "      <td>2.572</td>\n",
       "      <td>211.096358</td>\n",
       "      <td>8.106</td>\n",
       "      <td>0</td>\n",
       "      <td>0</td>\n",
       "      <td>NaN</td>\n",
       "      <td>NaN</td>\n",
       "      <td>NaN</td>\n",
       "      <td>NaN</td>\n",
       "      <td>NaN</td>\n",
       "    </tr>\n",
       "    <tr>\n",
       "      <th>9</th>\n",
       "      <td>30721.50</td>\n",
       "      <td>2010-05-02</td>\n",
       "      <td>1</td>\n",
       "      <td>10</td>\n",
       "      <td>42.31</td>\n",
       "      <td>2.572</td>\n",
       "      <td>211.096358</td>\n",
       "      <td>8.106</td>\n",
       "      <td>0</td>\n",
       "      <td>0</td>\n",
       "      <td>NaN</td>\n",
       "      <td>NaN</td>\n",
       "      <td>NaN</td>\n",
       "      <td>NaN</td>\n",
       "      <td>NaN</td>\n",
       "    </tr>\n",
       "    <tr>\n",
       "      <th>10</th>\n",
       "      <td>24213.18</td>\n",
       "      <td>2010-05-02</td>\n",
       "      <td>1</td>\n",
       "      <td>11</td>\n",
       "      <td>42.31</td>\n",
       "      <td>2.572</td>\n",
       "      <td>211.096358</td>\n",
       "      <td>8.106</td>\n",
       "      <td>0</td>\n",
       "      <td>0</td>\n",
       "      <td>NaN</td>\n",
       "      <td>NaN</td>\n",
       "      <td>NaN</td>\n",
       "      <td>NaN</td>\n",
       "      <td>NaN</td>\n",
       "    </tr>\n",
       "    <tr>\n",
       "      <th>11</th>\n",
       "      <td>8449.54</td>\n",
       "      <td>2010-05-02</td>\n",
       "      <td>1</td>\n",
       "      <td>12</td>\n",
       "      <td>42.31</td>\n",
       "      <td>2.572</td>\n",
       "      <td>211.096358</td>\n",
       "      <td>8.106</td>\n",
       "      <td>0</td>\n",
       "      <td>0</td>\n",
       "      <td>NaN</td>\n",
       "      <td>NaN</td>\n",
       "      <td>NaN</td>\n",
       "      <td>NaN</td>\n",
       "      <td>NaN</td>\n",
       "    </tr>\n",
       "    <tr>\n",
       "      <th>12</th>\n",
       "      <td>41969.29</td>\n",
       "      <td>2010-05-02</td>\n",
       "      <td>1</td>\n",
       "      <td>13</td>\n",
       "      <td>42.31</td>\n",
       "      <td>2.572</td>\n",
       "      <td>211.096358</td>\n",
       "      <td>8.106</td>\n",
       "      <td>0</td>\n",
       "      <td>0</td>\n",
       "      <td>NaN</td>\n",
       "      <td>NaN</td>\n",
       "      <td>NaN</td>\n",
       "      <td>NaN</td>\n",
       "      <td>NaN</td>\n",
       "    </tr>\n",
       "    <tr>\n",
       "      <th>13</th>\n",
       "      <td>19466.91</td>\n",
       "      <td>2010-05-02</td>\n",
       "      <td>1</td>\n",
       "      <td>14</td>\n",
       "      <td>42.31</td>\n",
       "      <td>2.572</td>\n",
       "      <td>211.096358</td>\n",
       "      <td>8.106</td>\n",
       "      <td>0</td>\n",
       "      <td>0</td>\n",
       "      <td>NaN</td>\n",
       "      <td>NaN</td>\n",
       "      <td>NaN</td>\n",
       "      <td>NaN</td>\n",
       "      <td>NaN</td>\n",
       "    </tr>\n",
       "    <tr>\n",
       "      <th>14</th>\n",
       "      <td>10217.55</td>\n",
       "      <td>2010-05-02</td>\n",
       "      <td>1</td>\n",
       "      <td>16</td>\n",
       "      <td>42.31</td>\n",
       "      <td>2.572</td>\n",
       "      <td>211.096358</td>\n",
       "      <td>8.106</td>\n",
       "      <td>0</td>\n",
       "      <td>0</td>\n",
       "      <td>NaN</td>\n",
       "      <td>NaN</td>\n",
       "      <td>NaN</td>\n",
       "      <td>NaN</td>\n",
       "      <td>NaN</td>\n",
       "    </tr>\n",
       "    <tr>\n",
       "      <th>15</th>\n",
       "      <td>13223.76</td>\n",
       "      <td>2010-05-02</td>\n",
       "      <td>1</td>\n",
       "      <td>17</td>\n",
       "      <td>42.31</td>\n",
       "      <td>2.572</td>\n",
       "      <td>211.096358</td>\n",
       "      <td>8.106</td>\n",
       "      <td>0</td>\n",
       "      <td>0</td>\n",
       "      <td>NaN</td>\n",
       "      <td>NaN</td>\n",
       "      <td>NaN</td>\n",
       "      <td>NaN</td>\n",
       "      <td>NaN</td>\n",
       "    </tr>\n",
       "    <tr>\n",
       "      <th>16</th>\n",
       "      <td>4729.50</td>\n",
       "      <td>2010-05-02</td>\n",
       "      <td>1</td>\n",
       "      <td>18</td>\n",
       "      <td>42.31</td>\n",
       "      <td>2.572</td>\n",
       "      <td>211.096358</td>\n",
       "      <td>8.106</td>\n",
       "      <td>0</td>\n",
       "      <td>0</td>\n",
       "      <td>NaN</td>\n",
       "      <td>NaN</td>\n",
       "      <td>NaN</td>\n",
       "      <td>NaN</td>\n",
       "      <td>NaN</td>\n",
       "    </tr>\n",
       "    <tr>\n",
       "      <th>17</th>\n",
       "      <td>1947.05</td>\n",
       "      <td>2010-05-02</td>\n",
       "      <td>1</td>\n",
       "      <td>19</td>\n",
       "      <td>42.31</td>\n",
       "      <td>2.572</td>\n",
       "      <td>211.096358</td>\n",
       "      <td>8.106</td>\n",
       "      <td>0</td>\n",
       "      <td>0</td>\n",
       "      <td>NaN</td>\n",
       "      <td>NaN</td>\n",
       "      <td>NaN</td>\n",
       "      <td>NaN</td>\n",
       "      <td>NaN</td>\n",
       "    </tr>\n",
       "    <tr>\n",
       "      <th>18</th>\n",
       "      <td>5034.10</td>\n",
       "      <td>2010-05-02</td>\n",
       "      <td>1</td>\n",
       "      <td>20</td>\n",
       "      <td>42.31</td>\n",
       "      <td>2.572</td>\n",
       "      <td>211.096358</td>\n",
       "      <td>8.106</td>\n",
       "      <td>0</td>\n",
       "      <td>0</td>\n",
       "      <td>NaN</td>\n",
       "      <td>NaN</td>\n",
       "      <td>NaN</td>\n",
       "      <td>NaN</td>\n",
       "      <td>NaN</td>\n",
       "    </tr>\n",
       "    <tr>\n",
       "      <th>19</th>\n",
       "      <td>8907.63</td>\n",
       "      <td>2010-05-02</td>\n",
       "      <td>1</td>\n",
       "      <td>21</td>\n",
       "      <td>42.31</td>\n",
       "      <td>2.572</td>\n",
       "      <td>211.096358</td>\n",
       "      <td>8.106</td>\n",
       "      <td>0</td>\n",
       "      <td>0</td>\n",
       "      <td>NaN</td>\n",
       "      <td>NaN</td>\n",
       "      <td>NaN</td>\n",
       "      <td>NaN</td>\n",
       "      <td>NaN</td>\n",
       "    </tr>\n",
       "    <tr>\n",
       "      <th>20</th>\n",
       "      <td>13623.98</td>\n",
       "      <td>2010-05-02</td>\n",
       "      <td>1</td>\n",
       "      <td>22</td>\n",
       "      <td>42.31</td>\n",
       "      <td>2.572</td>\n",
       "      <td>211.096358</td>\n",
       "      <td>8.106</td>\n",
       "      <td>0</td>\n",
       "      <td>0</td>\n",
       "      <td>NaN</td>\n",
       "      <td>NaN</td>\n",
       "      <td>NaN</td>\n",
       "      <td>NaN</td>\n",
       "      <td>NaN</td>\n",
       "    </tr>\n",
       "    <tr>\n",
       "      <th>21</th>\n",
       "      <td>24146.49</td>\n",
       "      <td>2010-05-02</td>\n",
       "      <td>1</td>\n",
       "      <td>23</td>\n",
       "      <td>42.31</td>\n",
       "      <td>2.572</td>\n",
       "      <td>211.096358</td>\n",
       "      <td>8.106</td>\n",
       "      <td>0</td>\n",
       "      <td>0</td>\n",
       "      <td>NaN</td>\n",
       "      <td>NaN</td>\n",
       "      <td>NaN</td>\n",
       "      <td>NaN</td>\n",
       "      <td>NaN</td>\n",
       "    </tr>\n",
       "    <tr>\n",
       "      <th>22</th>\n",
       "      <td>8272.90</td>\n",
       "      <td>2010-05-02</td>\n",
       "      <td>1</td>\n",
       "      <td>24</td>\n",
       "      <td>42.31</td>\n",
       "      <td>2.572</td>\n",
       "      <td>211.096358</td>\n",
       "      <td>8.106</td>\n",
       "      <td>0</td>\n",
       "      <td>0</td>\n",
       "      <td>NaN</td>\n",
       "      <td>NaN</td>\n",
       "      <td>NaN</td>\n",
       "      <td>NaN</td>\n",
       "      <td>NaN</td>\n",
       "    </tr>\n",
       "    <tr>\n",
       "      <th>23</th>\n",
       "      <td>11609.50</td>\n",
       "      <td>2010-05-02</td>\n",
       "      <td>1</td>\n",
       "      <td>25</td>\n",
       "      <td>42.31</td>\n",
       "      <td>2.572</td>\n",
       "      <td>211.096358</td>\n",
       "      <td>8.106</td>\n",
       "      <td>0</td>\n",
       "      <td>0</td>\n",
       "      <td>NaN</td>\n",
       "      <td>NaN</td>\n",
       "      <td>NaN</td>\n",
       "      <td>NaN</td>\n",
       "      <td>NaN</td>\n",
       "    </tr>\n",
       "    <tr>\n",
       "      <th>24</th>\n",
       "      <td>11737.12</td>\n",
       "      <td>2010-05-02</td>\n",
       "      <td>1</td>\n",
       "      <td>26</td>\n",
       "      <td>42.31</td>\n",
       "      <td>2.572</td>\n",
       "      <td>211.096358</td>\n",
       "      <td>8.106</td>\n",
       "      <td>0</td>\n",
       "      <td>0</td>\n",
       "      <td>NaN</td>\n",
       "      <td>NaN</td>\n",
       "      <td>NaN</td>\n",
       "      <td>NaN</td>\n",
       "      <td>NaN</td>\n",
       "    </tr>\n",
       "    <tr>\n",
       "      <th>25</th>\n",
       "      <td>2293.00</td>\n",
       "      <td>2010-05-02</td>\n",
       "      <td>1</td>\n",
       "      <td>27</td>\n",
       "      <td>42.31</td>\n",
       "      <td>2.572</td>\n",
       "      <td>211.096358</td>\n",
       "      <td>8.106</td>\n",
       "      <td>0</td>\n",
       "      <td>0</td>\n",
       "      <td>NaN</td>\n",
       "      <td>NaN</td>\n",
       "      <td>NaN</td>\n",
       "      <td>NaN</td>\n",
       "      <td>NaN</td>\n",
       "    </tr>\n",
       "    <tr>\n",
       "      <th>26</th>\n",
       "      <td>1085.29</td>\n",
       "      <td>2010-05-02</td>\n",
       "      <td>1</td>\n",
       "      <td>28</td>\n",
       "      <td>42.31</td>\n",
       "      <td>2.572</td>\n",
       "      <td>211.096358</td>\n",
       "      <td>8.106</td>\n",
       "      <td>0</td>\n",
       "      <td>0</td>\n",
       "      <td>NaN</td>\n",
       "      <td>NaN</td>\n",
       "      <td>NaN</td>\n",
       "      <td>NaN</td>\n",
       "      <td>NaN</td>\n",
       "    </tr>\n",
       "    <tr>\n",
       "      <th>27</th>\n",
       "      <td>7024.95</td>\n",
       "      <td>2010-05-02</td>\n",
       "      <td>1</td>\n",
       "      <td>29</td>\n",
       "      <td>42.31</td>\n",
       "      <td>2.572</td>\n",
       "      <td>211.096358</td>\n",
       "      <td>8.106</td>\n",
       "      <td>0</td>\n",
       "      <td>0</td>\n",
       "      <td>NaN</td>\n",
       "      <td>NaN</td>\n",
       "      <td>NaN</td>\n",
       "      <td>NaN</td>\n",
       "      <td>NaN</td>\n",
       "    </tr>\n",
       "    <tr>\n",
       "      <th>28</th>\n",
       "      <td>5491.00</td>\n",
       "      <td>2010-05-02</td>\n",
       "      <td>1</td>\n",
       "      <td>30</td>\n",
       "      <td>42.31</td>\n",
       "      <td>2.572</td>\n",
       "      <td>211.096358</td>\n",
       "      <td>8.106</td>\n",
       "      <td>0</td>\n",
       "      <td>0</td>\n",
       "      <td>NaN</td>\n",
       "      <td>NaN</td>\n",
       "      <td>NaN</td>\n",
       "      <td>NaN</td>\n",
       "      <td>NaN</td>\n",
       "    </tr>\n",
       "    <tr>\n",
       "      <th>29</th>\n",
       "      <td>3455.92</td>\n",
       "      <td>2010-05-02</td>\n",
       "      <td>1</td>\n",
       "      <td>31</td>\n",
       "      <td>42.31</td>\n",
       "      <td>2.572</td>\n",
       "      <td>211.096358</td>\n",
       "      <td>8.106</td>\n",
       "      <td>0</td>\n",
       "      <td>0</td>\n",
       "      <td>NaN</td>\n",
       "      <td>NaN</td>\n",
       "      <td>NaN</td>\n",
       "      <td>NaN</td>\n",
       "      <td>NaN</td>\n",
       "    </tr>\n",
       "  </tbody>\n",
       "</table>\n",
       "</div>"
      ],
      "text/plain": [
       "    Weekly_Sales       Date  Store  Dept  Temperature  Fuel_Price         CPI  \\\n",
       "0       24924.50 2010-05-02      1     1        42.31       2.572  211.096358   \n",
       "1       50605.27 2010-05-02      1     2        42.31       2.572  211.096358   \n",
       "2       13740.12 2010-05-02      1     3        42.31       2.572  211.096358   \n",
       "3       39954.04 2010-05-02      1     4        42.31       2.572  211.096358   \n",
       "4       32229.38 2010-05-02      1     5        42.31       2.572  211.096358   \n",
       "5        5749.03 2010-05-02      1     6        42.31       2.572  211.096358   \n",
       "6       21084.08 2010-05-02      1     7        42.31       2.572  211.096358   \n",
       "7       40129.01 2010-05-02      1     8        42.31       2.572  211.096358   \n",
       "8       16930.99 2010-05-02      1     9        42.31       2.572  211.096358   \n",
       "9       30721.50 2010-05-02      1    10        42.31       2.572  211.096358   \n",
       "10      24213.18 2010-05-02      1    11        42.31       2.572  211.096358   \n",
       "11       8449.54 2010-05-02      1    12        42.31       2.572  211.096358   \n",
       "12      41969.29 2010-05-02      1    13        42.31       2.572  211.096358   \n",
       "13      19466.91 2010-05-02      1    14        42.31       2.572  211.096358   \n",
       "14      10217.55 2010-05-02      1    16        42.31       2.572  211.096358   \n",
       "15      13223.76 2010-05-02      1    17        42.31       2.572  211.096358   \n",
       "16       4729.50 2010-05-02      1    18        42.31       2.572  211.096358   \n",
       "17       1947.05 2010-05-02      1    19        42.31       2.572  211.096358   \n",
       "18       5034.10 2010-05-02      1    20        42.31       2.572  211.096358   \n",
       "19       8907.63 2010-05-02      1    21        42.31       2.572  211.096358   \n",
       "20      13623.98 2010-05-02      1    22        42.31       2.572  211.096358   \n",
       "21      24146.49 2010-05-02      1    23        42.31       2.572  211.096358   \n",
       "22       8272.90 2010-05-02      1    24        42.31       2.572  211.096358   \n",
       "23      11609.50 2010-05-02      1    25        42.31       2.572  211.096358   \n",
       "24      11737.12 2010-05-02      1    26        42.31       2.572  211.096358   \n",
       "25       2293.00 2010-05-02      1    27        42.31       2.572  211.096358   \n",
       "26       1085.29 2010-05-02      1    28        42.31       2.572  211.096358   \n",
       "27       7024.95 2010-05-02      1    29        42.31       2.572  211.096358   \n",
       "28       5491.00 2010-05-02      1    30        42.31       2.572  211.096358   \n",
       "29       3455.92 2010-05-02      1    31        42.31       2.572  211.096358   \n",
       "\n",
       "    Unemployment  IsHoliday  IsMarkdown  MarkDown1  MarkDown2  MarkDown3  \\\n",
       "0          8.106          0           0        NaN        NaN        NaN   \n",
       "1          8.106          0           0        NaN        NaN        NaN   \n",
       "2          8.106          0           0        NaN        NaN        NaN   \n",
       "3          8.106          0           0        NaN        NaN        NaN   \n",
       "4          8.106          0           0        NaN        NaN        NaN   \n",
       "5          8.106          0           0        NaN        NaN        NaN   \n",
       "6          8.106          0           0        NaN        NaN        NaN   \n",
       "7          8.106          0           0        NaN        NaN        NaN   \n",
       "8          8.106          0           0        NaN        NaN        NaN   \n",
       "9          8.106          0           0        NaN        NaN        NaN   \n",
       "10         8.106          0           0        NaN        NaN        NaN   \n",
       "11         8.106          0           0        NaN        NaN        NaN   \n",
       "12         8.106          0           0        NaN        NaN        NaN   \n",
       "13         8.106          0           0        NaN        NaN        NaN   \n",
       "14         8.106          0           0        NaN        NaN        NaN   \n",
       "15         8.106          0           0        NaN        NaN        NaN   \n",
       "16         8.106          0           0        NaN        NaN        NaN   \n",
       "17         8.106          0           0        NaN        NaN        NaN   \n",
       "18         8.106          0           0        NaN        NaN        NaN   \n",
       "19         8.106          0           0        NaN        NaN        NaN   \n",
       "20         8.106          0           0        NaN        NaN        NaN   \n",
       "21         8.106          0           0        NaN        NaN        NaN   \n",
       "22         8.106          0           0        NaN        NaN        NaN   \n",
       "23         8.106          0           0        NaN        NaN        NaN   \n",
       "24         8.106          0           0        NaN        NaN        NaN   \n",
       "25         8.106          0           0        NaN        NaN        NaN   \n",
       "26         8.106          0           0        NaN        NaN        NaN   \n",
       "27         8.106          0           0        NaN        NaN        NaN   \n",
       "28         8.106          0           0        NaN        NaN        NaN   \n",
       "29         8.106          0           0        NaN        NaN        NaN   \n",
       "\n",
       "    MarkDown4  MarkDown5  \n",
       "0         NaN        NaN  \n",
       "1         NaN        NaN  \n",
       "2         NaN        NaN  \n",
       "3         NaN        NaN  \n",
       "4         NaN        NaN  \n",
       "5         NaN        NaN  \n",
       "6         NaN        NaN  \n",
       "7         NaN        NaN  \n",
       "8         NaN        NaN  \n",
       "9         NaN        NaN  \n",
       "10        NaN        NaN  \n",
       "11        NaN        NaN  \n",
       "12        NaN        NaN  \n",
       "13        NaN        NaN  \n",
       "14        NaN        NaN  \n",
       "15        NaN        NaN  \n",
       "16        NaN        NaN  \n",
       "17        NaN        NaN  \n",
       "18        NaN        NaN  \n",
       "19        NaN        NaN  \n",
       "20        NaN        NaN  \n",
       "21        NaN        NaN  \n",
       "22        NaN        NaN  \n",
       "23        NaN        NaN  \n",
       "24        NaN        NaN  \n",
       "25        NaN        NaN  \n",
       "26        NaN        NaN  \n",
       "27        NaN        NaN  \n",
       "28        NaN        NaN  \n",
       "29        NaN        NaN  "
      ]
     },
     "execution_count": 54,
     "metadata": {},
     "output_type": "execute_result"
    }
   ],
   "source": [
    "sales_features.head(30)"
   ]
  },
  {
   "cell_type": "markdown",
   "metadata": {},
   "source": [
    "### Para simplificar el problema resamplear los datos ¿Transformar Weekly sales en ventas mensuales?. Graficar la distribución de las ventas mensuales para cada año para 5 tiendas a elección. Comparar sus distribuciones. ¿Se reconoce alguna distribución conocida?"
   ]
  },
  {
   "cell_type": "code",
   "execution_count": 55,
   "metadata": {},
   "outputs": [],
   "source": [
    "def resample_store(store_id):\n",
    "    store_sales = sales_1[sales_1.Store==store_id].copy()\n",
    "    monthly = store_sales.loc[:, ['Weekly_Sales']]\n",
    "    monthly = monthly.set_index(store_sales.Date)\n",
    "    monthly['Weekly_Sales'] = pd.to_numeric(monthly['Weekly_Sales'], downcast='float', errors='coerce')\n",
    "    monthly.rename(columns={'Weekly_Sales': 'Monthly_Sales'}, inplace=True)\n",
    "    return monthly.resample('M').sum()"
   ]
  },
  {
   "cell_type": "code",
   "execution_count": 56,
   "metadata": {
    "scrolled": true
   },
   "outputs": [
    {
     "name": "stdout",
     "output_type": "stream",
     "text": [
      "Ventas mensuales para la tienda 5:\n"
     ]
    },
    {
     "data": {
      "text/plain": [
       "<matplotlib.axes._subplots.AxesSubplot at 0x7f0c4f091ef0>"
      ]
     },
     "execution_count": 56,
     "metadata": {},
     "output_type": "execute_result"
    },
    {
     "data": {
      "image/png": "[encoded data removed]",
      "text/plain": [
       "<Figure size 1080x576 with 1 Axes>"
      ]
     },
     "metadata": {
      "needs_background": "light"
     },
     "output_type": "display_data"
    }
   ],
   "source": [
    "print('Ventas mensuales para la tienda 5:')\n",
    "monthly_5 = resample_store(5)\n",
    "monthly_5.plot(figsize=(15,8), style=[':', '--', '-'])"
   ]
  },
  {
   "cell_type": "code",
   "execution_count": 57,
   "metadata": {},
   "outputs": [
    {
     "data": {
      "image/png": "[encoded data removed]",
      "text/plain": [
       "<Figure size 720x432 with 1 Axes>"
      ]
     },
     "metadata": {
      "needs_background": "light"
     },
     "output_type": "display_data"
    }
   ],
   "source": [
    "sl5=sales_1[sales_1['Store']==5].groupby([sales_1['Date'].dt.month,sales_1['Date'].dt.year]).agg('mean')\n",
    "plt.figure(figsize=(10,6))\n",
    "seaborn.distplot(sl5['Weekly_Sales'], bins=5, color='#6BF178', label='Ventas mensuales tienda 5')\n",
    "plt.legend(bbox_to_anchor=(1, 1), loc=2, borderaxespad=0.)\n",
    "plt.ylabel('Frecuencia relativa')\n",
    "seaborn.despine()\n"
   ]
  },
  {
   "cell_type": "code",
   "execution_count": 58,
   "metadata": {},
   "outputs": [
    {
     "name": "stdout",
     "output_type": "stream",
     "text": [
      "Ventas mensuales para la tienda 15:\n"
     ]
    },
    {
     "data": {
      "text/plain": [
       "<matplotlib.axes._subplots.AxesSubplot at 0x7f0c4c94bbe0>"
      ]
     },
     "execution_count": 58,
     "metadata": {},
     "output_type": "execute_result"
    },
    {
     "data": {
      "image/png": "[encoded data removed]",
      "text/plain": [
       "<Figure size 1080x576 with 1 Axes>"
      ]
     },
     "metadata": {
      "needs_background": "light"
     },
     "output_type": "display_data"
    }
   ],
   "source": [
    "print('Ventas mensuales para la tienda 15:')\n",
    "monthly_15 = resample_store(15)\n",
    "monthly_15.plot(figsize=(15,8), style=[':', '--', '-'])"
   ]
  },
  {
   "cell_type": "code",
   "execution_count": 59,
   "metadata": {},
   "outputs": [
    {
     "data": {
      "image/png": "[encoded data removed]",
      "text/plain": [
       "<Figure size 720x432 with 1 Axes>"
      ]
     },
     "metadata": {
      "needs_background": "light"
     },
     "output_type": "display_data"
    }
   ],
   "source": [
    "sl15=sales_1[sales_1['Store']==15].groupby([sales_1['Date'].dt.month,sales_1['Date'].dt.year]).agg('mean')\n",
    "plt.figure(figsize=(10,6))\n",
    "seaborn.distplot(sl15['Weekly_Sales'], bins=5, color='#6BF178', label='Ventas mensuales')\n",
    "plt.legend(bbox_to_anchor=(1, 1), loc=2, borderaxespad=0.)\n",
    "plt.ylabel('Frecuencia relativa')\n",
    "seaborn.despine()"
   ]
  },
  {
   "cell_type": "code",
   "execution_count": 60,
   "metadata": {},
   "outputs": [
    {
     "name": "stdout",
     "output_type": "stream",
     "text": [
      "Ventas mensuales para la tienda 25:\n"
     ]
    },
    {
     "data": {
      "text/plain": [
       "<matplotlib.axes._subplots.AxesSubplot at 0x7f0c2c881ac8>"
      ]
     },
     "execution_count": 60,
     "metadata": {},
     "output_type": "execute_result"
    },
    {
     "data": {
      "image/png": "[encoded data removed]",
      "text/plain": [
       "<Figure size 1080x576 with 1 Axes>"
      ]
     },
     "metadata": {
      "needs_background": "light"
     },
     "output_type": "display_data"
    }
   ],
   "source": [
    "print('Ventas mensuales para la tienda 25:')\n",
    "monthly_25 = resample_store(25)\n",
    "monthly_25.plot(figsize=(15,8), style=[':', '--', '-'])"
   ]
  },
  {
   "cell_type": "code",
   "execution_count": 61,
   "metadata": {},
   "outputs": [
    {
     "data": {
      "image/png": "[encoded data removed]",
      "text/plain": [
       "<Figure size 720x432 with 1 Axes>"
      ]
     },
     "metadata": {
      "needs_background": "light"
     },
     "output_type": "display_data"
    }
   ],
   "source": [
    "sl25=sales_1[sales_1['Store']==25].groupby([sales_1['Date'].dt.month,sales_1['Date'].dt.year]).agg('mean')\n",
    "plt.figure(figsize=(10,6))\n",
    "seaborn.distplot(sl25['Weekly_Sales'], bins=5, color='#6BF178', label='Ventas mensuales')\n",
    "plt.legend(bbox_to_anchor=(1, 1), loc=2, borderaxespad=0.)\n",
    "plt.ylabel('Frecuencia relativa')\n",
    "seaborn.despine()"
   ]
  },
  {
   "cell_type": "code",
   "execution_count": 62,
   "metadata": {},
   "outputs": [
    {
     "name": "stdout",
     "output_type": "stream",
     "text": [
      "Ventas mensuales para la tienda 35:\n"
     ]
    },
    {
     "data": {
      "text/plain": [
       "<matplotlib.axes._subplots.AxesSubplot at 0x7f0c2c08d048>"
      ]
     },
     "execution_count": 62,
     "metadata": {},
     "output_type": "execute_result"
    },
    {
     "data": {
      "image/png": "[encoded data removed]",
      "text/plain": [
       "<Figure size 1080x576 with 1 Axes>"
      ]
     },
     "metadata": {
      "needs_background": "light"
     },
     "output_type": "display_data"
    }
   ],
   "source": [
    "print('Ventas mensuales para la tienda 35:')\n",
    "monthly_35 = resample_store(35)\n",
    "monthly_35.plot(figsize=(15,8), style=[':', '--', '-'])"
   ]
  },
  {
   "cell_type": "code",
   "execution_count": 63,
   "metadata": {},
   "outputs": [
    {
     "data": {
      "image/png": "[encoded data removed]",
      "text/plain": [
       "<Figure size 720x432 with 1 Axes>"
      ]
     },
     "metadata": {
      "needs_background": "light"
     },
     "output_type": "display_data"
    }
   ],
   "source": [
    "sl35=sales_1[sales_1['Store']==35].groupby([sales_1['Date'].dt.month,sales_1['Date'].dt.year]).agg('mean')\n",
    "plt.figure(figsize=(10,6))\n",
    "seaborn.distplot(sl35['Weekly_Sales'], bins=5, color='#6BF178', label='Ventas mensuales')\n",
    "plt.legend(bbox_to_anchor=(1, 1), loc=2, borderaxespad=0.)\n",
    "plt.ylabel('Frecuencia relativa')\n",
    "seaborn.despine()"
   ]
  },
  {
   "cell_type": "code",
   "execution_count": 64,
   "metadata": {},
   "outputs": [
    {
     "name": "stdout",
     "output_type": "stream",
     "text": [
      "Ventas mensuales para la tienda 45:\n"
     ]
    },
    {
     "data": {
      "text/plain": [
       "<matplotlib.axes._subplots.AxesSubplot at 0x7f0c2c0ab0b8>"
      ]
     },
     "execution_count": 64,
     "metadata": {},
     "output_type": "execute_result"
    },
    {
     "data": {
      "image/png": "[encoded data removed]",
      "text/plain": [
       "<Figure size 1080x576 with 1 Axes>"
      ]
     },
     "metadata": {
      "needs_background": "light"
     },
     "output_type": "display_data"
    }
   ],
   "source": [
    "print('Ventas mensuales para la tienda 45:')\n",
    "monthly_45 = resample_store(45)\n",
    "monthly_45.plot(figsize=(15,8), style=[':', '--', '-'])"
   ]
  },
  {
   "cell_type": "code",
   "execution_count": 65,
   "metadata": {},
   "outputs": [
    {
     "data": {
      "image/png": "[encoded data removed]",
      "text/plain": [
       "<Figure size 720x432 with 1 Axes>"
      ]
     },
     "metadata": {
      "needs_background": "light"
     },
     "output_type": "display_data"
    }
   ],
   "source": [
    "sl45=sales_1[sales_1['Store']==45].groupby([sales_1['Date'].dt.month,sales_1['Date'].dt.year]).agg('mean')\n",
    "plt.figure(figsize=(10,6))\n",
    "seaborn.distplot(sl45['Weekly_Sales'], bins=5, color='#6BF178', label='Ventas mensuales')\n",
    "plt.legend(bbox_to_anchor=(1, 1), loc=2, borderaxespad=0.)\n",
    "plt.ylabel('Frecuencia relativa')\n",
    "seaborn.despine()"
   ]
  },
  {
   "cell_type": "code",
   "execution_count": 66,
   "metadata": {},
   "outputs": [],
   "source": [
    "def get_normalized_variable(dataset, variable):\n",
    "    \"\"\"\n",
    "    This method will be used to normalize a variable within a defined dataset\n",
    "    \"\"\"\n",
    "    mean, std = stats.norm.fit(dataset[variable].dropna())\n",
    "    return (dataset[variable].dropna() - mean) / std"
   ]
  },
  {
   "cell_type": "code",
   "execution_count": 67,
   "metadata": {},
   "outputs": [
    {
     "name": "stdout",
     "output_type": "stream",
     "text": [
      "KS Test tienda 5:\n"
     ]
    },
    {
     "data": {
      "text/plain": [
       "KstestResult(statistic=0.13103895965730894, pvalue=0.533775156659713)"
      ]
     },
     "execution_count": 67,
     "metadata": {},
     "output_type": "execute_result"
    }
   ],
   "source": [
    "print('KS Test tienda 5:')\n",
    "stats.kstest(get_normalized_variable(sl5, 'Weekly_Sales'), 'norm')"
   ]
  },
  {
   "cell_type": "code",
   "execution_count": 68,
   "metadata": {},
   "outputs": [
    {
     "name": "stdout",
     "output_type": "stream",
     "text": [
      "KS Test tienda 15:\n"
     ]
    },
    {
     "data": {
      "text/plain": [
       "KstestResult(statistic=0.1500426148901084, pvalue=0.35834288144817855)"
      ]
     },
     "execution_count": 68,
     "metadata": {},
     "output_type": "execute_result"
    }
   ],
   "source": [
    "print('KS Test tienda 15:')\n",
    "stats.kstest(get_normalized_variable(sl15, 'Weekly_Sales'), 'norm')"
   ]
  },
  {
   "cell_type": "code",
   "execution_count": 69,
   "metadata": {},
   "outputs": [
    {
     "name": "stdout",
     "output_type": "stream",
     "text": [
      "KS Test tienda 25:\n"
     ]
    },
    {
     "data": {
      "text/plain": [
       "KstestResult(statistic=0.1803334931193833, pvalue=0.17001372542990184)"
      ]
     },
     "execution_count": 69,
     "metadata": {},
     "output_type": "execute_result"
    }
   ],
   "source": [
    "print('KS Test tienda 25:')\n",
    "stats.kstest(get_normalized_variable(sl25, 'Weekly_Sales'), 'norm')"
   ]
  },
  {
   "cell_type": "code",
   "execution_count": 70,
   "metadata": {},
   "outputs": [
    {
     "name": "stdout",
     "output_type": "stream",
     "text": [
      "KS Test tienda 35:\n"
     ]
    },
    {
     "data": {
      "text/plain": [
       "KstestResult(statistic=0.2228025053277049, pvalue=0.04739654108953296)"
      ]
     },
     "execution_count": 70,
     "metadata": {},
     "output_type": "execute_result"
    }
   ],
   "source": [
    "print('KS Test tienda 35:')\n",
    "stats.kstest(get_normalized_variable(sl35, 'Weekly_Sales'), 'norm')"
   ]
  },
  {
   "cell_type": "code",
   "execution_count": 71,
   "metadata": {},
   "outputs": [
    {
     "name": "stdout",
     "output_type": "stream",
     "text": [
      "KS Test tienda 45:\n"
     ]
    },
    {
     "data": {
      "text/plain": [
       "KstestResult(statistic=0.19848341710301542, pvalue=0.10184011171100535)"
      ]
     },
     "execution_count": 71,
     "metadata": {},
     "output_type": "execute_result"
    }
   ],
   "source": [
    "print('KS Test tienda 45:')\n",
    "stats.kstest(get_normalized_variable(sl45, 'Weekly_Sales'), 'norm')"
   ]
  },
  {
   "cell_type": "markdown",
   "metadata": {},
   "source": [
    "Luego de haber aplicado los test de normalidad con los p-valores obtenidos no podemos afirmar que se corresponda a una distribución normal en ningún caso."
   ]
  },
  {
   "cell_type": "markdown",
   "metadata": {},
   "source": [
    "### Analizar correlación entre número departamento y ventas semanales/mensuales, ¿posee alguna incidencia el número de departamento sobre las ventas?, en caso negativo eliminar esta variable de nuestros dataframes."
   ]
  },
  {
   "cell_type": "code",
   "execution_count": 72,
   "metadata": {},
   "outputs": [
    {
     "data": {
      "text/html": [
       "<div>\n",
       "<style scoped>\n",
       "    .dataframe tbody tr th:only-of-type {\n",
       "        vertical-align: middle;\n",
       "    }\n",
       "\n",
       "    .dataframe tbody tr th {\n",
       "        vertical-align: top;\n",
       "    }\n",
       "\n",
       "    .dataframe thead th {\n",
       "        text-align: right;\n",
       "    }\n",
       "</style>\n",
       "<table border=\"1\" class=\"dataframe\">\n",
       "  <thead>\n",
       "    <tr style=\"text-align: right;\">\n",
       "      <th></th>\n",
       "      <th>Weekly_Sales</th>\n",
       "      <th>Store</th>\n",
       "    </tr>\n",
       "  </thead>\n",
       "  <tbody>\n",
       "    <tr>\n",
       "      <th>Weekly_Sales</th>\n",
       "      <td>1.000000</td>\n",
       "      <td>-0.102241</td>\n",
       "    </tr>\n",
       "    <tr>\n",
       "      <th>Store</th>\n",
       "      <td>-0.102241</td>\n",
       "      <td>1.000000</td>\n",
       "    </tr>\n",
       "  </tbody>\n",
       "</table>\n",
       "</div>"
      ],
      "text/plain": [
       "              Weekly_Sales     Store\n",
       "Weekly_Sales      1.000000 -0.102241\n",
       "Store            -0.102241  1.000000"
      ]
     },
     "execution_count": 72,
     "metadata": {},
     "output_type": "execute_result"
    }
   ],
   "source": [
    "sales_features.loc[:,['Weekly_Sales','Store']].corr(method ='spearman')"
   ]
  },
  {
   "cell_type": "code",
   "execution_count": 73,
   "metadata": {},
   "outputs": [
    {
     "data": {
      "image/png": "[encoded data removed]",
      "text/plain": [
       "<Figure size 360x360 with 6 Axes>"
      ]
     },
     "metadata": {
      "needs_background": "light"
     },
     "output_type": "display_data"
    }
   ],
   "source": [
    "seaborn.pairplot(data=sales_features,\n",
    "                 vars=['Weekly_Sales','Store'],\n",
    "                 markers='*')\n",
    "seaborn.despine()"
   ]
  },
  {
   "cell_type": "markdown",
   "metadata": {},
   "source": [
    "De acuerdo al coeficiente de correlacion no puede inferirse que haya relacion lineal entre la variable Weekly Sales y Store. el grafico de dispersión refleja esta falta de relacion. por esta razon podemos eliminar la variable Departamento."
   ]
  },
  {
   "cell_type": "code",
   "execution_count": 74,
   "metadata": {},
   "outputs": [],
   "source": [
    "sales_features.drop('Dept', axis=1, inplace=True)\n",
    "sales_features.drop('MarkDown1', axis=1, inplace=True)\n",
    "sales_features.drop('MarkDown2', axis=1, inplace=True)\n",
    "sales_features.drop('MarkDown3', axis=1, inplace=True)\n",
    "sales_features.drop('MarkDown4', axis=1, inplace=True)\n",
    "sales_features.drop('MarkDown5', axis=1, inplace=True)"
   ]
  },
  {
   "cell_type": "code",
   "execution_count": 75,
   "metadata": {
    "scrolled": true
   },
   "outputs": [
    {
     "data": {
      "text/html": [
       "<div>\n",
       "<style scoped>\n",
       "    .dataframe tbody tr th:only-of-type {\n",
       "        vertical-align: middle;\n",
       "    }\n",
       "\n",
       "    .dataframe tbody tr th {\n",
       "        vertical-align: top;\n",
       "    }\n",
       "\n",
       "    .dataframe thead th {\n",
       "        text-align: right;\n",
       "    }\n",
       "</style>\n",
       "<table border=\"1\" class=\"dataframe\">\n",
       "  <thead>\n",
       "    <tr style=\"text-align: right;\">\n",
       "      <th></th>\n",
       "      <th>Weekly_Sales</th>\n",
       "      <th>Date</th>\n",
       "      <th>Store</th>\n",
       "      <th>Temperature</th>\n",
       "      <th>Fuel_Price</th>\n",
       "      <th>CPI</th>\n",
       "      <th>Unemployment</th>\n",
       "      <th>IsHoliday</th>\n",
       "      <th>IsMarkdown</th>\n",
       "    </tr>\n",
       "  </thead>\n",
       "  <tbody>\n",
       "    <tr>\n",
       "      <th>0</th>\n",
       "      <td>24924.50</td>\n",
       "      <td>2010-05-02</td>\n",
       "      <td>1</td>\n",
       "      <td>42.31</td>\n",
       "      <td>2.572</td>\n",
       "      <td>211.096358</td>\n",
       "      <td>8.106</td>\n",
       "      <td>0</td>\n",
       "      <td>0</td>\n",
       "    </tr>\n",
       "    <tr>\n",
       "      <th>1</th>\n",
       "      <td>50605.27</td>\n",
       "      <td>2010-05-02</td>\n",
       "      <td>1</td>\n",
       "      <td>42.31</td>\n",
       "      <td>2.572</td>\n",
       "      <td>211.096358</td>\n",
       "      <td>8.106</td>\n",
       "      <td>0</td>\n",
       "      <td>0</td>\n",
       "    </tr>\n",
       "    <tr>\n",
       "      <th>2</th>\n",
       "      <td>13740.12</td>\n",
       "      <td>2010-05-02</td>\n",
       "      <td>1</td>\n",
       "      <td>42.31</td>\n",
       "      <td>2.572</td>\n",
       "      <td>211.096358</td>\n",
       "      <td>8.106</td>\n",
       "      <td>0</td>\n",
       "      <td>0</td>\n",
       "    </tr>\n",
       "    <tr>\n",
       "      <th>3</th>\n",
       "      <td>39954.04</td>\n",
       "      <td>2010-05-02</td>\n",
       "      <td>1</td>\n",
       "      <td>42.31</td>\n",
       "      <td>2.572</td>\n",
       "      <td>211.096358</td>\n",
       "      <td>8.106</td>\n",
       "      <td>0</td>\n",
       "      <td>0</td>\n",
       "    </tr>\n",
       "    <tr>\n",
       "      <th>4</th>\n",
       "      <td>32229.38</td>\n",
       "      <td>2010-05-02</td>\n",
       "      <td>1</td>\n",
       "      <td>42.31</td>\n",
       "      <td>2.572</td>\n",
       "      <td>211.096358</td>\n",
       "      <td>8.106</td>\n",
       "      <td>0</td>\n",
       "      <td>0</td>\n",
       "    </tr>\n",
       "  </tbody>\n",
       "</table>\n",
       "</div>"
      ],
      "text/plain": [
       "   Weekly_Sales       Date  Store  Temperature  Fuel_Price         CPI  \\\n",
       "0      24924.50 2010-05-02      1        42.31       2.572  211.096358   \n",
       "1      50605.27 2010-05-02      1        42.31       2.572  211.096358   \n",
       "2      13740.12 2010-05-02      1        42.31       2.572  211.096358   \n",
       "3      39954.04 2010-05-02      1        42.31       2.572  211.096358   \n",
       "4      32229.38 2010-05-02      1        42.31       2.572  211.096358   \n",
       "\n",
       "   Unemployment  IsHoliday  IsMarkdown  \n",
       "0         8.106          0           0  \n",
       "1         8.106          0           0  \n",
       "2         8.106          0           0  \n",
       "3         8.106          0           0  \n",
       "4         8.106          0           0  "
      ]
     },
     "execution_count": 75,
     "metadata": {},
     "output_type": "execute_result"
    }
   ],
   "source": [
    "sales_features.head(5)"
   ]
  },
  {
   "cell_type": "code",
   "execution_count": 86,
   "metadata": {
    "scrolled": false
   },
   "outputs": [],
   "source": [
    "sales_features = sales_features.groupby(['Date','Store'], as_index=False).agg({\"Weekly_Sales\": \"sum\",\"Temperature\": \"first\",\"Fuel_Price\": \"first\",\"CPI\": \"first\",\"Unemployment\": \"first\",\"IsHoliday\": \"first\",\"IsMarkdown\": \"first\"})"
   ]
  },
  {
   "cell_type": "markdown",
   "metadata": {},
   "source": [
    "### Una vez que tenemos las features de interés de nuestro set de datos, aplicar algún método de normalización sobre los mismos, para evitar tener un sesgo de unas variables sobre otra (se pueden utilizar técnicas como z-score/min-max scaling). Guardar el dataset normalizado con un nombre representativo."
   ]
  },
  {
   "cell_type": "code",
   "execution_count": 87,
   "metadata": {},
   "outputs": [],
   "source": [
    "from scipy.stats import zscore"
   ]
  },
  {
   "cell_type": "code",
   "execution_count": 88,
   "metadata": {},
   "outputs": [
    {
     "data": {
      "text/plain": [
       "Index(['Date', 'Store', 'Weekly_Sales', 'Temperature', 'Fuel_Price', 'CPI',\n",
       "       'Unemployment', 'IsHoliday', 'IsMarkdown'],\n",
       "      dtype='object')"
      ]
     },
     "execution_count": 88,
     "metadata": {},
     "output_type": "execute_result"
    }
   ],
   "source": [
    "sales_features.columns"
   ]
  },
  {
   "cell_type": "code",
   "execution_count": 90,
   "metadata": {
    "scrolled": false
   },
   "outputs": [
    {
     "data": {
      "text/html": [
       "<div>\n",
       "<style scoped>\n",
       "    .dataframe tbody tr th:only-of-type {\n",
       "        vertical-align: middle;\n",
       "    }\n",
       "\n",
       "    .dataframe tbody tr th {\n",
       "        vertical-align: top;\n",
       "    }\n",
       "\n",
       "    .dataframe thead th {\n",
       "        text-align: right;\n",
       "    }\n",
       "</style>\n",
       "<table border=\"1\" class=\"dataframe\">\n",
       "  <thead>\n",
       "    <tr style=\"text-align: right;\">\n",
       "      <th></th>\n",
       "      <th>Date</th>\n",
       "      <th>Store</th>\n",
       "      <th>Weekly_Sales</th>\n",
       "      <th>Temperature</th>\n",
       "      <th>Fuel_Price</th>\n",
       "      <th>CPI</th>\n",
       "      <th>Unemployment</th>\n",
       "      <th>IsHoliday</th>\n",
       "      <th>IsMarkdown</th>\n",
       "    </tr>\n",
       "  </thead>\n",
       "  <tbody>\n",
       "    <tr>\n",
       "      <th>0</th>\n",
       "      <td>2010-01-10</td>\n",
       "      <td>1</td>\n",
       "      <td>0.591512</td>\n",
       "      <td>0.608682</td>\n",
       "      <td>-1.64626</td>\n",
       "      <td>1.018802</td>\n",
       "      <td>-0.085913</td>\n",
       "      <td>0</td>\n",
       "      <td>0</td>\n",
       "    </tr>\n",
       "    <tr>\n",
       "      <th>1</th>\n",
       "      <td>2010-01-10</td>\n",
       "      <td>2</td>\n",
       "      <td>1.429318</td>\n",
       "      <td>0.464999</td>\n",
       "      <td>-1.64626</td>\n",
       "      <td>1.010109</td>\n",
       "      <td>0.087352</td>\n",
       "      <td>0</td>\n",
       "      <td>0</td>\n",
       "    </tr>\n",
       "    <tr>\n",
       "      <th>2</th>\n",
       "      <td>2010-01-10</td>\n",
       "      <td>3</td>\n",
       "      <td>-1.304047</td>\n",
       "      <td>0.701397</td>\n",
       "      <td>-1.64626</td>\n",
       "      <td>1.102979</td>\n",
       "      <td>-0.231989</td>\n",
       "      <td>0</td>\n",
       "      <td>0</td>\n",
       "    </tr>\n",
       "    <tr>\n",
       "      <th>3</th>\n",
       "      <td>2010-01-10</td>\n",
       "      <td>4</td>\n",
       "      <td>1.461051</td>\n",
       "      <td>0.178720</td>\n",
       "      <td>-1.61140</td>\n",
       "      <td>-1.152213</td>\n",
       "      <td>-0.464964</td>\n",
       "      <td>0</td>\n",
       "      <td>0</td>\n",
       "    </tr>\n",
       "    <tr>\n",
       "      <th>4</th>\n",
       "      <td>2010-01-10</td>\n",
       "      <td>5</td>\n",
       "      <td>-1.525981</td>\n",
       "      <td>0.565848</td>\n",
       "      <td>-1.64626</td>\n",
       "      <td>1.032904</td>\n",
       "      <td>-0.656355</td>\n",
       "      <td>0</td>\n",
       "      <td>0</td>\n",
       "    </tr>\n",
       "  </tbody>\n",
       "</table>\n",
       "</div>"
      ],
      "text/plain": [
       "        Date  Store  Weekly_Sales  Temperature  Fuel_Price       CPI  \\\n",
       "0 2010-01-10      1      0.591512     0.608682    -1.64626  1.018802   \n",
       "1 2010-01-10      2      1.429318     0.464999    -1.64626  1.010109   \n",
       "2 2010-01-10      3     -1.304047     0.701397    -1.64626  1.102979   \n",
       "3 2010-01-10      4      1.461051     0.178720    -1.61140 -1.152213   \n",
       "4 2010-01-10      5     -1.525981     0.565848    -1.64626  1.032904   \n",
       "\n",
       "   Unemployment  IsHoliday  IsMarkdown  \n",
       "0     -0.085913          0           0  \n",
       "1      0.087352          0           0  \n",
       "2     -0.231989          0           0  \n",
       "3     -0.464964          0           0  \n",
       "4     -0.656355          0           0  "
      ]
     },
     "execution_count": 90,
     "metadata": {},
     "output_type": "execute_result"
    }
   ],
   "source": [
    "numeric_cols = sales_features.drop(['IsHoliday', 'IsMarkdown', 'Store'], axis=1).select_dtypes(include=[np.number]).columns\n",
    "sales_features[numeric_cols] = sales_features[numeric_cols].apply(zscore)\n",
    "sales_features.head(5)"
   ]
  },
  {
   "cell_type": "code",
   "execution_count": 91,
   "metadata": {},
   "outputs": [],
   "source": [
    "# Cambiar valores de IsMarkdown por 0 y 1"
   ]
  },
  {
   "cell_type": "markdown",
   "metadata": {},
   "source": [
    "### Finalmente, reducir los features de interés mediante sus combinaciones lineales (aplicando Principal Component Analysis). "
   ]
  },
  {
   "cell_type": "code",
   "execution_count": 95,
   "metadata": {},
   "outputs": [
    {
     "data": {
      "text/plain": [
       "PCA(copy=True, iterated_power='auto', n_components=5, random_state=None,\n",
       "    svd_solver='auto', tol=0.0, whiten=False)"
      ]
     },
     "execution_count": 95,
     "metadata": {},
     "output_type": "execute_result"
    }
   ],
   "source": [
    "from sklearn.decomposition import PCA\n",
    "pca = PCA(n_components=5)\n",
    "pca.fit(sales_features[numeric_cols])# obtener los componentes principales"
   ]
  },
  {
   "cell_type": "code",
   "execution_count": 96,
   "metadata": {},
   "outputs": [
    {
     "name": "stdout",
     "output_type": "stream",
     "text": [
      "shape of X_pca (6435, 5)\n"
     ]
    }
   ],
   "source": [
    "sales_features_pca=pca.transform(sales_features[numeric_cols]) # convertimos nuestros datos con las nuevas dimensiones de PCA\n",
    "print(\"shape of X_pca\", sales_features_pca.shape)\n",
    " "
   ]
  },
  {
   "cell_type": "code",
   "execution_count": 97,
   "metadata": {},
   "outputs": [
    {
     "name": "stdout",
     "output_type": "stream",
     "text": [
      "[0.26692338 0.23058166 0.21315308 0.18851809 0.1008238 ]\n"
     ]
    }
   ],
   "source": [
    "expl = pca.explained_variance_ratio_\n",
    "print(expl)"
   ]
  },
  {
   "cell_type": "code",
   "execution_count": 98,
   "metadata": {},
   "outputs": [
    {
     "name": "stdout",
     "output_type": "stream",
     "text": [
      "suma: 0.7106581182281998\n"
     ]
    }
   ],
   "source": [
    "print('suma:',sum(expl[0:3]))\n",
    "#Vemos que con 3 componentes tenemos algo mas del 54% de varianza explicada\n",
    " "
   ]
  },
  {
   "cell_type": "code",
   "execution_count": 99,
   "metadata": {
    "scrolled": true
   },
   "outputs": [
    {
     "data": {
      "image/png": "[encoded data removed]",
      "text/plain": [
       "<Figure size 432x288 with 1 Axes>"
      ]
     },
     "metadata": {
      "needs_background": "light"
     },
     "output_type": "display_data"
    }
   ],
   "source": [
    "#graficamos el acumulado de varianza explicada en las nuevas dimensiones\n",
    "plt.plot(np.cumsum(pca.explained_variance_ratio_))\n",
    "plt.xlabel('number of components')\n",
    "plt.ylabel('cumulative explained variance')\n",
    "plt.show()"
   ]
  },
  {
   "cell_type": "markdown",
   "metadata": {},
   "source": [
    "No vale la pena utilizar componentes principales ya que  no hay 2 variables que representen toda la variacion sino que la misma esta muy distribuida"
   ]
  },
  {
   "cell_type": "markdown",
   "metadata": {},
   "source": [
    "### Guardar el dataset con nombre representativo."
   ]
  },
  {
   "cell_type": "code",
   "execution_count": 100,
   "metadata": {},
   "outputs": [],
   "source": [
    "sales_features.to_csv(os.path.join(DATASET_PATH, 'sales_features.csv'))"
   ]
  },
  {
   "cell_type": "code",
   "execution_count": null,
   "metadata": {},
   "outputs": [],
   "source": []
  }
 ],
 "metadata": {
  "kernelspec": {
   "display_name": "Python 3",
   "language": "python",
   "name": "python3"
  },
  "language_info": {
   "codemirror_mode": {
    "name": "ipython",
    "version": 3
   },
   "file_extension": ".py",
   "mimetype": "text/x-python",
   "name": "python",
   "nbconvert_exporter": "python",
   "pygments_lexer": "ipython3",
   "version": "3.6.8"
  }
 },
 "nbformat": 4,
 "nbformat_minor": 2
}
