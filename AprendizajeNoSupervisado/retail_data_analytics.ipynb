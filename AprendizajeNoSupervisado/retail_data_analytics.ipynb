{
 "cells": [
  {
   "cell_type": "markdown",
   "metadata": {},
   "source": [
    "# Título del Proyecto: Ciencia de Datos aplicada en la Industria Retail\n",
    "\n",
    "## Breve descripción del proyecto (descripción del dataset, problemas interesantes asociados)\n",
    "Se provee de un dataset que contiene datos históricos de ventas correspondientes a 45 tiendas anónimas localizadas en diferentes departamentos. Además el dataset cuenta con información de contexto (temperatura, precio del combustible, tasa de desempleo, información de rebajas, feriados) para las fechas correspondientes a las ventas (ventas registradas semanalmente desde febrero de 2010 hasta noviembre de 2012). Se provee también de una caracterización por tipo y tamaño para cada tienda y una lista de los usuarios que frecuentan cada una.\n",
    "Uno de los desafíos de modelar datos de esta industria se presenta debido a la necesidad de tomar decisiones basadas en operaciones históricas limitadas. Se busca la definición de estrategias y toma de decisiones, en base al análisis y procesamiento de los datos históricos disponibles, para el cumplimiento de un cierto objetivo, como lo puede ser aumento de la rentabilidad del negocio/mejora del servicio prestado al cliente.\n",
    "El objetivo de este proyecto es que el estudiante a lo largo de las materias a cursar en la diplomatura identifique y aplique diferentes técnicas de análisis/procesamiento de los datos que generen información valiosa para un negocio que se desarrolla en la industria en cuestión. Algunos de los puntos interesantes asociados son:\n",
    "- Predicción de ventas futuras (detección de altas y bajas), análisis de estacionalidad de los datos.\n",
    "- Segmentación de las ventas en base a las características de su contexto.\n",
    "- Sistema de recomendación de tiendas para los usuarios.\n",
    "- Análisis del efecto de las rebajas en las ventas para las distintas tiendas.\n",
    "- Análisis del impacto de los feriados en las ventas.\n",
    "- Análisis de correlación entre las diferentes variables provistas y las ventas semanales, análisis del impacto que las mismas causan.\n",
    "\n",
    "## Análisis y Visualización\n",
    "- Correlación entre variables/análisis de independencia. A través de este análisis se puede ver el impacto de cada variable sobre las ventas semanales y de esta manera determinar cuales son las variables importantes a considerar.\n",
    "- Distribución de los ejemplos con respecto a las diferentes clases. \n",
    "- Análisis de outliers.\n",
    "- Visualización de las ventas con respecto al tiempo para cada tienda en un determinado departamento.\n",
    "- Visualización de las ventas totales de cada tienda.\n",
    "- Porcentaje que representan las rebajas sobre las ventas totales para una tienda.\n",
    "\n",
    "## Análisis y Curación\n",
    "Para análisis y curación podrán aplicarse sobre el dataset (en su totalidad) los siguientes puntos:\n",
    "- Importación de datos.\n",
    "- Chequeo de claves únicas por sample/eliminar duplicados.\n",
    "- Despersonalización de datos.\n",
    "- Normalización de los nombres de las columnas en los dataframes.\n",
    "- Tratamiento de valores faltantes.\n",
    "- Codificación de variables categóricas.\n",
    "- Análisis de valores atípicos.\n",
    "- Persistencia de los resultados.\n",
    "- Ordenamiento de las columnas.\n",
    "- Eliminar columnas que no aporten información.\n",
    "- Crear un dataset único de las 3 tablas provistas incluyendo toda la información útil en una misma tabla.\n",
    "\n",
    "## Introducción al ML\n",
    "Los dataset provistos contienen muchas variables sobre las cuales se puede aplicar análisis y procesamiento. En esta materia puntual lo importante es que el estudiante aprenda a hacer la division de los datos, la elección del modelo, evaluación de metricas, independientemente de la complejidad del dataset. Razón por la cual para este práctico se tomaran dos variables simples de analizar, por ejemplo la fecha de las ventas y la columna que nos dice si es feriado o no, y con esto hacer un sistema predictivo en donde se introduce una fecha y el modelo predice si en esa semana hay feriados o no. Con esto podrá aplicarse:\n",
    "- Carga de datos.\n",
    "- Una pequeña reestructuración de las columnas optimizandolo para el análisis que se desea hacer (por ejemplo considerar todas las fechas de la semana y no solo la provista por el dataset).\n",
    "- Division en conjuntos de entrenamiento y evaluación.\n",
    "- Elección de un modelo.\n",
    "- Selección de hyperparámetros.\n",
    "- Métricas sobre el conjunto de evaluación.\n",
    "- Curvas ROC.\n",
    "\n",
    "## Aprendizaje Supervisado\n",
    "En este caso, en la materia se van aplicando diferentes técnicas correspondientes a aprendizaje supervisado evaluando los resultados obtenidos. Lo ideal es partir de un baseline e ir complejizando el modelo. Sería interesante implementar en este caso un sistema predictivo de ventas para un determinado año en base a la información histórica. Se cuenta con features como la fecha (de la que se puede derivar mes o epoca del año), precio del combustible, desempleo, temperatura las cuales se pueden utilizar como entrada de un modelo que prediga las sales que se tendrá en una determinada fecha. Esto podría hacerse como un modelo general, o seleccionar una determinada tienda para hacer el análisis. Se cuenta con el registro de 3 años, la idea sería entrenar el modelo con los dos primeros y testear el comportamiento del modelo con los datos del tercero. Es decir, se entrena con 2010 y 2011, y se corre el modelo con las features del 2012 comparando la salida del predictor con la real.\n",
    "\n",
    "## Aprendizaje No Supervisado\n",
    "Para la aplicación de aprendizaje no supervisado sería interesante hacer dos análisis:\n",
    "- Segmentación de las ventas: clusterizar las ventas junto con las diferentes variables disponibles y hacer un análisis de los grupos obtenidos. Si aplica, evaluar en que caso tenemos las mejores ventas, ante que condiciones, con que combinación de variables. Podría utilizarse un algoritmo como K Means con algún método de optimización de número de clusters como elbow method.\n",
    "- Sistema de recomendación de tiendas: se cuenta con el dato de los usuarios que frecuentan cada tienda, puede armarse un pequeño sistema de recomendación de tiendas a usuarios a través de métodos matriciales.\n",
    "\n",
    "## Optativas Relacionadas\n",
    "Análisis de series temporales, Introducción al data Warehousing, Ciencia de datos en las Finanzas, Introducción al aprendizaje profundo."
   ]
  },
  {
   "cell_type": "markdown",
   "metadata": {},
   "source": [
    "## Contenido del Dataset\n",
    "Se provee de datos históricos de ventas de 45 tiendas localizadas en diferentes regiones, cada tienda contiene un número determinado de departamentos. Cada compañía además organiza eventos de rebajas a lo largo del año. Estas rebajas preceden a feriados destacados como lo son: el Super Bowl, el Día del Trabajo, Día de Acción de Gracias y Navidad. Las semanas que incluyen estos feriados tienen un peso 5 veces mayor que las que no.\n",
    "\n",
    "El contenido de los cuatro archivos (Stores, Users, Features y Sales) se presenta a continuación:\n",
    "\n",
    "### Stores\n",
    "Información anónima de las 45 tiendas, incluye tipo y tamaño de las mismas.\n",
    "\n",
    "### Users\n",
    "Lista de usuarios y las tiendas que frecuentan.\n",
    "\n",
    "### Features\n",
    "Contiene información adicional relacionada a las tiendas, la localidad y actividad regional para las fechas dadas.\n",
    "- Store: el número de tienda.\n",
    "- Date: la semana correspondiente.\n",
    "- Temperatura: temperatura promedio de la región.\n",
    "- Fuel Price: costo del combustible en la región.\n",
    "- Markdown 1-5: datos anónimos relacionados a rebajas promocionales. Esta información esta sólo disponible a partir de Noviembre del 2011 y no esta disponible para todas las tiendas todo el tiempo. Lo valores faltantes están marcados como NA.\n",
    "- CPI: índice de precios al consumidor.\n",
    "- Unemployment: tasa de desempleo.\n",
    "- IsHoliday: si la semana contiene al menos un día feriado.\n",
    "\n",
    "### Sales\n",
    "Datos historicos de ventas, cubren desde el 05-02-2010 hasta el 01-11-2012. Incluye los siguientes campos:\n",
    "- Store: el número de tienda.\n",
    "- Dept: el número de departamento.\n",
    "- Date: la fecha correspondiente a la transacción.\n",
    "- Weekly_Sales: ventas para el departamento dado en la tienda correspondiente.\n",
    "- IsHoliday: indica si corresponde a una semana con días feriados o no.\n",
    "\n",
    "Link a la fuente: https://www.kaggle.com/manjeetsingh/retaildataset#Features%20data%20set.csv"
   ]
  },
  {
   "cell_type": "markdown",
   "metadata": {},
   "source": [
    "## Consigna práctico Análisis y Visualización\n",
    "\n",
    "- Calcular estadísticos como la moda, media, mediana y desviación estándar del precio del combustible y la temperatura. ¿Responden a alguna distribución conocida?\n",
    "- Seleccionar una tienda cualquiera, y calcular el promedio de ventas mensuales para los años en cuestión, graficar la distribución de las ventas promedios mensuales para cada año. ¿Responde a alguna distribución conocida?\n",
    "- Realizar un análisis de outliers para 3 variables a elección.\n",
    "- ¿Qué pasaría con las ventas si se baja el combustible?¿Que pasaría con las ventas si aumenta la tasa de desempleo?¿Qué sucede con las ventas si nos encontramos en un día feriado? En el caso de las ventas mensuales promedios, ¿existe una relación entre la variable ventas y el mes del año en que nos encontramos?\n",
    "- Crear una columna adicional IsMarkdown la cual será True si ha habido una rebaja en esa fecha y será False si no la ha habido. Teniendo en cuenta las variables IsHolisday e IsMarkdown, calcular su probabilidades conjunta y marginal.\n",
    "- ¿Que probabilidad hay de que haya rebajas una semana que se sabe que es feriado? Dividir en 4 partes el dataset y calcular bayes con respecto a estas dos variables, usando los resultados de cada iteración / partición para calcular. El objetivo es simular que los datos que van llegando en cada iteración recalculan la probabilidad\n",
    "\n",
    "Para la entrega se pide un jupyter notebook que contenga el desarrollo y los cálculos que han sido necesario para responder las preguntas. Además el alumno deberá presentar las respuestas acompañadas de gráficos en un formato interactivo para el lector, como lo puede ser a través de un html."
   ]
  },
  {
   "cell_type": "markdown",
   "metadata": {},
   "source": [
    "## Consigna práctico Análisis y Curación: Limpiando un Dataset\n",
    "1. Importando los datos:\n",
    "    - Verificar si no hay problemas en la importación: importar los datos, visualizarlos, análisis de tipos, corrección en los tipos de los datos de entrada.\n",
    "    - Asegurar que el archivo sales posee Ids/Claves únicas. Para el resto de los archivos, ¿tenemos algún atributo que se comporte como clave única?, en caso positivo chequear que no se repite. En caso de no tener una clave única identificatoria, ¿sería relevante asignar una clave única a cada registro?, chequear que no existen datos duplicados para estos casos.\n",
    "    - Despersonalizar los datos y guardarlos en un nuevo archivo. Tener en cuenta nunca modificar los datos crudos u originales.\n",
    "2. Pasos necesarios para limpieza del dataset:\n",
    "    - Etiquetas de variables/columnas: no usar caracteres especiales. Verificar que no haya problemas de codificación/encoding.\n",
    "    - Tratar valores faltantes (NaN).\n",
    "    - Codificar variables: las variables categóricas deberán ser tratadas como variables numéricas.\n",
    "    - Verificar la consistencia de las variables: constatar que los valores de cada atributo tienen sentido, detectar valores que no son consistentes con el resto.\n",
    "    - Identificar valores atípicos en nuestro dataset. ¿Qué es conveniente hacer con ellos? Evaluar cada caso.\n",
    "    - Juntar las columnas de interés en un mismo DataFrame (Sales con Features). \n",
    "    - Para simplificar el problema resamplear los datos ¿Transformar Weekly sales en ventas mensuales?. Graficar la distribución de las ventas mensuales para cada año para 5 tiendas a elección. Comparar sus distribuciones. ¿Se reconoce alguna distribución conocida?\n",
    "    - Analizar correlación entre número departamento y ventas semanales/mensuales, ¿posee alguna incidencia el número de departamento sobre las ventas?, en caso negativo eliminar esta variable de nuestros dataframes.\n",
    "    - Una vez que tenemos las features de interés de nuestro set de datos, aplicar algún método de normalización sobre los mismos, para evitar tener un sesgo de unas variables sobre otra (se pueden utilizar técnicas como z-score/min-max scaling). Guardar el dataset normalizado con un nombre representativo.\n",
    "    - Finalmente, reducir los features de interés mediante sus combinaciones lineales (aplicando Principal Component Analysis). Guardar el dataset con nombre representativo.\n",
    "    - Enumere formas eficientes de guardado y acceso de grandes volúmenes de datos.\n",
    "    - Guardar todos los archivos depurados con nombres representativos.\n",
    "\n",
    "Bonus: entregar el práctico corriendo en una imágen de Docker."
   ]
  },
  {
   "cell_type": "markdown",
   "metadata": {},
   "source": [
    "Material de lectura recomendado:\n",
    "\n",
    "https://www.machinelearningplus.com/time-series/time-series-analysis-python/\n",
    "\n",
    "https://towardsdatascience.com/playing-with-time-series-data-in-python-959e2485bff8\n",
    "\n",
    "\n",
    "https://sebastianraschka.com/Articles/2014_about_feature_scaling.html"
   ]
  },
  {
   "cell_type": "markdown",
   "metadata": {},
   "source": [
    "## Consigna Práctico Introducción ML:\n",
    "En esta materia puntual lo importante es que el estudiante aprenda a hacer la division de los datos, la elección del modelo, evaluación de metricas, independientemente de la complejidad del dataset. Es por esto que se toman para el análisis variables simples del dataset. De esta manera el estudiante puede hacer foco en los conceptos que se desean fijar.\n",
    "\n",
    "Las variables a tratar serán:\n",
    "### Grupo Alpha:\n",
    "- Fecha y columna IsHoliday. El objetivo será construir un predictor que tome la fecha (tratada según criterio de los estudiantes) y prediga si en esa semana hay un feriado o no.\n",
    "\n",
    "### Grupo Omega:\n",
    "- Ventas, IsHoliday y columna IsMarkdown. El objetivo es tomar como entrada el valor de las ventas para una semana y la información de si tiene un día feriado, y predecir si hubo rebajas esa semana.\n",
    "\n",
    "Actividades:\n",
    "1. Importaciones. Seteo de semilla para reproducibilidad. Carga del Dataset. Selección y armado del subconjunto de las variables deseadas.\n",
    "2. División de los datos en conjunto de entrenamiento y test. El conjunto de entrenamiento se utilizará para la creación y selección de los clasificadores. Una vez elegido el model, este set también los servirá para la selección de los hiperparámetros. Una vez entrenado el modelo, se utilizará el conjunto de test (conjunto de datos independiente) para la evaluación del modelo final.\n",
    "3. Elección de un modelo. En este punto se deberán seguir los siguientes pasos:\n",
    "    - Selección de hipótesis: elegir la función/modelo que se utilizará para la implementación del clasificador.\n",
    "    - Selección del regularizador: analizar si es mejor regularizar con módulo o por cuadrados.\n",
    "    - Selección de la función de costo con la cual se va a optimizar el modelo.\n",
    "    - Para todos los casos justificar las selecciones.\n",
    "4. Selección de hiperparámetros. Luego de seleccionar y setear el modelo que se utilizará, variar sus hiperparámetros y quedarse con la mejor combinación.\n",
    "5. Evaluación del modelo final. Una vez seleccionados los hiperparámetros y entrenado el modelo, correrlo sobre el conjunto de test/evaluación. Utilizar las métricas que se crean convenientes. Siempre es bueno evaluar con más de una métrica. Que significa la acuracy de un modelo? En que se diferencian Precision y Recall? Cuando es conveniente usar cada una de estas métricas?\n",
    "6. Es el umbral por default el mejor umbral de decisión? En caso contrario, cual es el valor del umbral óptimo?"
   ]
  },
  {
   "cell_type": "markdown",
   "metadata": {},
   "source": [
    "## Ejemplo para selección de Modelo:\n",
    "clfs = [\n",
    "    KNeighborsClassifier(),\n",
    "    MultinomialNB(),\n",
    "    DecisionTreeClassifier(max_depth = 2, random_state=0),\n",
    "    LogisticRegression(random_state=0),\n",
    "    LinearSVC(random_state=0),\n",
    "    SVC(random_state=0),\n",
    "    RandomForestClassifier(random_state=0),\n",
    "]\n",
    "\n",
    "vect = CountVectorizer(binary=True)\n",
    "\n",
    "for clf in clfs:\n",
    "    print(str(clf.__class__))\n",
    "    pipeline = Pipeline([\n",
    "        ('vect', vect),\n",
    "        ('clf', clf),\n",
    "    ])\n",
    "    pipeline.fit(X_train, y_train)\n",
    "    \n",
    "    y_pred = pipeline.predict(X_train)\n",
    "    print(metrics.classification_report(y_train, y_pred, target_names=['accuweather',\n",
    "                                                                       'allianz',\n",
    "                                                                       'amazon',\n",
    "                                                                       'citigroup',\n",
    "                                                                       'fujitsu',\n",
    "                                                                       'garmin',\n",
    "                                                                       'github',\n",
    "                                                                       'ibm',\n",
    "                                                                       'metlife',\n",
    "                                                                       'uber',\n",
    "                                                                       'yahoo',\n",
    "                                                                       'zurich']))\n",
    "\n",
    "    y_pred = pipeline.predict(X_test)\n",
    "    print(metrics.classification_report(y_test, y_pred, target_names=['accuweather',\n",
    "                                                                       'allianz',\n",
    "                                                                       'amazon',\n",
    "                                                                       'citigroup',\n",
    "                                                                       'fujitsu',\n",
    "                                                                       'garmin',\n",
    "                                                                       'github',\n",
    "                                                                       'ibm',\n",
    "                                                                       'metlife',\n",
    "                                                                       'uber',\n",
    "                                                                       'yahoo',\n",
    "                                                                       'zurich']))"
   ]
  },
  {
   "cell_type": "markdown",
   "metadata": {},
   "source": [
    "Ejemplo para seleccion de parámetros:\n",
    "\n",
    "param_grid = {\n",
    "    'vect__binary': [True],\n",
    "    'vect__lowercase': [True],\n",
    "    'vect__sublinear_tf': [True, False],\n",
    "    'vect__ngram_range': [(1, 3), (1, 4),(1, 7)],\n",
    "    'vect__strip_accents': ['ascii'],\n",
    "    'vect__analyzer': ['word'],\n",
    "    'vect__min_df': [1, 2, 3],\n",
    "    'vect__max_df': [1.],\n",
    "    'clf__multi_class' : ['ovr', 'crammer_singer'],\n",
    "    'clf__random_state': [0],\n",
    "    'clf__fit_intercept':[True, False],\n",
    "    'clf__loss':['hinge', 'squared_hinge'],\n",
    "    'clf__C':[1.0, 0.1],\n",
    "}\n",
    "\n",
    "params_list = list(ParameterGrid(param_grid))\n",
    "\n",
    "pipeline = Pipeline([\n",
    "    ('vect', TfidfVectorizer()),\n",
    "    ('clf', LinearSVC()),\n",
    "])\n",
    "\n",
    "results = []\n",
    "print(len(params_list))\n",
    "\n",
    "bar = progressbar.ProgressBar(maxval=len(params_list), \n",
    "                              widgets=[progressbar.Bar('=', '[', ']'), ' ', \n",
    "                                       progressbar.Percentage()])\n",
    "bar.start()\n",
    "\n",
    "\n",
    "i = 0\n",
    "barra = ''\n",
    "for params in params_list:\n",
    "    bar.update(i+1)\n",
    "    pipeline.set_params(**params)\n",
    "    pipeline.fit(X_train, y_train)\n",
    "    \n",
    "    y_pred = pipeline.predict(X_test)\n",
    "    acc = metrics.accuracy_score(y_test, y_pred)\n",
    "    f1 = metrics.f1_score(y_test, y_pred, average='macro')\n",
    "    result = {'acc': acc, 'f1': f1}\n",
    "        \n",
    "    results.append({\n",
    "        **result,\n",
    "        **params,\n",
    "    })\n",
    "    i += 1\n",
    "bar.finish()\n",
    "\n",
    "results_df = pd.DataFrame(results)\n",
    "results_df.sort_values(['acc', 'f1'], ascending=False)[:10]"
   ]
  },
  {
   "cell_type": "markdown",
   "metadata": {},
   "source": [
    "# Consigna Práctico Aprendizaje Supervisado\n",
    "En este trabajo, se utilizarán herramientas y conocimientos adquiridos en materias previas para la preparación de los datos y selección de parámetros pero se hará foco en la evaluación de diferentes modelos de apredizaje supervisado para la resolución de un problema más complejo.\n",
    "\n",
    "La idea es que ambos grupos trabajen con variables diferentes para poder luego hacer una comparación entre ambos resultados:\n",
    "### Grupo Alpha:\n",
    "- Construir un modelo que prediga el valor de ventas (sales) en base a las features disponibles sin utilizar la fecha (usar numero de store, departamento, temperatura, tasa de desempleo, cpi, precio del combustible, columna is holiday y columna is markdown).\n",
    "\n",
    "### Grupo Omega:\n",
    "- Construir un modelo que prediga el valor de las ventas (sales), utilizando las variables anteriores, más el valor de la fecha (pre tratada correspondientemente).\n",
    "\n",
    "Luego de estos dos análisis podremos analizar como afecta la variable fecha a nuestros resultados. Si bien se considera la variable fecha, no se está teniendo en cuenta la secuencia de los datos como lo haríamos en un análisis de series temporales. Simplemente tomamos el valor día, mes, año sin evaluar la secuencia de los datos que tenemos. Este modelo no es el ideal para este tipo de análisis, pero es el adecuado para aplicar en base a los conocimientos vistos en la materia.\n",
    "\n",
    "## Actividades:\n",
    "1. Cargar el dataset, quedarse con las columnas de interés, division de los datos en conjuntos de train, test.\n",
    "2. Buscar la mejor representación para nuestras variables de entrada.\n",
    "2. Armar un baseline para resolver inicialmente nuestro problema (un modelo simple, como una regresión lineal, el cual nos sirve para evaluar como van mejorando nuestros resultados).\n",
    "3. ¿Cuáles son las mejores métricas para evaluar nuestros modelos predictivos?\n",
    "4. Armar modelos más complejos (logistic regression, SVMs, decision trees), entrenarlos y evaluar el comportamiento de cada uno con la métrica definida en 3. Quedarse con el modelo que mejor ajuste.\n",
    "5. Evaluar el mejor conjunto de hiperparámetros para el modelo elegido.\n",
    "6. Correr las métricas de evaluación contra el modelo final. Analizar puntualmente los casos en los que la predicción difiere mucho del valor real, ¿Qué sucede en estos casos?\n",
    "\n",
    "Bonus track (opcional): correr una LSTM con la columna fechas y sales como salidas. Las LSTM si tienen en cuenta secuencia de las fechas y probablemente mejoren significativamente los resultados.\n",
    "\n",
    "Link útil para corrida de LSTM: https://towardsdatascience.com/playing-with-time-series-data-in-python-959e2485bff8"
   ]
  },
  {
   "cell_type": "markdown",
   "metadata": {},
   "source": [
    "# Consigna Práctico Aprendizaje No Supervisado\n",
    "\n",
    "En este práctico se aplicarán algoritmos de clustering a los datos que venimos trabajando. La mayor parte del esfuerzo no va a estar en que algoritmo de clustering aplicar, sino en el trabajo/selección de los datos de entrada, variación de parámetros y análisis de las soluciones obtenidas. Se trabajará sobre dos ejes centrales. Uno será la agrupación de los datos en base a las features para poder analizar si las mismas nos ayudan a inferir el rango por el cual se mueven las ventas. El otro tratará de la agrupación de los usuarios en base a las tiendas que frecuentan, y la creación de un sistema de recomendación en base a los perfiles encontrados luego de la agrupación.\n",
    "\n",
    "## 1. Preparación de Dataset:\n",
    "\n",
    "### Grupo alpha\n",
    "\n",
    "Tomar los datos del archivo Sales y armar un Dataset con las siguientes características:\n",
    "\n",
    "- Fecha de la semana correspondiente a la venta.\n",
    "- Ventas. Para un análisis mas sencillo pasaremos la Weekly Sale a variable categórica. Teniendo en cuenta los valores máximos y mínimos de venta los dividiremos de forma tal que nos queden 3 categorías: venta baja, media y alta.\n",
    "- Store.\n",
    "- Departamento.\n",
    "- Temperatura, precio del combustible, CPI, tasa de desempleo, es feriado o no, hubo rebaja o no correspondientes a cada fecha.\n",
    "\n",
    "### Grupo omega:\n",
    "\n",
    "Tomar los datos del archivo Usuarios. Se deberá pasar la variable de las tiendas que frecuentan los usuarios a un vector tipo \"One Hot\" para poder procesarlo. Es decir se tendrá:\n",
    "\n",
    "- Nombre del usuario (desperzonalizado).\n",
    "- Vector con dimension igual al número de tiendas, con un 1 sobre las tiendas que frecuenta el usuario y un 0 sobre las que no frecuenta.\n",
    "    \n",
    "## 2. Aplicación, optimización y evaluación de modelo de aprendizaje no supervisado:\n",
    "\n",
    "### Grupo alpha:\n",
    "\n",
    "- Tomar las features (sin fecha y sin ventas) y correr un algoritmo de clustering (recomendado K Means), buscando encontrar un patrón por el cual podamos agrupar los datos. \n",
    "- Correr el algoritmo para diferentes valores de número de clusters.\n",
    "- ¿Cómo podríamos encontrar un valor óptimo de número de clusters? Encontrar dicho valor.\n",
    "- ¿Se ha logrado tener clusters con cantidades similares de elementos? Análisis de los resultados en función del balanceo que presentan los clusters.\n",
    "- Evaluar los resultados con la medida de pureza tomando a la variable categórica Ventas para la evaluación de la pureza dentro de cada cluster. ¿Hemos logrado encontrar un patrón que defina nuestras ventas?\n",
    "- Aplicar PCA para disminuir la cantidad de features y evaluar si este cambio arroja mejores resultados.\n",
    "\n",
    "### Grupo omega:\n",
    "\n",
    "- Tomar el vector correspondiente a las tiendas y correr un algoritmo de clustering (recomendado K Means), buscando encontrar un patrón por el cual podamos agrupar los datos. \n",
    "- Correr el algoritmo para diferentes valores de número de clusters. \n",
    "- ¿Cómo podríamos encontrar un valor óptimo de número de clusters? Encontrar dicho valor. \n",
    "- ¿Se ha logrado tener clusters con cantidades similares de elementos? Análisis de los resultados en función del balanceo que presentan los clusters.\n",
    "- Crear un sistema de recomendación en donde dado un usuario nuevo que entra al sistema, se lo asigna a un perfil de usuario y se le recomiendan las tiendas que corresponden a su perfil y que aún no ha visitado."
   ]
  },
  {
   "cell_type": "code",
   "execution_count": 1,
   "metadata": {},
   "outputs": [],
   "source": [
    "import os\n",
    "\n",
    "import matplotlib.pyplot as plt\n",
    "import numpy as np\n",
    "import pandas as pd\n",
    "from sklearn.cluster import KMeans\n",
    "from sklearn.preprocessing import StandardScaler\n",
    "%matplotlib inline"
   ]
  },
  {
   "cell_type": "code",
   "execution_count": 2,
   "metadata": {},
   "outputs": [],
   "source": [
    "# Seteamos el valor de la semilla\n",
    "np.random.seed(1234)"
   ]
  },
  {
   "cell_type": "code",
   "execution_count": 3,
   "metadata": {},
   "outputs": [],
   "source": [
    "CURRENT_DIR = os.path.dirname('__file__')\n",
    "DATASET_PATH = os.path.join(CURRENT_DIR, '../datasets')\n",
    "sales_features = pd.read_csv(os.path.join(DATASET_PATH, 'sales_features.csv'), parse_dates=['Date'])\n",
    "sales = pd.read_csv(os.path.join(DATASET_PATH, 'sales.csv'), parse_dates=['Date'])"
   ]
  },
  {
   "cell_type": "code",
   "execution_count": 4,
   "metadata": {
    "scrolled": true
   },
   "outputs": [
    {
     "data": {
      "text/html": [
       "<div>\n",
       "<style scoped>\n",
       "    .dataframe tbody tr th:only-of-type {\n",
       "        vertical-align: middle;\n",
       "    }\n",
       "\n",
       "    .dataframe tbody tr th {\n",
       "        vertical-align: top;\n",
       "    }\n",
       "\n",
       "    .dataframe thead th {\n",
       "        text-align: right;\n",
       "    }\n",
       "</style>\n",
       "<table border=\"1\" class=\"dataframe\">\n",
       "  <thead>\n",
       "    <tr style=\"text-align: right;\">\n",
       "      <th></th>\n",
       "      <th>Unnamed: 0</th>\n",
       "      <th>Store</th>\n",
       "      <th>Dept</th>\n",
       "      <th>Weekly_Sales</th>\n",
       "      <th>Sale Id</th>\n",
       "    </tr>\n",
       "  </thead>\n",
       "  <tbody>\n",
       "    <tr>\n",
       "      <th>count</th>\n",
       "      <td>425796.000000</td>\n",
       "      <td>425796.000000</td>\n",
       "      <td>425796.000000</td>\n",
       "      <td>425796.000000</td>\n",
       "      <td>425796.000000</td>\n",
       "    </tr>\n",
       "    <tr>\n",
       "      <th>mean</th>\n",
       "      <td>212897.500000</td>\n",
       "      <td>22.200035</td>\n",
       "      <td>44.260944</td>\n",
       "      <td>15980.254676</td>\n",
       "      <td>210779.929558</td>\n",
       "    </tr>\n",
       "    <tr>\n",
       "      <th>std</th>\n",
       "      <td>122916.861947</td>\n",
       "      <td>12.785342</td>\n",
       "      <td>30.494688</td>\n",
       "      <td>22711.970177</td>\n",
       "      <td>121698.163454</td>\n",
       "    </tr>\n",
       "    <tr>\n",
       "      <th>min</th>\n",
       "      <td>0.000000</td>\n",
       "      <td>1.000000</td>\n",
       "      <td>1.000000</td>\n",
       "      <td>-4988.940000</td>\n",
       "      <td>0.000000</td>\n",
       "    </tr>\n",
       "    <tr>\n",
       "      <th>25%</th>\n",
       "      <td>106448.750000</td>\n",
       "      <td>11.000000</td>\n",
       "      <td>18.000000</td>\n",
       "      <td>2080.495000</td>\n",
       "      <td>105381.750000</td>\n",
       "    </tr>\n",
       "    <tr>\n",
       "      <th>50%</th>\n",
       "      <td>212897.500000</td>\n",
       "      <td>22.000000</td>\n",
       "      <td>37.000000</td>\n",
       "      <td>7610.830000</td>\n",
       "      <td>210804.500000</td>\n",
       "    </tr>\n",
       "    <tr>\n",
       "      <th>75%</th>\n",
       "      <td>319346.250000</td>\n",
       "      <td>33.000000</td>\n",
       "      <td>74.000000</td>\n",
       "      <td>20204.122500</td>\n",
       "      <td>316161.250000</td>\n",
       "    </tr>\n",
       "    <tr>\n",
       "      <th>max</th>\n",
       "      <td>425795.000000</td>\n",
       "      <td>45.000000</td>\n",
       "      <td>99.000000</td>\n",
       "      <td>693099.360000</td>\n",
       "      <td>421569.000000</td>\n",
       "    </tr>\n",
       "  </tbody>\n",
       "</table>\n",
       "</div>"
      ],
      "text/plain": [
       "          Unnamed: 0          Store           Dept   Weekly_Sales  \\\n",
       "count  425796.000000  425796.000000  425796.000000  425796.000000   \n",
       "mean   212897.500000      22.200035      44.260944   15980.254676   \n",
       "std    122916.861947      12.785342      30.494688   22711.970177   \n",
       "min         0.000000       1.000000       1.000000   -4988.940000   \n",
       "25%    106448.750000      11.000000      18.000000    2080.495000   \n",
       "50%    212897.500000      22.000000      37.000000    7610.830000   \n",
       "75%    319346.250000      33.000000      74.000000   20204.122500   \n",
       "max    425795.000000      45.000000      99.000000  693099.360000   \n",
       "\n",
       "             Sale Id  \n",
       "count  425796.000000  \n",
       "mean   210779.929558  \n",
       "std    121698.163454  \n",
       "min         0.000000  \n",
       "25%    105381.750000  \n",
       "50%    210804.500000  \n",
       "75%    316161.250000  \n",
       "max    421569.000000  "
      ]
     },
     "execution_count": 4,
     "metadata": {},
     "output_type": "execute_result"
    }
   ],
   "source": [
    "sales.describe()"
   ]
  },
  {
   "cell_type": "code",
   "execution_count": 5,
   "metadata": {
    "scrolled": false
   },
   "outputs": [
    {
     "data": {
      "text/html": [
       "<div>\n",
       "<style scoped>\n",
       "    .dataframe tbody tr th:only-of-type {\n",
       "        vertical-align: middle;\n",
       "    }\n",
       "\n",
       "    .dataframe tbody tr th {\n",
       "        vertical-align: top;\n",
       "    }\n",
       "\n",
       "    .dataframe thead th {\n",
       "        text-align: right;\n",
       "    }\n",
       "</style>\n",
       "<table border=\"1\" class=\"dataframe\">\n",
       "  <thead>\n",
       "    <tr style=\"text-align: right;\">\n",
       "      <th></th>\n",
       "      <th>Date</th>\n",
       "      <th>Store</th>\n",
       "      <th>Dept</th>\n",
       "      <th>Weekly_Sales</th>\n",
       "    </tr>\n",
       "  </thead>\n",
       "  <tbody>\n",
       "    <tr>\n",
       "      <th>0</th>\n",
       "      <td>2010-05-02</td>\n",
       "      <td>1</td>\n",
       "      <td>1</td>\n",
       "      <td>24924.50</td>\n",
       "    </tr>\n",
       "    <tr>\n",
       "      <th>1</th>\n",
       "      <td>2010-12-02</td>\n",
       "      <td>1</td>\n",
       "      <td>1</td>\n",
       "      <td>46039.49</td>\n",
       "    </tr>\n",
       "    <tr>\n",
       "      <th>2</th>\n",
       "      <td>2010-02-19</td>\n",
       "      <td>1</td>\n",
       "      <td>1</td>\n",
       "      <td>41595.55</td>\n",
       "    </tr>\n",
       "    <tr>\n",
       "      <th>3</th>\n",
       "      <td>2010-02-26</td>\n",
       "      <td>1</td>\n",
       "      <td>1</td>\n",
       "      <td>19403.54</td>\n",
       "    </tr>\n",
       "    <tr>\n",
       "      <th>4</th>\n",
       "      <td>2010-05-03</td>\n",
       "      <td>1</td>\n",
       "      <td>1</td>\n",
       "      <td>21827.90</td>\n",
       "    </tr>\n",
       "  </tbody>\n",
       "</table>\n",
       "</div>"
      ],
      "text/plain": [
       "        Date  Store  Dept  Weekly_Sales\n",
       "0 2010-05-02      1     1      24924.50\n",
       "1 2010-12-02      1     1      46039.49\n",
       "2 2010-02-19      1     1      41595.55\n",
       "3 2010-02-26      1     1      19403.54\n",
       "4 2010-05-03      1     1      21827.90"
      ]
     },
     "execution_count": 5,
     "metadata": {},
     "output_type": "execute_result"
    }
   ],
   "source": [
    "sales_dataset = sales[['Date', 'Store', 'Dept', 'Weekly_Sales']]\n",
    "sales_dataset.head()"
   ]
  },
  {
   "cell_type": "code",
   "execution_count": 6,
   "metadata": {
    "scrolled": false
   },
   "outputs": [
    {
     "data": {
      "text/html": [
       "<div>\n",
       "<style scoped>\n",
       "    .dataframe tbody tr th:only-of-type {\n",
       "        vertical-align: middle;\n",
       "    }\n",
       "\n",
       "    .dataframe tbody tr th {\n",
       "        vertical-align: top;\n",
       "    }\n",
       "\n",
       "    .dataframe thead th {\n",
       "        text-align: right;\n",
       "    }\n",
       "</style>\n",
       "<table border=\"1\" class=\"dataframe\">\n",
       "  <thead>\n",
       "    <tr style=\"text-align: right;\">\n",
       "      <th></th>\n",
       "      <th>Unnamed: 0</th>\n",
       "      <th>Date</th>\n",
       "      <th>Store</th>\n",
       "      <th>Weekly_Sales</th>\n",
       "      <th>Temperature</th>\n",
       "      <th>Fuel_Price</th>\n",
       "      <th>CPI</th>\n",
       "      <th>Unemployment</th>\n",
       "      <th>IsHoliday</th>\n",
       "      <th>IsMarkdown</th>\n",
       "    </tr>\n",
       "  </thead>\n",
       "  <tbody>\n",
       "    <tr>\n",
       "      <th>0</th>\n",
       "      <td>0</td>\n",
       "      <td>2010-01-10</td>\n",
       "      <td>1</td>\n",
       "      <td>0.591512</td>\n",
       "      <td>0.608682</td>\n",
       "      <td>-1.64626</td>\n",
       "      <td>1.018802</td>\n",
       "      <td>-0.085913</td>\n",
       "      <td>0</td>\n",
       "      <td>0</td>\n",
       "    </tr>\n",
       "    <tr>\n",
       "      <th>1</th>\n",
       "      <td>1</td>\n",
       "      <td>2010-01-10</td>\n",
       "      <td>2</td>\n",
       "      <td>1.429318</td>\n",
       "      <td>0.464999</td>\n",
       "      <td>-1.64626</td>\n",
       "      <td>1.010109</td>\n",
       "      <td>0.087352</td>\n",
       "      <td>0</td>\n",
       "      <td>0</td>\n",
       "    </tr>\n",
       "    <tr>\n",
       "      <th>2</th>\n",
       "      <td>2</td>\n",
       "      <td>2010-01-10</td>\n",
       "      <td>3</td>\n",
       "      <td>-1.304047</td>\n",
       "      <td>0.701397</td>\n",
       "      <td>-1.64626</td>\n",
       "      <td>1.102979</td>\n",
       "      <td>-0.231989</td>\n",
       "      <td>0</td>\n",
       "      <td>0</td>\n",
       "    </tr>\n",
       "    <tr>\n",
       "      <th>3</th>\n",
       "      <td>3</td>\n",
       "      <td>2010-01-10</td>\n",
       "      <td>4</td>\n",
       "      <td>1.461051</td>\n",
       "      <td>0.178720</td>\n",
       "      <td>-1.61140</td>\n",
       "      <td>-1.152213</td>\n",
       "      <td>-0.464964</td>\n",
       "      <td>0</td>\n",
       "      <td>0</td>\n",
       "    </tr>\n",
       "    <tr>\n",
       "      <th>4</th>\n",
       "      <td>4</td>\n",
       "      <td>2010-01-10</td>\n",
       "      <td>5</td>\n",
       "      <td>-1.525981</td>\n",
       "      <td>0.565848</td>\n",
       "      <td>-1.64626</td>\n",
       "      <td>1.032904</td>\n",
       "      <td>-0.656355</td>\n",
       "      <td>0</td>\n",
       "      <td>0</td>\n",
       "    </tr>\n",
       "  </tbody>\n",
       "</table>\n",
       "</div>"
      ],
      "text/plain": [
       "   Unnamed: 0       Date  Store  Weekly_Sales  Temperature  Fuel_Price  \\\n",
       "0           0 2010-01-10      1      0.591512     0.608682    -1.64626   \n",
       "1           1 2010-01-10      2      1.429318     0.464999    -1.64626   \n",
       "2           2 2010-01-10      3     -1.304047     0.701397    -1.64626   \n",
       "3           3 2010-01-10      4      1.461051     0.178720    -1.61140   \n",
       "4           4 2010-01-10      5     -1.525981     0.565848    -1.64626   \n",
       "\n",
       "        CPI  Unemployment  IsHoliday  IsMarkdown  \n",
       "0  1.018802     -0.085913          0           0  \n",
       "1  1.010109      0.087352          0           0  \n",
       "2  1.102979     -0.231989          0           0  \n",
       "3 -1.152213     -0.464964          0           0  \n",
       "4  1.032904     -0.656355          0           0  "
      ]
     },
     "execution_count": 6,
     "metadata": {},
     "output_type": "execute_result"
    }
   ],
   "source": [
    "sales_features.head()"
   ]
  },
  {
   "cell_type": "markdown",
   "metadata": {},
   "source": [
    "Tomar los datos del archivo Sales y armar un Dataset con las siguientes características:\n",
    "\n",
    "- Fecha de la semana correspondiente a la venta.\n",
    "- Ventas. Para un análisis mas sencillo pasaremos la Weekly Sale a variable categórica. Teniendo en cuenta los valores máximos y mínimos de venta los dividiremos de forma tal que nos queden 3 categorías: venta baja, media y alta.\n",
    "- Store.\n",
    "- Departamento.\n",
    "- Temperatura, precio del combustible, CPI, tasa de desempleo, es feriado o no, hubo rebaja o no correspondientes a cada fecha."
   ]
  },
  {
   "cell_type": "markdown",
   "metadata": {},
   "source": [
    "Lo primero que vamos a hacer, es emparejar las ventas con los indicadores a partir de la fecha."
   ]
  },
  {
   "cell_type": "code",
   "execution_count": 7,
   "metadata": {},
   "outputs": [
    {
     "data": {
      "text/plain": [
       "Date            425796\n",
       "Store           425796\n",
       "Dept            425796\n",
       "Weekly_Sales    425796\n",
       "dtype: int64"
      ]
     },
     "execution_count": 7,
     "metadata": {},
     "output_type": "execute_result"
    }
   ],
   "source": [
    "sales_dataset.count()"
   ]
  },
  {
   "cell_type": "code",
   "execution_count": 8,
   "metadata": {},
   "outputs": [],
   "source": [
    "sales_dataset = pd.merge(sales_dataset, sales_features[['Date', 'Temperature', 'Fuel_Price', 'CPI', 'Unemployment', 'IsHoliday', 'IsMarkdown', 'Store']], on=['Date', 'Store'])"
   ]
  },
  {
   "cell_type": "code",
   "execution_count": 9,
   "metadata": {},
   "outputs": [
    {
     "data": {
      "text/plain": [
       "Date            425796\n",
       "Store           425796\n",
       "Dept            425796\n",
       "Weekly_Sales    425796\n",
       "Temperature     425796\n",
       "Fuel_Price      425796\n",
       "CPI             425796\n",
       "Unemployment    425796\n",
       "IsHoliday       425796\n",
       "IsMarkdown      425796\n",
       "dtype: int64"
      ]
     },
     "execution_count": 9,
     "metadata": {},
     "output_type": "execute_result"
    }
   ],
   "source": [
    "sales_dataset.count()"
   ]
  },
  {
   "cell_type": "markdown",
   "metadata": {},
   "source": [
    "Agregamos una nueva columna 'Venta' con las categorías 'Alta', 'Media' y 'Baja', utilizando la función qcut para separar el dataset por cuantiles"
   ]
  },
  {
   "cell_type": "code",
   "execution_count": 10,
   "metadata": {},
   "outputs": [],
   "source": [
    "sales_dataset['Venta'] = pd.qcut(sales_dataset['Weekly_Sales'], q=3, labels=['Baja', 'Media', 'Alta'])"
   ]
  },
  {
   "cell_type": "markdown",
   "metadata": {},
   "source": [
    "Validamos que para los datos estén bien separados en 3 categorías de igual tamaño"
   ]
  },
  {
   "cell_type": "code",
   "execution_count": 11,
   "metadata": {},
   "outputs": [
    {
     "data": {
      "text/plain": [
       "Date            141932\n",
       "Store           141932\n",
       "Dept            141932\n",
       "Weekly_Sales    141932\n",
       "Temperature     141932\n",
       "Fuel_Price      141932\n",
       "CPI             141932\n",
       "Unemployment    141932\n",
       "IsHoliday       141932\n",
       "IsMarkdown      141932\n",
       "Venta           141932\n",
       "dtype: int64"
      ]
     },
     "execution_count": 11,
     "metadata": {},
     "output_type": "execute_result"
    }
   ],
   "source": [
    "sales_dataset[sales_dataset['Venta']=='Alta'].count()"
   ]
  },
  {
   "cell_type": "code",
   "execution_count": 12,
   "metadata": {},
   "outputs": [
    {
     "data": {
      "text/plain": [
       "Date            141932\n",
       "Store           141932\n",
       "Dept            141932\n",
       "Weekly_Sales    141932\n",
       "Temperature     141932\n",
       "Fuel_Price      141932\n",
       "CPI             141932\n",
       "Unemployment    141932\n",
       "IsHoliday       141932\n",
       "IsMarkdown      141932\n",
       "Venta           141932\n",
       "dtype: int64"
      ]
     },
     "execution_count": 12,
     "metadata": {},
     "output_type": "execute_result"
    }
   ],
   "source": [
    "sales_dataset[sales_dataset['Venta']=='Media'].count()"
   ]
  },
  {
   "cell_type": "code",
   "execution_count": 13,
   "metadata": {},
   "outputs": [
    {
     "data": {
      "text/plain": [
       "Date            141932\n",
       "Store           141932\n",
       "Dept            141932\n",
       "Weekly_Sales    141932\n",
       "Temperature     141932\n",
       "Fuel_Price      141932\n",
       "CPI             141932\n",
       "Unemployment    141932\n",
       "IsHoliday       141932\n",
       "IsMarkdown      141932\n",
       "Venta           141932\n",
       "dtype: int64"
      ]
     },
     "execution_count": 13,
     "metadata": {},
     "output_type": "execute_result"
    }
   ],
   "source": [
    "sales_dataset[sales_dataset['Venta']=='Baja'].count()"
   ]
  },
  {
   "cell_type": "markdown",
   "metadata": {},
   "source": [
    "Ahora validamos que los rangos Alto/Medio/Bajo estén bien separados, es decir, que las ventas se hayan estratificado correctamente. Para esto analizamos los límites de cada intervalo"
   ]
  },
  {
   "cell_type": "code",
   "execution_count": 14,
   "metadata": {},
   "outputs": [
    {
     "data": {
      "text/plain": [
       "14596.51"
      ]
     },
     "execution_count": 14,
     "metadata": {},
     "output_type": "execute_result"
    }
   ],
   "source": [
    "sales_dataset[sales_dataset['Venta']=='Alta']['Weekly_Sales'].min()"
   ]
  },
  {
   "cell_type": "code",
   "execution_count": 15,
   "metadata": {},
   "outputs": [
    {
     "data": {
      "text/plain": [
       "14596.39"
      ]
     },
     "execution_count": 15,
     "metadata": {},
     "output_type": "execute_result"
    }
   ],
   "source": [
    "sales_dataset[sales_dataset['Venta']=='Media']['Weekly_Sales'].max()"
   ]
  },
  {
   "cell_type": "code",
   "execution_count": 16,
   "metadata": {},
   "outputs": [
    {
     "data": {
      "text/plain": [
       "3520.49"
      ]
     },
     "execution_count": 16,
     "metadata": {},
     "output_type": "execute_result"
    }
   ],
   "source": [
    "sales_dataset[sales_dataset['Venta']=='Media']['Weekly_Sales'].min()"
   ]
  },
  {
   "cell_type": "code",
   "execution_count": 17,
   "metadata": {},
   "outputs": [
    {
     "data": {
      "text/plain": [
       "3520.45"
      ]
     },
     "execution_count": 17,
     "metadata": {},
     "output_type": "execute_result"
    }
   ],
   "source": [
    "sales_dataset[sales_dataset['Venta']=='Baja']['Weekly_Sales'].max()"
   ]
  },
  {
   "cell_type": "markdown",
   "metadata": {},
   "source": [
    "Con esto ya concluimos la primera parte de preparación del dataset"
   ]
  },
  {
   "cell_type": "code",
   "execution_count": 18,
   "metadata": {},
   "outputs": [
    {
     "data": {
      "text/html": [
       "<div>\n",
       "<style scoped>\n",
       "    .dataframe tbody tr th:only-of-type {\n",
       "        vertical-align: middle;\n",
       "    }\n",
       "\n",
       "    .dataframe tbody tr th {\n",
       "        vertical-align: top;\n",
       "    }\n",
       "\n",
       "    .dataframe thead th {\n",
       "        text-align: right;\n",
       "    }\n",
       "</style>\n",
       "<table border=\"1\" class=\"dataframe\">\n",
       "  <thead>\n",
       "    <tr style=\"text-align: right;\">\n",
       "      <th></th>\n",
       "      <th>Date</th>\n",
       "      <th>Store</th>\n",
       "      <th>Dept</th>\n",
       "      <th>Weekly_Sales</th>\n",
       "      <th>Temperature</th>\n",
       "      <th>Fuel_Price</th>\n",
       "      <th>CPI</th>\n",
       "      <th>Unemployment</th>\n",
       "      <th>IsHoliday</th>\n",
       "      <th>IsMarkdown</th>\n",
       "      <th>Venta</th>\n",
       "    </tr>\n",
       "  </thead>\n",
       "  <tbody>\n",
       "    <tr>\n",
       "      <th>0</th>\n",
       "      <td>2010-05-02</td>\n",
       "      <td>1</td>\n",
       "      <td>1</td>\n",
       "      <td>24924.50</td>\n",
       "      <td>-0.995136</td>\n",
       "      <td>-1.7138</td>\n",
       "      <td>1.004175</td>\n",
       "      <td>0.056964</td>\n",
       "      <td>0</td>\n",
       "      <td>0</td>\n",
       "      <td>Alta</td>\n",
       "    </tr>\n",
       "    <tr>\n",
       "      <th>1</th>\n",
       "      <td>2010-05-02</td>\n",
       "      <td>1</td>\n",
       "      <td>2</td>\n",
       "      <td>50605.27</td>\n",
       "      <td>-0.995136</td>\n",
       "      <td>-1.7138</td>\n",
       "      <td>1.004175</td>\n",
       "      <td>0.056964</td>\n",
       "      <td>0</td>\n",
       "      <td>0</td>\n",
       "      <td>Alta</td>\n",
       "    </tr>\n",
       "    <tr>\n",
       "      <th>2</th>\n",
       "      <td>2010-05-02</td>\n",
       "      <td>1</td>\n",
       "      <td>3</td>\n",
       "      <td>13740.12</td>\n",
       "      <td>-0.995136</td>\n",
       "      <td>-1.7138</td>\n",
       "      <td>1.004175</td>\n",
       "      <td>0.056964</td>\n",
       "      <td>0</td>\n",
       "      <td>0</td>\n",
       "      <td>Media</td>\n",
       "    </tr>\n",
       "    <tr>\n",
       "      <th>3</th>\n",
       "      <td>2010-05-02</td>\n",
       "      <td>1</td>\n",
       "      <td>4</td>\n",
       "      <td>39954.04</td>\n",
       "      <td>-0.995136</td>\n",
       "      <td>-1.7138</td>\n",
       "      <td>1.004175</td>\n",
       "      <td>0.056964</td>\n",
       "      <td>0</td>\n",
       "      <td>0</td>\n",
       "      <td>Alta</td>\n",
       "    </tr>\n",
       "    <tr>\n",
       "      <th>4</th>\n",
       "      <td>2010-05-02</td>\n",
       "      <td>1</td>\n",
       "      <td>5</td>\n",
       "      <td>32229.38</td>\n",
       "      <td>-0.995136</td>\n",
       "      <td>-1.7138</td>\n",
       "      <td>1.004175</td>\n",
       "      <td>0.056964</td>\n",
       "      <td>0</td>\n",
       "      <td>0</td>\n",
       "      <td>Alta</td>\n",
       "    </tr>\n",
       "  </tbody>\n",
       "</table>\n",
       "</div>"
      ],
      "text/plain": [
       "        Date  Store  Dept  Weekly_Sales  Temperature  Fuel_Price       CPI  \\\n",
       "0 2010-05-02      1     1      24924.50    -0.995136     -1.7138  1.004175   \n",
       "1 2010-05-02      1     2      50605.27    -0.995136     -1.7138  1.004175   \n",
       "2 2010-05-02      1     3      13740.12    -0.995136     -1.7138  1.004175   \n",
       "3 2010-05-02      1     4      39954.04    -0.995136     -1.7138  1.004175   \n",
       "4 2010-05-02      1     5      32229.38    -0.995136     -1.7138  1.004175   \n",
       "\n",
       "   Unemployment  IsHoliday  IsMarkdown  Venta  \n",
       "0      0.056964          0           0   Alta  \n",
       "1      0.056964          0           0   Alta  \n",
       "2      0.056964          0           0  Media  \n",
       "3      0.056964          0           0   Alta  \n",
       "4      0.056964          0           0   Alta  "
      ]
     },
     "execution_count": 18,
     "metadata": {},
     "output_type": "execute_result"
    }
   ],
   "source": [
    "sales_dataset.head()"
   ]
  },
  {
   "cell_type": "markdown",
   "metadata": {},
   "source": [
    "- Tomar las features (sin fecha y sin ventas) y correr un algoritmo de clustering (recomendado K Means), buscando encontrar un patrón por el cual podamos agrupar los datos. \n",
    "- Correr el algoritmo para diferentes valores de número de clusters.\n",
    "- ¿Cómo podríamos encontrar un valor óptimo de número de clusters? Encontrar dicho valor.\n",
    "- ¿Se ha logrado tener clusters con cantidades similares de elementos? Análisis de los resultados en función del balanceo que presentan los clusters.\n",
    "- Evaluar los resultados con la medida de pureza tomando a la variable categórica Ventas para la evaluación de la pureza dentro de cada cluster. ¿Hemos logrado encontrar un patrón que defina nuestras ventas?\n",
    "- Aplicar PCA para disminuir la cantidad de features y evaluar si este cambio arroja mejores resultados."
   ]
  },
  {
   "cell_type": "code",
   "execution_count": 19,
   "metadata": {},
   "outputs": [],
   "source": [
    "cluster_dataset = sales_dataset.drop(['Date', 'Weekly_Sales', 'Venta'], axis=1)"
   ]
  },
  {
   "cell_type": "code",
   "execution_count": 20,
   "metadata": {},
   "outputs": [
    {
     "data": {
      "text/html": [
       "<div>\n",
       "<style scoped>\n",
       "    .dataframe tbody tr th:only-of-type {\n",
       "        vertical-align: middle;\n",
       "    }\n",
       "\n",
       "    .dataframe tbody tr th {\n",
       "        vertical-align: top;\n",
       "    }\n",
       "\n",
       "    .dataframe thead th {\n",
       "        text-align: right;\n",
       "    }\n",
       "</style>\n",
       "<table border=\"1\" class=\"dataframe\">\n",
       "  <thead>\n",
       "    <tr style=\"text-align: right;\">\n",
       "      <th></th>\n",
       "      <th>Store</th>\n",
       "      <th>Dept</th>\n",
       "      <th>Temperature</th>\n",
       "      <th>Fuel_Price</th>\n",
       "      <th>CPI</th>\n",
       "      <th>Unemployment</th>\n",
       "      <th>IsHoliday</th>\n",
       "      <th>IsMarkdown</th>\n",
       "    </tr>\n",
       "  </thead>\n",
       "  <tbody>\n",
       "    <tr>\n",
       "      <th>0</th>\n",
       "      <td>1</td>\n",
       "      <td>1</td>\n",
       "      <td>-0.995136</td>\n",
       "      <td>-1.7138</td>\n",
       "      <td>1.004175</td>\n",
       "      <td>0.056964</td>\n",
       "      <td>0</td>\n",
       "      <td>0</td>\n",
       "    </tr>\n",
       "    <tr>\n",
       "      <th>1</th>\n",
       "      <td>1</td>\n",
       "      <td>2</td>\n",
       "      <td>-0.995136</td>\n",
       "      <td>-1.7138</td>\n",
       "      <td>1.004175</td>\n",
       "      <td>0.056964</td>\n",
       "      <td>0</td>\n",
       "      <td>0</td>\n",
       "    </tr>\n",
       "    <tr>\n",
       "      <th>2</th>\n",
       "      <td>1</td>\n",
       "      <td>3</td>\n",
       "      <td>-0.995136</td>\n",
       "      <td>-1.7138</td>\n",
       "      <td>1.004175</td>\n",
       "      <td>0.056964</td>\n",
       "      <td>0</td>\n",
       "      <td>0</td>\n",
       "    </tr>\n",
       "    <tr>\n",
       "      <th>3</th>\n",
       "      <td>1</td>\n",
       "      <td>4</td>\n",
       "      <td>-0.995136</td>\n",
       "      <td>-1.7138</td>\n",
       "      <td>1.004175</td>\n",
       "      <td>0.056964</td>\n",
       "      <td>0</td>\n",
       "      <td>0</td>\n",
       "    </tr>\n",
       "    <tr>\n",
       "      <th>4</th>\n",
       "      <td>1</td>\n",
       "      <td>5</td>\n",
       "      <td>-0.995136</td>\n",
       "      <td>-1.7138</td>\n",
       "      <td>1.004175</td>\n",
       "      <td>0.056964</td>\n",
       "      <td>0</td>\n",
       "      <td>0</td>\n",
       "    </tr>\n",
       "  </tbody>\n",
       "</table>\n",
       "</div>"
      ],
      "text/plain": [
       "   Store  Dept  Temperature  Fuel_Price       CPI  Unemployment  IsHoliday  \\\n",
       "0      1     1    -0.995136     -1.7138  1.004175      0.056964          0   \n",
       "1      1     2    -0.995136     -1.7138  1.004175      0.056964          0   \n",
       "2      1     3    -0.995136     -1.7138  1.004175      0.056964          0   \n",
       "3      1     4    -0.995136     -1.7138  1.004175      0.056964          0   \n",
       "4      1     5    -0.995136     -1.7138  1.004175      0.056964          0   \n",
       "\n",
       "   IsMarkdown  \n",
       "0           0  \n",
       "1           0  \n",
       "2           0  \n",
       "3           0  \n",
       "4           0  "
      ]
     },
     "execution_count": 20,
     "metadata": {},
     "output_type": "execute_result"
    }
   ],
   "source": [
    "cluster_dataset.head()"
   ]
  },
  {
   "cell_type": "code",
   "execution_count": 21,
   "metadata": {},
   "outputs": [
    {
     "data": {
      "text/plain": [
       "Text(0.5, 1.0, 'Inertia of k-Means versus number of clusters')"
      ]
     },
     "execution_count": 21,
     "metadata": {},
     "output_type": "execute_result"
    },
    {
     "data": {
      "image/png": "[encoded data removed]",
      "text/plain": [
       "<Figure size 432x288 with 1 Axes>"
      ]
     },
     "metadata": {
      "needs_background": "light"
     },
     "output_type": "display_data"
    }
   ],
   "source": [
    "#Prueba: para elegir el hiperparámetro n_clusters, variando de 2 a 11 clusters\n",
    "scores = [KMeans(n_clusters=i+2).fit(cluster_dataset).inertia_ for i in range(10)]\n",
    "plt.plot(np.arange(2, 12), scores)\n",
    "plt.xlabel('Number of clusters')\n",
    "plt.ylabel(\"Inertia\")\n",
    "plt.title(\"Inertia of k-Means versus number of clusters\")"
   ]
  },
  {
   "cell_type": "markdown",
   "metadata": {},
   "source": [
    "Hay un pequeño codo entre 3 y 4 clusters. Vamos a probar utilizando 3 clusters para realizar el análisis."
   ]
  },
  {
   "cell_type": "code",
   "execution_count": 22,
   "metadata": {},
   "outputs": [],
   "source": [
    "num_clusters =  3"
   ]
  },
  {
   "cell_type": "code",
   "execution_count": 23,
   "metadata": {},
   "outputs": [
    {
     "name": "stdout",
     "output_type": "stream",
     "text": [
      "105998540.79491264\n"
     ]
    }
   ],
   "source": [
    "model = KMeans(n_clusters=num_clusters)\n",
    "model.fit(cluster_dataset)\n",
    "print(model.inertia_)"
   ]
  },
  {
   "cell_type": "code",
   "execution_count": 24,
   "metadata": {},
   "outputs": [
    {
     "name": "stdout",
     "output_type": "stream",
     "text": [
      "Counter({2: 167587, 0: 133490, 1: 124719})\n"
     ]
    }
   ],
   "source": [
    "from collections import Counter, defaultdict\n",
    "print(Counter(model.labels_))"
   ]
  },
  {
   "cell_type": "markdown",
   "metadata": {},
   "source": [
    "No hay una diferencia significativa entre la cantidad de elementos de cada cluster. Podríamos decir que están balanceados."
   ]
  },
  {
   "cell_type": "code",
   "execution_count": 25,
   "metadata": {},
   "outputs": [],
   "source": [
    "clusters_indices = defaultdict(list)\n",
    "for index, c  in enumerate(model.labels_):\n",
    "    clusters_indices[c].append(index)"
   ]
  },
  {
   "cell_type": "code",
   "execution_count": 26,
   "metadata": {
    "scrolled": true
   },
   "outputs": [
    {
     "name": "stdout",
     "output_type": "stream",
     "text": [
      "Elementos para el cluster 0:\n",
      "Baja     69002\n",
      "Media    42190\n",
      "Alta     22298\n",
      "Name: Venta, dtype: int64\n",
      "\n",
      "Elementos para el cluster 1:\n",
      "Alta     59421\n",
      "Media    37326\n",
      "Baja     27972\n",
      "Name: Venta, dtype: int64\n",
      "\n",
      "Elementos para el cluster 2:\n",
      "Media    62416\n",
      "Alta     60213\n",
      "Baja     44958\n",
      "Name: Venta, dtype: int64\n",
      "\n"
     ]
    }
   ],
   "source": [
    "for i in range((len(clusters_indices))):\n",
    "    print(f'Elementos para el cluster {i}:')\n",
    "    print(sales_dataset.loc[clusters_indices[i]]['Venta'].value_counts())\n",
    "    print()"
   ]
  },
  {
   "cell_type": "markdown",
   "metadata": {},
   "source": [
    "Podemos observar que los clusters contienen un número balanceado de clases de ventas. Es decir, que no pudo encontrar una clara separación entre ventas bajas, medias o altas como hubiéramos esperado. "
   ]
  },
  {
   "cell_type": "code",
   "execution_count": 27,
   "metadata": {},
   "outputs": [
    {
     "name": "stdout",
     "output_type": "stream",
     "text": [
      "La pureza obtenida es de: 0.44819350111320916\n"
     ]
    }
   ],
   "source": [
    "acum = 0\n",
    "total = 0\n",
    "for cluster in clusters_indices.values():\n",
    "    acum += sales_dataset.loc[cluster]['Venta'].value_counts().max()\n",
    "    total += sum(sales_dataset.loc[cluster]['Venta'].value_counts())\n",
    "print(f'La pureza obtenida es de: {acum / total}')"
   ]
  },
  {
   "cell_type": "code",
   "execution_count": 28,
   "metadata": {},
   "outputs": [
    {
     "data": {
      "text/plain": [
       "PCA(copy=True, iterated_power='auto', n_components=1, random_state=None,\n",
       "    svd_solver='auto', tol=0.0, whiten=False)"
      ]
     },
     "execution_count": 28,
     "metadata": {},
     "output_type": "execute_result"
    }
   ],
   "source": [
    "from sklearn.decomposition import PCA\n",
    "pca = PCA(n_components=1)\n",
    "pca.fit(cluster_dataset)# obtener los componentes principales"
   ]
  },
  {
   "cell_type": "code",
   "execution_count": 29,
   "metadata": {},
   "outputs": [
    {
     "name": "stdout",
     "output_type": "stream",
     "text": [
      "shape of X_pca (425796, 1)\n"
     ]
    }
   ],
   "source": [
    "cluster_dataset_pca=pca.transform(cluster_dataset) # convertimos nuestros datos con las nuevas dimensiones de PCA\n",
    "print(\"shape of X_pca\", cluster_dataset_pca.shape)"
   ]
  },
  {
   "cell_type": "code",
   "execution_count": 30,
   "metadata": {},
   "outputs": [
    {
     "data": {
      "text/plain": [
       "array([[-43.51822695],\n",
       "       [-42.51830219],\n",
       "       [-41.51837744],\n",
       "       ...,\n",
       "       [ 53.01474884],\n",
       "       [ 54.01467359],\n",
       "       [ 28.01663001]])"
      ]
     },
     "execution_count": 30,
     "metadata": {},
     "output_type": "execute_result"
    }
   ],
   "source": [
    "cluster_dataset_pca"
   ]
  },
  {
   "cell_type": "code",
   "execution_count": 31,
   "metadata": {},
   "outputs": [
    {
     "name": "stdout",
     "output_type": "stream",
     "text": [
      "[0.84729342]\n"
     ]
    }
   ],
   "source": [
    "expl = pca.explained_variance_ratio_\n",
    "print(expl)"
   ]
  },
  {
   "cell_type": "code",
   "execution_count": 32,
   "metadata": {},
   "outputs": [
    {
     "data": {
      "text/plain": [
       "StandardScaler(copy=True, with_mean=True, with_std=True)"
      ]
     },
     "execution_count": 32,
     "metadata": {},
     "output_type": "execute_result"
    }
   ],
   "source": [
    "scaler = StandardScaler()\n",
    "scaler.fit(cluster_dataset_pca)"
   ]
  },
  {
   "cell_type": "code",
   "execution_count": 33,
   "metadata": {},
   "outputs": [
    {
     "data": {
      "text/plain": [
       "array([[-1.42698882],\n",
       "       [-1.39420068],\n",
       "       [-1.36141255],\n",
       "       ...,\n",
       "       [ 1.73838548],\n",
       "       [ 1.77117361],\n",
       "       [ 0.91868214]])"
      ]
     },
     "execution_count": 33,
     "metadata": {},
     "output_type": "execute_result"
    }
   ],
   "source": [
    "data_scaled = scaler.transform(cluster_dataset_pca)\n",
    "data_scaled"
   ]
  },
  {
   "cell_type": "code",
   "execution_count": 34,
   "metadata": {},
   "outputs": [
    {
     "data": {
      "text/plain": [
       "Text(0.5, 1.0, 'Inertia of k-Means versus number of clusters')"
      ]
     },
     "execution_count": 34,
     "metadata": {},
     "output_type": "execute_result"
    },
    {
     "data": {
      "image/png": "[encoded data removed]",
      "text/plain": [
       "<Figure size 432x288 with 1 Axes>"
      ]
     },
     "metadata": {
      "needs_background": "light"
     },
     "output_type": "display_data"
    }
   ],
   "source": [
    "#Prueba: para elegir el hiperparámetro n_clusters, variando de 2 a 11 clusters\n",
    "scores = [KMeans(n_clusters=i+2).fit(data_scaled).inertia_ for i in range(10)]\n",
    "plt.plot(np.arange(2, 12), scores)\n",
    "plt.xlabel('Number of clusters')\n",
    "plt.ylabel(\"Inertia\")\n",
    "plt.title(\"Inertia of k-Means versus number of clusters\")"
   ]
  },
  {
   "cell_type": "markdown",
   "metadata": {},
   "source": [
    "En este caso podemos observar que hay un \"codo\" en 4 clusters. Vamos a tomar entonces ese valor."
   ]
  },
  {
   "cell_type": "code",
   "execution_count": 35,
   "metadata": {},
   "outputs": [],
   "source": [
    "num_clusters = 4"
   ]
  },
  {
   "cell_type": "code",
   "execution_count": 36,
   "metadata": {},
   "outputs": [
    {
     "name": "stdout",
     "output_type": "stream",
     "text": [
      "21368.79998921445\n"
     ]
    }
   ],
   "source": [
    "model = KMeans(n_clusters=num_clusters)\n",
    "model.fit(data_scaled)\n",
    "print(model.inertia_)"
   ]
  },
  {
   "cell_type": "code",
   "execution_count": 37,
   "metadata": {},
   "outputs": [
    {
     "name": "stdout",
     "output_type": "stream",
     "text": [
      "Counter({3: 119335, 1: 118668, 0: 118081, 2: 69712})\n"
     ]
    }
   ],
   "source": [
    "from collections import Counter, defaultdict\n",
    "print(Counter(model.labels_))"
   ]
  },
  {
   "cell_type": "code",
   "execution_count": 38,
   "metadata": {},
   "outputs": [],
   "source": [
    "clusters_indices = defaultdict(list)\n",
    "for index, c  in enumerate(model.labels_):\n",
    "    clusters_indices[c].append(index)"
   ]
  },
  {
   "cell_type": "code",
   "execution_count": 39,
   "metadata": {},
   "outputs": [
    {
     "name": "stdout",
     "output_type": "stream",
     "text": [
      "Elementos para el cluster 0:\n",
      "Alta     58689\n",
      "Media    33126\n",
      "Baja     26266\n",
      "Name: Venta, dtype: int64\n",
      "\n",
      "Elementos para el cluster 1:\n",
      "Alta     52491\n",
      "Media    40196\n",
      "Baja     25981\n",
      "Name: Venta, dtype: int64\n",
      "\n",
      "Elementos para el cluster 2:\n",
      "Baja     41733\n",
      "Media    21025\n",
      "Alta      6954\n",
      "Name: Venta, dtype: int64\n",
      "\n",
      "Elementos para el cluster 3:\n",
      "Baja     47952\n",
      "Media    47585\n",
      "Alta     23798\n",
      "Name: Venta, dtype: int64\n",
      "\n"
     ]
    }
   ],
   "source": [
    "for i in range((len(clusters_indices))):\n",
    "    print(f'Elementos para el cluster {i}:')\n",
    "    print(sales_dataset.loc[clusters_indices[i]]['Venta'].value_counts())\n",
    "    print()"
   ]
  },
  {
   "cell_type": "code",
   "execution_count": 40,
   "metadata": {},
   "outputs": [
    {
     "name": "stdout",
     "output_type": "stream",
     "text": [
      "La pureza obtenida es de: 0.47173998816334584\n"
     ]
    }
   ],
   "source": [
    "acum = 0\n",
    "total = 0\n",
    "for cluster in clusters_indices.values():\n",
    "    acum += sales_dataset.loc[cluster]['Venta'].value_counts().max()\n",
    "    total += sum(sales_dataset.loc[cluster]['Venta'].value_counts())\n",
    "print(f'La pureza obtenida es de: {acum / total}')"
   ]
  },
  {
   "cell_type": "markdown",
   "metadata": {},
   "source": [
    "Luego de realizar un análisis, podemos afirmar que no se han podido formar clusters que separen los niveles de ventas. Luego de aplicar PCA, los resultados obtenidos fueron similares a los que obtuvimos anteriormente."
   ]
  }
 ],
 "metadata": {
  "kernelspec": {
   "display_name": "Python 3",
   "language": "python",
   "name": "python3"
  },
  "language_info": {
   "codemirror_mode": {
    "name": "ipython",
    "version": 3
   },
   "file_extension": ".py",
   "mimetype": "text/x-python",
   "name": "python",
   "nbconvert_exporter": "python",
   "pygments_lexer": "ipython3",
   "version": "3.7.3"
  }
 },
 "nbformat": 4,
 "nbformat_minor": 2
}
